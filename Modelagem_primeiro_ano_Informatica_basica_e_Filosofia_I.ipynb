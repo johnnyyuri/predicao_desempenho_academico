{
 "cells": [
  {
   "cell_type": "code",
   "execution_count": 1,
   "metadata": {},
   "outputs": [],
   "source": [
    "import sklearn\n",
    "import pandas as pd\n",
    "import numpy as np\n",
    "from numpy import mean\n",
    "from sklearn.metrics import classification_report, confusion_matrix, accuracy_score, precision_score, recall_score, roc_curve, auc\n",
    "from sklearn.model_selection import cross_val_score\n",
    "from collections import Counter\n",
    "#from sklearn.model_selection import RepeatedStratifiedKFold\n",
    "from sklearn.model_selection import StratifiedKFold\n",
    "from sklearn.pipeline import Pipeline\n",
    "from sklearn.ensemble import GradientBoostingClassifier\n",
    "from sklearn.ensemble import RandomForestClassifier\n",
    "from sklearn import svm\n",
    "from sklearn.naive_bayes import MultinomialNB\n",
    "from sklearn.neighbors import KNeighborsClassifier\n",
    "import imblearn\n",
    "from imblearn.over_sampling import SMOTE\n",
    "from imblearn.over_sampling import RandomOverSampler\n",
    "from imblearn.under_sampling import RandomUnderSampler\n",
    "from imblearn.under_sampling import TomekLinks\n",
    "from imblearn.pipeline import Pipeline\n",
    "from time import time\n",
    "from sklearn.model_selection import GridSearchCV"
   ]
  },
  {
   "cell_type": "code",
   "execution_count": 2,
   "metadata": {},
   "outputs": [],
   "source": [
    "from xgboost import XGBClassifier"
   ]
  },
  {
   "cell_type": "markdown",
   "metadata": {},
   "source": [
    "### Importantar o dataset\n",
    "#### O arquivo precisa está na mesma pasta do notebook"
   ]
  },
  {
   "cell_type": "code",
   "execution_count": 3,
   "metadata": {},
   "outputs": [],
   "source": [
    "dfs = pd.read_csv('suap_gsa_Info_Basica.csv', sep=';'  , engine='python')"
   ]
  },
  {
   "cell_type": "code",
   "execution_count": 4,
   "metadata": {},
   "outputs": [
    {
     "data": {
      "text/plain": [
       "(125, 35)"
      ]
     },
     "execution_count": 4,
     "metadata": {},
     "output_type": "execute_result"
    }
   ],
   "source": [
    "dfs.shape"
   ]
  },
  {
   "cell_type": "code",
   "execution_count": 5,
   "metadata": {},
   "outputs": [],
   "source": [
    "dfs2 = pd.read_csv('suap_gsa_Filosofia_I.csv', sep=';'  , engine='python')"
   ]
  },
  {
   "cell_type": "code",
   "execution_count": 6,
   "metadata": {},
   "outputs": [
    {
     "data": {
      "text/plain": [
       "(134, 35)"
      ]
     },
     "execution_count": 6,
     "metadata": {},
     "output_type": "execute_result"
    }
   ],
   "source": [
    "dfs2.shape"
   ]
  },
  {
   "cell_type": "code",
   "execution_count": 8,
   "metadata": {},
   "outputs": [],
   "source": [
    "dfs = dfs.append(dfs2, ignore_index = True) "
   ]
  },
  {
   "cell_type": "code",
   "execution_count": 9,
   "metadata": {},
   "outputs": [],
   "source": [
    "dados = dfs.copy()"
   ]
  },
  {
   "cell_type": "markdown",
   "metadata": {},
   "source": [
    "del dados['Unnamed: 0']"
   ]
  },
  {
   "cell_type": "code",
   "execution_count": 11,
   "metadata": {},
   "outputs": [],
   "source": [
    "del dados['Codigo Situacao final bimestre']"
   ]
  },
  {
   "cell_type": "code",
   "execution_count": 11,
   "metadata": {},
   "outputs": [
    {
     "data": {
      "text/plain": [
       "(259, 34)"
      ]
     },
     "execution_count": 11,
     "metadata": {},
     "output_type": "execute_result"
    }
   ],
   "source": [
    "dados.shape"
   ]
  },
  {
   "cell_type": "code",
   "execution_count": 12,
   "metadata": {},
   "outputs": [
    {
     "data": {
      "text/plain": [
       "Index(['Q1 - Nota', 'Q2 - Nota', 'Q1 - Tempo envio', 'Q2 - Tempo envio',\n",
       "       'S1 - Tempo ultimo acesso', 'S2 - Tempo ultimo acesso',\n",
       "       'Ano de Ingresso', 'Idade', 'curso_integrado_MSI',\n",
       "       'curso_integrado_MUSICA', 'curso_integrado_TED', 'sexo_F', 'sexo_M',\n",
       "       'cor_raca_Amarela', 'cor_raca_Branca', 'cor_raca_Nao declarada',\n",
       "       'cor_raca_Parda', 'cor_raca_Preta', 'tipo_escola_origem_Privada',\n",
       "       'tipo_escola_origem_Publica', 'zona_residencial_Rural',\n",
       "       'zona_residencial_Urbana', 'cota_SISTEC_Cor/Raca',\n",
       "       'cota_SISTEC_Escola Publica', 'cota_SISTEC_Nao se aplica',\n",
       "       'cota_SISTEC_Necessidades Especiais', 'cota_MEC_Nao se aplica',\n",
       "       'cota_MEC_publica', 'cota_MEC_publica_PPI',\n",
       "       'cota_MEC_publica_renda_menor_1,5SM',\n",
       "       'cota_MEC_publica_renda_menor_1,5SM_PCD',\n",
       "       'cota_MEC_publica_renda_menor_1,5SM_PPI',\n",
       "       'cota_MEC_publica_renda_menor_1,5SM_PPI_PCD', 'Escola de Origem'],\n",
       "      dtype='object')"
      ]
     },
     "execution_count": 12,
     "metadata": {},
     "output_type": "execute_result"
    }
   ],
   "source": [
    "dados.columns"
   ]
  },
  {
   "cell_type": "code",
   "execution_count": 13,
   "metadata": {},
   "outputs": [
    {
     "data": {
      "text/html": [
       "<div>\n",
       "<style scoped>\n",
       "    .dataframe tbody tr th:only-of-type {\n",
       "        vertical-align: middle;\n",
       "    }\n",
       "\n",
       "    .dataframe tbody tr th {\n",
       "        vertical-align: top;\n",
       "    }\n",
       "\n",
       "    .dataframe thead th {\n",
       "        text-align: right;\n",
       "    }\n",
       "</style>\n",
       "<table border=\"1\" class=\"dataframe\">\n",
       "  <thead>\n",
       "    <tr style=\"text-align: right;\">\n",
       "      <th></th>\n",
       "      <th>Q1 - Nota</th>\n",
       "      <th>Q2 - Nota</th>\n",
       "      <th>Q1 - Tempo envio</th>\n",
       "      <th>Q2 - Tempo envio</th>\n",
       "      <th>S1 - Tempo ultimo acesso</th>\n",
       "      <th>S2 - Tempo ultimo acesso</th>\n",
       "      <th>Ano de Ingresso</th>\n",
       "      <th>Idade</th>\n",
       "      <th>curso_integrado_MSI</th>\n",
       "      <th>curso_integrado_MUSICA</th>\n",
       "      <th>...</th>\n",
       "      <th>cota_SISTEC_Nao se aplica</th>\n",
       "      <th>cota_SISTEC_Necessidades Especiais</th>\n",
       "      <th>cota_MEC_Nao se aplica</th>\n",
       "      <th>cota_MEC_publica</th>\n",
       "      <th>cota_MEC_publica_PPI</th>\n",
       "      <th>cota_MEC_publica_renda_menor_1,5SM</th>\n",
       "      <th>cota_MEC_publica_renda_menor_1,5SM_PCD</th>\n",
       "      <th>cota_MEC_publica_renda_menor_1,5SM_PPI</th>\n",
       "      <th>cota_MEC_publica_renda_menor_1,5SM_PPI_PCD</th>\n",
       "      <th>Escola de Origem</th>\n",
       "    </tr>\n",
       "  </thead>\n",
       "  <tbody>\n",
       "    <tr>\n",
       "      <th>count</th>\n",
       "      <td>259.000000</td>\n",
       "      <td>259.000000</td>\n",
       "      <td>259.000000</td>\n",
       "      <td>259.000000</td>\n",
       "      <td>259.000000</td>\n",
       "      <td>259.000000</td>\n",
       "      <td>259.000000</td>\n",
       "      <td>259.000000</td>\n",
       "      <td>259.000000</td>\n",
       "      <td>259.000000</td>\n",
       "      <td>...</td>\n",
       "      <td>259.000000</td>\n",
       "      <td>259.000000</td>\n",
       "      <td>259.000000</td>\n",
       "      <td>259.000000</td>\n",
       "      <td>259.000000</td>\n",
       "      <td>259.000000</td>\n",
       "      <td>259.000000</td>\n",
       "      <td>259.000000</td>\n",
       "      <td>259.000000</td>\n",
       "      <td>259.000000</td>\n",
       "    </tr>\n",
       "    <tr>\n",
       "      <th>mean</th>\n",
       "      <td>74.024024</td>\n",
       "      <td>73.306139</td>\n",
       "      <td>19.324324</td>\n",
       "      <td>15.220077</td>\n",
       "      <td>12.486486</td>\n",
       "      <td>13.652510</td>\n",
       "      <td>2019.907336</td>\n",
       "      <td>15.888031</td>\n",
       "      <td>0.351351</td>\n",
       "      <td>0.301158</td>\n",
       "      <td>...</td>\n",
       "      <td>0.474903</td>\n",
       "      <td>0.034749</td>\n",
       "      <td>0.486486</td>\n",
       "      <td>0.054054</td>\n",
       "      <td>0.193050</td>\n",
       "      <td>0.108108</td>\n",
       "      <td>0.007722</td>\n",
       "      <td>0.135135</td>\n",
       "      <td>0.015444</td>\n",
       "      <td>35.610039</td>\n",
       "    </tr>\n",
       "    <tr>\n",
       "      <th>std</th>\n",
       "      <td>29.913337</td>\n",
       "      <td>29.206717</td>\n",
       "      <td>25.259794</td>\n",
       "      <td>27.087602</td>\n",
       "      <td>27.083327</td>\n",
       "      <td>28.588142</td>\n",
       "      <td>0.290523</td>\n",
       "      <td>2.140196</td>\n",
       "      <td>0.478317</td>\n",
       "      <td>0.459650</td>\n",
       "      <td>...</td>\n",
       "      <td>0.500337</td>\n",
       "      <td>0.183498</td>\n",
       "      <td>0.500785</td>\n",
       "      <td>0.226562</td>\n",
       "      <td>0.395456</td>\n",
       "      <td>0.311118</td>\n",
       "      <td>0.087704</td>\n",
       "      <td>0.342530</td>\n",
       "      <td>0.123549</td>\n",
       "      <td>26.482817</td>\n",
       "    </tr>\n",
       "    <tr>\n",
       "      <th>min</th>\n",
       "      <td>0.000000</td>\n",
       "      <td>0.000000</td>\n",
       "      <td>4.000000</td>\n",
       "      <td>0.000000</td>\n",
       "      <td>1.000000</td>\n",
       "      <td>0.000000</td>\n",
       "      <td>2019.000000</td>\n",
       "      <td>14.000000</td>\n",
       "      <td>0.000000</td>\n",
       "      <td>0.000000</td>\n",
       "      <td>...</td>\n",
       "      <td>0.000000</td>\n",
       "      <td>0.000000</td>\n",
       "      <td>0.000000</td>\n",
       "      <td>0.000000</td>\n",
       "      <td>0.000000</td>\n",
       "      <td>0.000000</td>\n",
       "      <td>0.000000</td>\n",
       "      <td>0.000000</td>\n",
       "      <td>0.000000</td>\n",
       "      <td>0.000000</td>\n",
       "    </tr>\n",
       "    <tr>\n",
       "      <th>25%</th>\n",
       "      <td>58.888889</td>\n",
       "      <td>60.000000</td>\n",
       "      <td>8.000000</td>\n",
       "      <td>3.000000</td>\n",
       "      <td>3.000000</td>\n",
       "      <td>4.000000</td>\n",
       "      <td>2020.000000</td>\n",
       "      <td>15.000000</td>\n",
       "      <td>0.000000</td>\n",
       "      <td>0.000000</td>\n",
       "      <td>...</td>\n",
       "      <td>0.000000</td>\n",
       "      <td>0.000000</td>\n",
       "      <td>0.000000</td>\n",
       "      <td>0.000000</td>\n",
       "      <td>0.000000</td>\n",
       "      <td>0.000000</td>\n",
       "      <td>0.000000</td>\n",
       "      <td>0.000000</td>\n",
       "      <td>0.000000</td>\n",
       "      <td>15.000000</td>\n",
       "    </tr>\n",
       "    <tr>\n",
       "      <th>50%</th>\n",
       "      <td>88.888889</td>\n",
       "      <td>83.333333</td>\n",
       "      <td>10.000000</td>\n",
       "      <td>6.000000</td>\n",
       "      <td>5.000000</td>\n",
       "      <td>5.000000</td>\n",
       "      <td>2020.000000</td>\n",
       "      <td>16.000000</td>\n",
       "      <td>0.000000</td>\n",
       "      <td>0.000000</td>\n",
       "      <td>...</td>\n",
       "      <td>0.000000</td>\n",
       "      <td>0.000000</td>\n",
       "      <td>0.000000</td>\n",
       "      <td>0.000000</td>\n",
       "      <td>0.000000</td>\n",
       "      <td>0.000000</td>\n",
       "      <td>0.000000</td>\n",
       "      <td>0.000000</td>\n",
       "      <td>0.000000</td>\n",
       "      <td>35.000000</td>\n",
       "    </tr>\n",
       "    <tr>\n",
       "      <th>75%</th>\n",
       "      <td>100.000000</td>\n",
       "      <td>94.166667</td>\n",
       "      <td>12.000000</td>\n",
       "      <td>9.000000</td>\n",
       "      <td>5.000000</td>\n",
       "      <td>5.000000</td>\n",
       "      <td>2020.000000</td>\n",
       "      <td>16.000000</td>\n",
       "      <td>1.000000</td>\n",
       "      <td>1.000000</td>\n",
       "      <td>...</td>\n",
       "      <td>1.000000</td>\n",
       "      <td>0.000000</td>\n",
       "      <td>1.000000</td>\n",
       "      <td>0.000000</td>\n",
       "      <td>0.000000</td>\n",
       "      <td>0.000000</td>\n",
       "      <td>0.000000</td>\n",
       "      <td>0.000000</td>\n",
       "      <td>0.000000</td>\n",
       "      <td>50.000000</td>\n",
       "    </tr>\n",
       "    <tr>\n",
       "      <th>max</th>\n",
       "      <td>100.000000</td>\n",
       "      <td>100.000000</td>\n",
       "      <td>112.000000</td>\n",
       "      <td>100.000000</td>\n",
       "      <td>99.000000</td>\n",
       "      <td>99.000000</td>\n",
       "      <td>2020.000000</td>\n",
       "      <td>36.000000</td>\n",
       "      <td>1.000000</td>\n",
       "      <td>1.000000</td>\n",
       "      <td>...</td>\n",
       "      <td>1.000000</td>\n",
       "      <td>1.000000</td>\n",
       "      <td>1.000000</td>\n",
       "      <td>1.000000</td>\n",
       "      <td>1.000000</td>\n",
       "      <td>1.000000</td>\n",
       "      <td>1.000000</td>\n",
       "      <td>1.000000</td>\n",
       "      <td>1.000000</td>\n",
       "      <td>156.000000</td>\n",
       "    </tr>\n",
       "  </tbody>\n",
       "</table>\n",
       "<p>8 rows × 34 columns</p>\n",
       "</div>"
      ],
      "text/plain": [
       "        Q1 - Nota   Q2 - Nota  Q1 - Tempo envio  Q2 - Tempo envio  \\\n",
       "count  259.000000  259.000000        259.000000        259.000000   \n",
       "mean    74.024024   73.306139         19.324324         15.220077   \n",
       "std     29.913337   29.206717         25.259794         27.087602   \n",
       "min      0.000000    0.000000          4.000000          0.000000   \n",
       "25%     58.888889   60.000000          8.000000          3.000000   \n",
       "50%     88.888889   83.333333         10.000000          6.000000   \n",
       "75%    100.000000   94.166667         12.000000          9.000000   \n",
       "max    100.000000  100.000000        112.000000        100.000000   \n",
       "\n",
       "       S1 - Tempo ultimo acesso  S2 - Tempo ultimo acesso  Ano de Ingresso  \\\n",
       "count                259.000000                259.000000       259.000000   \n",
       "mean                  12.486486                 13.652510      2019.907336   \n",
       "std                   27.083327                 28.588142         0.290523   \n",
       "min                    1.000000                  0.000000      2019.000000   \n",
       "25%                    3.000000                  4.000000      2020.000000   \n",
       "50%                    5.000000                  5.000000      2020.000000   \n",
       "75%                    5.000000                  5.000000      2020.000000   \n",
       "max                   99.000000                 99.000000      2020.000000   \n",
       "\n",
       "            Idade  curso_integrado_MSI  curso_integrado_MUSICA  ...  \\\n",
       "count  259.000000           259.000000              259.000000  ...   \n",
       "mean    15.888031             0.351351                0.301158  ...   \n",
       "std      2.140196             0.478317                0.459650  ...   \n",
       "min     14.000000             0.000000                0.000000  ...   \n",
       "25%     15.000000             0.000000                0.000000  ...   \n",
       "50%     16.000000             0.000000                0.000000  ...   \n",
       "75%     16.000000             1.000000                1.000000  ...   \n",
       "max     36.000000             1.000000                1.000000  ...   \n",
       "\n",
       "       cota_SISTEC_Nao se aplica  cota_SISTEC_Necessidades Especiais  \\\n",
       "count                 259.000000                          259.000000   \n",
       "mean                    0.474903                            0.034749   \n",
       "std                     0.500337                            0.183498   \n",
       "min                     0.000000                            0.000000   \n",
       "25%                     0.000000                            0.000000   \n",
       "50%                     0.000000                            0.000000   \n",
       "75%                     1.000000                            0.000000   \n",
       "max                     1.000000                            1.000000   \n",
       "\n",
       "       cota_MEC_Nao se aplica  cota_MEC_publica  cota_MEC_publica_PPI  \\\n",
       "count              259.000000        259.000000            259.000000   \n",
       "mean                 0.486486          0.054054              0.193050   \n",
       "std                  0.500785          0.226562              0.395456   \n",
       "min                  0.000000          0.000000              0.000000   \n",
       "25%                  0.000000          0.000000              0.000000   \n",
       "50%                  0.000000          0.000000              0.000000   \n",
       "75%                  1.000000          0.000000              0.000000   \n",
       "max                  1.000000          1.000000              1.000000   \n",
       "\n",
       "       cota_MEC_publica_renda_menor_1,5SM  \\\n",
       "count                          259.000000   \n",
       "mean                             0.108108   \n",
       "std                              0.311118   \n",
       "min                              0.000000   \n",
       "25%                              0.000000   \n",
       "50%                              0.000000   \n",
       "75%                              0.000000   \n",
       "max                              1.000000   \n",
       "\n",
       "       cota_MEC_publica_renda_menor_1,5SM_PCD  \\\n",
       "count                              259.000000   \n",
       "mean                                 0.007722   \n",
       "std                                  0.087704   \n",
       "min                                  0.000000   \n",
       "25%                                  0.000000   \n",
       "50%                                  0.000000   \n",
       "75%                                  0.000000   \n",
       "max                                  1.000000   \n",
       "\n",
       "       cota_MEC_publica_renda_menor_1,5SM_PPI  \\\n",
       "count                              259.000000   \n",
       "mean                                 0.135135   \n",
       "std                                  0.342530   \n",
       "min                                  0.000000   \n",
       "25%                                  0.000000   \n",
       "50%                                  0.000000   \n",
       "75%                                  0.000000   \n",
       "max                                  1.000000   \n",
       "\n",
       "       cota_MEC_publica_renda_menor_1,5SM_PPI_PCD  Escola de Origem  \n",
       "count                                  259.000000        259.000000  \n",
       "mean                                     0.015444         35.610039  \n",
       "std                                      0.123549         26.482817  \n",
       "min                                      0.000000          0.000000  \n",
       "25%                                      0.000000         15.000000  \n",
       "50%                                      0.000000         35.000000  \n",
       "75%                                      0.000000         50.000000  \n",
       "max                                      1.000000        156.000000  \n",
       "\n",
       "[8 rows x 34 columns]"
      ]
     },
     "execution_count": 13,
     "metadata": {},
     "output_type": "execute_result"
    }
   ],
   "source": [
    "dados.describe()"
   ]
  },
  {
   "cell_type": "code",
   "execution_count": 15,
   "metadata": {},
   "outputs": [
    {
     "data": {
      "text/html": [
       "<div>\n",
       "<style scoped>\n",
       "    .dataframe tbody tr th:only-of-type {\n",
       "        vertical-align: middle;\n",
       "    }\n",
       "\n",
       "    .dataframe tbody tr th {\n",
       "        vertical-align: top;\n",
       "    }\n",
       "\n",
       "    .dataframe thead th {\n",
       "        text-align: right;\n",
       "    }\n",
       "</style>\n",
       "<table border=\"1\" class=\"dataframe\">\n",
       "  <thead>\n",
       "    <tr style=\"text-align: right;\">\n",
       "      <th></th>\n",
       "      <th>Q1 - Nota</th>\n",
       "      <th>Q2 - Nota</th>\n",
       "      <th>Q1 - Tempo envio</th>\n",
       "      <th>Q2 - Tempo envio</th>\n",
       "      <th>S1 - Tempo ultimo acesso</th>\n",
       "      <th>S2 - Tempo ultimo acesso</th>\n",
       "      <th>Ano de Ingresso</th>\n",
       "      <th>Idade</th>\n",
       "      <th>curso_integrado_MSI</th>\n",
       "      <th>curso_integrado_MUSICA</th>\n",
       "      <th>...</th>\n",
       "      <th>cota_SISTEC_Nao se aplica</th>\n",
       "      <th>cota_SISTEC_Necessidades Especiais</th>\n",
       "      <th>cota_MEC_Nao se aplica</th>\n",
       "      <th>cota_MEC_publica</th>\n",
       "      <th>cota_MEC_publica_PPI</th>\n",
       "      <th>cota_MEC_publica_renda_menor_1,5SM</th>\n",
       "      <th>cota_MEC_publica_renda_menor_1,5SM_PCD</th>\n",
       "      <th>cota_MEC_publica_renda_menor_1,5SM_PPI</th>\n",
       "      <th>cota_MEC_publica_renda_menor_1,5SM_PPI_PCD</th>\n",
       "      <th>Escola de Origem</th>\n",
       "    </tr>\n",
       "  </thead>\n",
       "  <tbody>\n",
       "    <tr>\n",
       "      <th>0</th>\n",
       "      <td>75.0</td>\n",
       "      <td>80.000000</td>\n",
       "      <td>9.0</td>\n",
       "      <td>1.0</td>\n",
       "      <td>5.0</td>\n",
       "      <td>3.0</td>\n",
       "      <td>2019</td>\n",
       "      <td>17</td>\n",
       "      <td>1</td>\n",
       "      <td>0</td>\n",
       "      <td>...</td>\n",
       "      <td>0</td>\n",
       "      <td>0</td>\n",
       "      <td>0</td>\n",
       "      <td>0</td>\n",
       "      <td>0</td>\n",
       "      <td>1</td>\n",
       "      <td>0</td>\n",
       "      <td>0</td>\n",
       "      <td>0</td>\n",
       "      <td>156</td>\n",
       "    </tr>\n",
       "    <tr>\n",
       "      <th>1</th>\n",
       "      <td>50.0</td>\n",
       "      <td>50.000000</td>\n",
       "      <td>8.0</td>\n",
       "      <td>0.0</td>\n",
       "      <td>5.0</td>\n",
       "      <td>4.0</td>\n",
       "      <td>2019</td>\n",
       "      <td>18</td>\n",
       "      <td>1</td>\n",
       "      <td>0</td>\n",
       "      <td>...</td>\n",
       "      <td>0</td>\n",
       "      <td>1</td>\n",
       "      <td>0</td>\n",
       "      <td>0</td>\n",
       "      <td>0</td>\n",
       "      <td>0</td>\n",
       "      <td>0</td>\n",
       "      <td>0</td>\n",
       "      <td>1</td>\n",
       "      <td>70</td>\n",
       "    </tr>\n",
       "    <tr>\n",
       "      <th>2</th>\n",
       "      <td>50.0</td>\n",
       "      <td>80.000000</td>\n",
       "      <td>8.0</td>\n",
       "      <td>2.0</td>\n",
       "      <td>5.0</td>\n",
       "      <td>3.0</td>\n",
       "      <td>2019</td>\n",
       "      <td>17</td>\n",
       "      <td>1</td>\n",
       "      <td>0</td>\n",
       "      <td>...</td>\n",
       "      <td>0</td>\n",
       "      <td>0</td>\n",
       "      <td>0</td>\n",
       "      <td>0</td>\n",
       "      <td>0</td>\n",
       "      <td>1</td>\n",
       "      <td>0</td>\n",
       "      <td>0</td>\n",
       "      <td>0</td>\n",
       "      <td>12</td>\n",
       "    </tr>\n",
       "    <tr>\n",
       "      <th>3</th>\n",
       "      <td>0.0</td>\n",
       "      <td>0.000000</td>\n",
       "      <td>99.0</td>\n",
       "      <td>99.0</td>\n",
       "      <td>99.0</td>\n",
       "      <td>99.0</td>\n",
       "      <td>2019</td>\n",
       "      <td>18</td>\n",
       "      <td>1</td>\n",
       "      <td>0</td>\n",
       "      <td>...</td>\n",
       "      <td>0</td>\n",
       "      <td>0</td>\n",
       "      <td>0</td>\n",
       "      <td>0</td>\n",
       "      <td>1</td>\n",
       "      <td>0</td>\n",
       "      <td>0</td>\n",
       "      <td>0</td>\n",
       "      <td>0</td>\n",
       "      <td>88</td>\n",
       "    </tr>\n",
       "    <tr>\n",
       "      <th>4</th>\n",
       "      <td>40.0</td>\n",
       "      <td>53.333333</td>\n",
       "      <td>8.0</td>\n",
       "      <td>3.0</td>\n",
       "      <td>99.0</td>\n",
       "      <td>5.0</td>\n",
       "      <td>2019</td>\n",
       "      <td>16</td>\n",
       "      <td>0</td>\n",
       "      <td>1</td>\n",
       "      <td>...</td>\n",
       "      <td>0</td>\n",
       "      <td>0</td>\n",
       "      <td>0</td>\n",
       "      <td>0</td>\n",
       "      <td>1</td>\n",
       "      <td>0</td>\n",
       "      <td>0</td>\n",
       "      <td>0</td>\n",
       "      <td>0</td>\n",
       "      <td>68</td>\n",
       "    </tr>\n",
       "  </tbody>\n",
       "</table>\n",
       "<p>5 rows × 34 columns</p>\n",
       "</div>"
      ],
      "text/plain": [
       "   Q1 - Nota  Q2 - Nota  Q1 - Tempo envio  Q2 - Tempo envio  \\\n",
       "0       75.0  80.000000               9.0               1.0   \n",
       "1       50.0  50.000000               8.0               0.0   \n",
       "2       50.0  80.000000               8.0               2.0   \n",
       "3        0.0   0.000000              99.0              99.0   \n",
       "4       40.0  53.333333               8.0               3.0   \n",
       "\n",
       "   S1 - Tempo ultimo acesso  S2 - Tempo ultimo acesso  Ano de Ingresso  Idade  \\\n",
       "0                       5.0                       3.0             2019     17   \n",
       "1                       5.0                       4.0             2019     18   \n",
       "2                       5.0                       3.0             2019     17   \n",
       "3                      99.0                      99.0             2019     18   \n",
       "4                      99.0                       5.0             2019     16   \n",
       "\n",
       "   curso_integrado_MSI  curso_integrado_MUSICA  ...  \\\n",
       "0                    1                       0  ...   \n",
       "1                    1                       0  ...   \n",
       "2                    1                       0  ...   \n",
       "3                    1                       0  ...   \n",
       "4                    0                       1  ...   \n",
       "\n",
       "   cota_SISTEC_Nao se aplica  cota_SISTEC_Necessidades Especiais  \\\n",
       "0                          0                                   0   \n",
       "1                          0                                   1   \n",
       "2                          0                                   0   \n",
       "3                          0                                   0   \n",
       "4                          0                                   0   \n",
       "\n",
       "   cota_MEC_Nao se aplica  cota_MEC_publica  cota_MEC_publica_PPI  \\\n",
       "0                       0                 0                     0   \n",
       "1                       0                 0                     0   \n",
       "2                       0                 0                     0   \n",
       "3                       0                 0                     1   \n",
       "4                       0                 0                     1   \n",
       "\n",
       "   cota_MEC_publica_renda_menor_1,5SM  cota_MEC_publica_renda_menor_1,5SM_PCD  \\\n",
       "0                                   1                                       0   \n",
       "1                                   0                                       0   \n",
       "2                                   1                                       0   \n",
       "3                                   0                                       0   \n",
       "4                                   0                                       0   \n",
       "\n",
       "   cota_MEC_publica_renda_menor_1,5SM_PPI  \\\n",
       "0                                       0   \n",
       "1                                       0   \n",
       "2                                       0   \n",
       "3                                       0   \n",
       "4                                       0   \n",
       "\n",
       "   cota_MEC_publica_renda_menor_1,5SM_PPI_PCD  Escola de Origem  \n",
       "0                                           0               156  \n",
       "1                                           1                70  \n",
       "2                                           0                12  \n",
       "3                                           0                88  \n",
       "4                                           0                68  \n",
       "\n",
       "[5 rows x 34 columns]"
      ]
     },
     "execution_count": 15,
     "metadata": {},
     "output_type": "execute_result"
    }
   ],
   "source": [
    "dados.head()"
   ]
  },
  {
   "cell_type": "markdown",
   "metadata": {},
   "source": [
    "#### Todas as features"
   ]
  },
  {
   "cell_type": "markdown",
   "metadata": {},
   "source": [
    "x, y = dados, dfs['Codigo Situacao final bimestre']"
   ]
  },
  {
   "cell_type": "markdown",
   "metadata": {},
   "source": [
    "### Seleção de campos baseado no feature selection - filter com chi2"
   ]
  },
  {
   "cell_type": "markdown",
   "metadata": {},
   "source": [
    "#### 15 maiores scores"
   ]
  },
  {
   "cell_type": "markdown",
   "metadata": {},
   "source": [
    "x, y = dados[[\n",
    "'Q2 - Tempo envio',\n",
    "'S1 - Tempo ultimo acesso',\n",
    "'S2 - Tempo ultimo acesso',\n",
    "'Q1 - Tempo envio',\n",
    "'Q2 - Nota',\n",
    "'Q1 - Nota',\n",
    "'Escola de Origem',\n",
    "'curso_integrado_MUSICA',\n",
    "'cota_SISTEC_Necessidades Especiais',\n",
    "'cota_SISTEC_Nao se aplica',\n",
    "'cota_MEC_Nao se aplica',\n",
    "'curso_integrado_MSI',\n",
    "'cota_SISTEC_Cor/Raca',\n",
    "'cota_MEC_publica_PPI',    \n",
    "'tipo_escola_origem_Privada'\n",
    "]], dfs['Codigo Situacao final bimestre']"
   ]
  },
  {
   "cell_type": "markdown",
   "metadata": {},
   "source": [
    "#### 10 maiores scores"
   ]
  },
  {
   "cell_type": "code",
   "execution_count": 13,
   "metadata": {},
   "outputs": [],
   "source": [
    "x, y = dados[[\n",
    "'Q2 - Tempo envio',\n",
    "'S1 - Tempo ultimo acesso',\n",
    "'S2 - Tempo ultimo acesso',\n",
    "'Q1 - Tempo envio',\n",
    "'Q2 - Nota',\n",
    "'Q1 - Nota',\n",
    "'Escola de Origem',\n",
    "'curso_integrado_MUSICA',\n",
    "'cota_SISTEC_Necessidades Especiais',\n",
    "'cota_SISTEC_Nao se aplica'\n",
    "]], dfs['Codigo Situacao final bimestre']"
   ]
  },
  {
   "cell_type": "markdown",
   "metadata": {},
   "source": [
    "#### 6 maiores scores"
   ]
  },
  {
   "cell_type": "markdown",
   "metadata": {},
   "source": [
    "x, y = dados[[\n",
    "'Q2 - Tempo envio',\n",
    "'S1 - Tempo ultimo acesso',\n",
    "'S2 - Tempo ultimo acesso',\n",
    "'Q1 - Tempo envio',\n",
    "'Q2 - Nota',\n",
    "'Q1 - Nota'\n",
    "]], dfs['Codigo Situacao final bimestre']"
   ]
  },
  {
   "cell_type": "code",
   "execution_count": 14,
   "metadata": {},
   "outputs": [
    {
     "data": {
      "text/plain": [
       "(259, 10)"
      ]
     },
     "execution_count": 14,
     "metadata": {},
     "output_type": "execute_result"
    }
   ],
   "source": [
    "x.shape"
   ]
  },
  {
   "cell_type": "code",
   "execution_count": 15,
   "metadata": {},
   "outputs": [
    {
     "data": {
      "text/plain": [
       "(259,)"
      ]
     },
     "execution_count": 15,
     "metadata": {},
     "output_type": "execute_result"
    }
   ],
   "source": [
    "y.shape"
   ]
  },
  {
   "cell_type": "markdown",
   "metadata": {},
   "source": [
    "#### Algumas funções importantes"
   ]
  },
  {
   "cell_type": "code",
   "execution_count": 16,
   "metadata": {},
   "outputs": [],
   "source": [
    "import numpy as np\n",
    "\n",
    "\n",
    "def plot_confusion_matrix(cm,\n",
    "                          target_names,\n",
    "                          title='Confusion matrix',\n",
    "                          cmap=None,\n",
    "                          normalize=True):\n",
    "    \"\"\"\n",
    "    given a sklearn confusion matrix (cm), make a nice plot\n",
    "\n",
    "    Arguments\n",
    "    ---------\n",
    "    cm:           confusion matrix from sklearn.metrics.confusion_matrix\n",
    "\n",
    "    target_names: given classification classes such as [0, 1, 2]\n",
    "                  the class names, for example: ['high', 'medium', 'low']\n",
    "\n",
    "    title:        the text to display at the top of the matrix\n",
    "\n",
    "    cmap:         the gradient of the values displayed from matplotlib.pyplot.cm\n",
    "                  see http://matplotlib.org/examples/color/colormaps_reference.html\n",
    "                  plt.get_cmap('jet') or plt.cm.Blues\n",
    "\n",
    "    normalize:    If False, plot the raw numbers\n",
    "                  If True, plot the proportions\n",
    "\n",
    "    Usage\n",
    "    -----\n",
    "    plot_confusion_matrix(cm           = cm,                  # confusion matrix created by\n",
    "                                                              # sklearn.metrics.confusion_matrix\n",
    "                          normalize    = True,                # show proportions\n",
    "                          target_names = y_labels_vals,       # list of names of the classes\n",
    "                          title        = best_estimator_name) # title of graph\n",
    "\n",
    "    Citiation\n",
    "    ---------\n",
    "    http://scikit-learn.org/stable/auto_examples/model_selection/plot_confusion_matrix.html\n",
    "\n",
    "    \"\"\"\n",
    "    import matplotlib.pyplot as plt\n",
    "    import numpy as np\n",
    "    import itertools\n",
    "\n",
    "    accuracy = np.trace(cm) / float(np.sum(cm))\n",
    "    misclass = 1 - accuracy\n",
    "\n",
    "    if cmap is None:\n",
    "        cmap = plt.get_cmap('Blues')\n",
    "\n",
    "    plt.figure(figsize=(8, 6))\n",
    "    plt.imshow(cm, interpolation='nearest', cmap=cmap)\n",
    "    plt.title(title)\n",
    "    plt.colorbar()\n",
    "\n",
    "    if target_names is not None:\n",
    "        tick_marks = np.arange(len(target_names))\n",
    "        plt.xticks(tick_marks, target_names, rotation=45)\n",
    "        plt.yticks(tick_marks, target_names)\n",
    "\n",
    "    if normalize:\n",
    "        cm = cm.astype('float') / cm.sum(axis=1)[:, np.newaxis]\n",
    "\n",
    "\n",
    "    thresh = cm.max() / 1.5 if normalize else cm.max() / 2\n",
    "    for i, j in itertools.product(range(cm.shape[0]), range(cm.shape[1])):\n",
    "        if normalize:\n",
    "            plt.text(j, i, \"{:0.4f}\".format(cm[i, j]),\n",
    "                     horizontalalignment=\"center\",\n",
    "                     color=\"white\" if cm[i, j] > thresh else \"black\")\n",
    "        else:\n",
    "            plt.text(j, i, \"{:,}\".format(cm[i, j]),\n",
    "                     horizontalalignment=\"center\",\n",
    "                     color=\"white\" if cm[i, j] > thresh else \"black\")\n",
    "\n",
    "\n",
    "    plt.tight_layout()\n",
    "    plt.ylabel('True label')\n",
    "    plt.xlabel('Predicted label\\naccuracy={:0.4f}; misclass={:0.4f}'.format(accuracy, misclass))\n",
    "    plt.show()"
   ]
  },
  {
   "cell_type": "code",
   "execution_count": 17,
   "metadata": {},
   "outputs": [],
   "source": [
    "def exibe_metricas(y_test,y_pred,tipo=\"Teste\"):\n",
    "    print(\"Métricas - \",tipo)  \n",
    "    print(confusion_matrix(y_test,y_pred))  \n",
    "    print(classification_report(y_test,y_pred))  \n",
    "    print(\"precisão:\", precision_score(y_test, y_pred,average='binary'))\n",
    "    print(\"recall:\", recall_score(y_test, y_pred,average='binary',pos_label=0))\n",
    "    print(\"acurácia:\", accuracy_score(y_test, y_pred))\n",
    "    false_positive_rate, true_positive_rate, thresholds = roc_curve(y_test, y_pred)\n",
    "    print(\"AUC - ROC:\", auc(false_positive_rate, true_positive_rate))"
   ]
  },
  {
   "cell_type": "code",
   "execution_count": 18,
   "metadata": {},
   "outputs": [],
   "source": [
    "def treinar_k_fold_resampling(classificador,resampling, X_treino, y_treino):\n",
    "    #kf = RepeatedStratifiedKFold(n_splits=8, n_repeats=3, random_state=1)\n",
    "    kf = StratifiedKFold(n_splits=10)\n",
    "    all_classes_tests = []\n",
    "    all_predictions = []\n",
    "    \n",
    "    for train_index, test_index in kf.split(X_treino, y_treino):\n",
    "        treino_kf = X_treino.iloc[train_index]\n",
    "        classe_treino_kf = y_treino.iloc[train_index]\n",
    "        teste_kf = X_treino.iloc[test_index]\n",
    "        classe_teste_kf = y_treino.iloc[test_index]\n",
    "                \n",
    "        X_train_res, y_train_res = resampling.fit_resample(treino_kf,classe_treino_kf)\n",
    "        \n",
    "        classificador.fit(X_train_res, y_train_res)\n"
   ]
  },
  {
   "cell_type": "code",
   "execution_count": 19,
   "metadata": {},
   "outputs": [],
   "source": [
    "def treinar_k_fold(classificador,X_treino, y_treino):\n",
    "    #kf = RepeatedStratifiedKFold(n_splits=8, n_repeats=3, random_state=1)\n",
    "    kf = StratifiedKFold(n_splits=10)\n",
    "    all_classes_tests = []\n",
    "    all_predictions = []\n",
    "    \n",
    "    for train_index, test_index in kf.split(X_treino, y_treino):\n",
    "        treino_kf = X_treino.iloc[train_index]\n",
    "        classe_treino_kf = y_treino.iloc[train_index]\n",
    "        teste_kf = X_treino.iloc[test_index]\n",
    "        classe_teste_kf = y_treino.iloc[test_index]\n",
    "        \n",
    "        classificador.fit(treino_kf,classe_treino_kf)\n"
   ]
  },
  {
   "cell_type": "markdown",
   "metadata": {},
   "source": [
    "## Iteração 1 - Divisão Holdout - 70-30 - estratificada"
   ]
  },
  {
   "cell_type": "markdown",
   "metadata": {},
   "source": [
    "### Divisão dos dados de teste - 30% e treino - 70%"
   ]
  },
  {
   "cell_type": "code",
   "execution_count": 20,
   "metadata": {},
   "outputs": [
    {
     "name": "stdout",
     "output_type": "stream",
     "text": [
      "(181, 10) (181,)\n",
      "(78, 10) (78,)\n"
     ]
    }
   ],
   "source": [
    "from sklearn.model_selection import train_test_split\n",
    "X_train, X_test, y_train, y_test = train_test_split(x, y, test_size=0.30, random_state = 10,stratify=y)\n",
    "print(X_train.shape, y_train.shape)\n",
    "print(X_test.shape, y_test.shape)"
   ]
  },
  {
   "cell_type": "code",
   "execution_count": 21,
   "metadata": {},
   "outputs": [
    {
     "name": "stdout",
     "output_type": "stream",
     "text": [
      "Counter({1: 194, 0: 65})\n"
     ]
    }
   ],
   "source": [
    "print(Counter(y))"
   ]
  },
  {
   "cell_type": "code",
   "execution_count": 22,
   "metadata": {},
   "outputs": [
    {
     "name": "stdout",
     "output_type": "stream",
     "text": [
      "Counter({1: 136, 0: 45})\n"
     ]
    }
   ],
   "source": [
    "print(Counter(y_train))"
   ]
  },
  {
   "cell_type": "code",
   "execution_count": 24,
   "metadata": {},
   "outputs": [
    {
     "name": "stdout",
     "output_type": "stream",
     "text": [
      "Counter({1: 58, 0: 20})\n"
     ]
    }
   ],
   "source": [
    "print(Counter(y_test))"
   ]
  },
  {
   "cell_type": "markdown",
   "metadata": {},
   "source": [
    "## Classificação - Comparação com hold out e sem resampling"
   ]
  },
  {
   "cell_type": "code",
   "execution_count": 21,
   "metadata": {},
   "outputs": [
    {
     "name": "stdout",
     "output_type": "stream",
     "text": [
      "------------------------------ \n",
      "Classificador:  MultinomialNB\n",
      "Métricas -  Teste\n",
      "[[ 7 13]\n",
      " [ 1 57]]\n",
      "              precision    recall  f1-score   support\n",
      "\n",
      "           0       0.88      0.35      0.50        20\n",
      "           1       0.81      0.98      0.89        58\n",
      "\n",
      "    accuracy                           0.82        78\n",
      "   macro avg       0.84      0.67      0.70        78\n",
      "weighted avg       0.83      0.82      0.79        78\n",
      "\n",
      "precisão: 0.8142857142857143\n",
      "recall: 0.35\n",
      "acurácia: 0.8205128205128205\n",
      "AUC - ROC: 0.6663793103448277\n",
      "------------------------------\n",
      "\n",
      "\n",
      "------------------------------ \n",
      "Classificador:  KNeighborsClassifier\n",
      "Métricas -  Teste\n",
      "[[10 10]\n",
      " [ 1 57]]\n",
      "              precision    recall  f1-score   support\n",
      "\n",
      "           0       0.91      0.50      0.65        20\n",
      "           1       0.85      0.98      0.91        58\n",
      "\n",
      "    accuracy                           0.86        78\n",
      "   macro avg       0.88      0.74      0.78        78\n",
      "weighted avg       0.87      0.86      0.84        78\n",
      "\n",
      "precisão: 0.8507462686567164\n",
      "recall: 0.5\n",
      "acurácia: 0.8589743589743589\n",
      "AUC - ROC: 0.7413793103448276\n",
      "------------------------------\n",
      "\n",
      "\n",
      "------------------------------ \n",
      "Classificador:  RandomForestClassifier\n",
      "Métricas -  Teste\n",
      "[[14  6]\n",
      " [ 3 55]]\n",
      "              precision    recall  f1-score   support\n",
      "\n",
      "           0       0.82      0.70      0.76        20\n",
      "           1       0.90      0.95      0.92        58\n",
      "\n",
      "    accuracy                           0.88        78\n",
      "   macro avg       0.86      0.82      0.84        78\n",
      "weighted avg       0.88      0.88      0.88        78\n",
      "\n",
      "precisão: 0.9016393442622951\n",
      "recall: 0.7\n",
      "acurácia: 0.8846153846153846\n",
      "AUC - ROC: 0.8241379310344827\n",
      "------------------------------\n",
      "\n",
      "\n",
      "------------------------------ \n",
      "Classificador:  SVC\n",
      "Métricas -  Teste\n",
      "[[15  5]\n",
      " [ 1 57]]\n",
      "              precision    recall  f1-score   support\n",
      "\n",
      "           0       0.94      0.75      0.83        20\n",
      "           1       0.92      0.98      0.95        58\n",
      "\n",
      "    accuracy                           0.92        78\n",
      "   macro avg       0.93      0.87      0.89        78\n",
      "weighted avg       0.92      0.92      0.92        78\n",
      "\n",
      "precisão: 0.9193548387096774\n",
      "recall: 0.75\n",
      "acurácia: 0.9230769230769231\n",
      "AUC - ROC: 0.8663793103448276\n",
      "------------------------------\n",
      "\n",
      "\n",
      "------------------------------ \n",
      "Classificador:  GradientBoostingClassifier\n",
      "Métricas -  Teste\n",
      "[[14  6]\n",
      " [ 4 54]]\n",
      "              precision    recall  f1-score   support\n",
      "\n",
      "           0       0.78      0.70      0.74        20\n",
      "           1       0.90      0.93      0.92        58\n",
      "\n",
      "    accuracy                           0.87        78\n",
      "   macro avg       0.84      0.82      0.83        78\n",
      "weighted avg       0.87      0.87      0.87        78\n",
      "\n",
      "precisão: 0.9\n",
      "recall: 0.7\n",
      "acurácia: 0.8717948717948718\n",
      "AUC - ROC: 0.8155172413793103\n",
      "------------------------------\n",
      "\n",
      "\n",
      "------------------------------ \n",
      "Classificador:  XGBClassifier\n",
      "Métricas -  Teste\n",
      "[[14  6]\n",
      " [ 2 56]]\n",
      "              precision    recall  f1-score   support\n",
      "\n",
      "           0       0.88      0.70      0.78        20\n",
      "           1       0.90      0.97      0.93        58\n",
      "\n",
      "    accuracy                           0.90        78\n",
      "   macro avg       0.89      0.83      0.86        78\n",
      "weighted avg       0.90      0.90      0.89        78\n",
      "\n",
      "precisão: 0.9032258064516129\n",
      "recall: 0.7\n",
      "acurácia: 0.8974358974358975\n",
      "AUC - ROC: 0.8327586206896551\n",
      "------------------------------\n",
      "\n",
      "\n"
     ]
    }
   ],
   "source": [
    "clf_MNB = MultinomialNB()\n",
    "clf_KNN = KNeighborsClassifier()\n",
    "clf_RF = RandomForestClassifier(random_state=0)\n",
    "clf_SVM = svm.SVC(kernel='linear',random_state=0) # Linear Kernel\n",
    "clf_GBM = GradientBoostingClassifier(random_state=0)\n",
    "clf_XG = XGBClassifier(random_state=0)\n",
    "\n",
    "for clf in [clf_MNB,clf_KNN,clf_RF, clf_SVM, clf_GBM, clf_XG]:\n",
    "    clf_name = clf.__class__.__name__\n",
    "    print('------------------------------ ')\n",
    "    print('Classificador: ',clf_name)\n",
    "\n",
    "    clf.fit(X_train, y_train)\n",
    "\n",
    "    predictions = clf.predict(X_test)\n",
    "\n",
    "    exibe_metricas(y_test,predictions)\n",
    "        \n",
    "    print('------------------------------')\n",
    "    print('\\n')\n"
   ]
  },
  {
   "cell_type": "markdown",
   "metadata": {},
   "source": [
    "pipe = Pipeline([\n",
    "    ('classificador',dtc_para_pipe )\n",
    "])"
   ]
  },
  {
   "cell_type": "markdown",
   "metadata": {},
   "source": [
    "### Comparação com resampling antes k-fold"
   ]
  },
  {
   "cell_type": "markdown",
   "metadata": {},
   "source": [
    "clf_MNB = MultinomialNB()\n",
    "clf_KNN = KNeighborsClassifier()\n",
    "clf_RF = RandomForestClassifier(random_state=0)\n",
    "clf_SVM = svm.SVC(kernel='linear',random_state=0) # Linear Kernel\n",
    "clf_GBM = GradientBoostingClassifier(random_state=0)\n",
    "clf_XG = XGBClassifier(random_state=0)\n",
    "\n",
    "over = RandomOverSampler(random_state=0)\n",
    "over_smote = SMOTE(random_state=0)\n",
    "under = RandomUnderSampler(random_state=0)\n",
    "\n",
    "for clf in [clf_MNB,clf_KNN,clf_RF, clf_SVM, clf_GBM, clf_XG]:\n",
    "    clf_name = clf.__class__.__name__\n",
    "    print('------------------------------ ')\n",
    "    for resampling in [over_smote, under,over]:\n",
    "        resampling_name = resampling.__class__.__name__\n",
    "        print('Classificador: ',clf_name)\n",
    "        print('Resampling: ',resampling_name)\n",
    "                        \n",
    "        X_train_res, y_train_res = resampling.fit_resample(X_train, y_train)\n",
    "\n",
    "        treinar_k_fold(clf,X_train_res, y_train_res)\n",
    "\n",
    "        predictions = clf.predict(X_test)\n",
    "\n",
    "        exibe_metricas(y_test,predictions)\n",
    "        \n",
    "        print('------------------------------')\n",
    "    print('------------------------------')\n",
    "    print('\\n')\n"
   ]
  },
  {
   "cell_type": "markdown",
   "metadata": {},
   "source": [
    "### Comparação com resampling após k-fold"
   ]
  },
  {
   "cell_type": "code",
   "execution_count": 24,
   "metadata": {},
   "outputs": [
    {
     "name": "stdout",
     "output_type": "stream",
     "text": [
      "------------------------------ \n",
      "Classificador:  MultinomialNB\n",
      "Resampling:  SMOTE\n",
      "Métricas -  Teste\n",
      "[[ 7 13]\n",
      " [ 0 58]]\n",
      "              precision    recall  f1-score   support\n",
      "\n",
      "           0       1.00      0.35      0.52        20\n",
      "           1       0.82      1.00      0.90        58\n",
      "\n",
      "    accuracy                           0.83        78\n",
      "   macro avg       0.91      0.68      0.71        78\n",
      "weighted avg       0.86      0.83      0.80        78\n",
      "\n",
      "precisão: 0.8169014084507042\n",
      "recall: 0.35\n",
      "acurácia: 0.8333333333333334\n",
      "AUC - ROC: 0.675\n",
      "------------------------------\n",
      "Classificador:  MultinomialNB\n",
      "Resampling:  RandomUnderSampler\n",
      "Métricas -  Teste\n",
      "[[ 7 13]\n",
      " [ 0 58]]\n",
      "              precision    recall  f1-score   support\n",
      "\n",
      "           0       1.00      0.35      0.52        20\n",
      "           1       0.82      1.00      0.90        58\n",
      "\n",
      "    accuracy                           0.83        78\n",
      "   macro avg       0.91      0.68      0.71        78\n",
      "weighted avg       0.86      0.83      0.80        78\n",
      "\n",
      "precisão: 0.8169014084507042\n",
      "recall: 0.35\n",
      "acurácia: 0.8333333333333334\n",
      "AUC - ROC: 0.675\n",
      "------------------------------\n",
      "Classificador:  MultinomialNB\n",
      "Resampling:  RandomOverSampler\n",
      "Métricas -  Teste\n",
      "[[ 7 13]\n",
      " [ 0 58]]\n",
      "              precision    recall  f1-score   support\n",
      "\n",
      "           0       1.00      0.35      0.52        20\n",
      "           1       0.82      1.00      0.90        58\n",
      "\n",
      "    accuracy                           0.83        78\n",
      "   macro avg       0.91      0.68      0.71        78\n",
      "weighted avg       0.86      0.83      0.80        78\n",
      "\n",
      "precisão: 0.8169014084507042\n",
      "recall: 0.35\n",
      "acurácia: 0.8333333333333334\n",
      "AUC - ROC: 0.675\n",
      "------------------------------\n",
      "------------------------------\n",
      "\n",
      "\n",
      "------------------------------ \n",
      "Classificador:  KNeighborsClassifier\n",
      "Resampling:  SMOTE\n",
      "Métricas -  Teste\n",
      "[[12  8]\n",
      " [ 2 56]]\n",
      "              precision    recall  f1-score   support\n",
      "\n",
      "           0       0.86      0.60      0.71        20\n",
      "           1       0.88      0.97      0.92        58\n",
      "\n",
      "    accuracy                           0.87        78\n",
      "   macro avg       0.87      0.78      0.81        78\n",
      "weighted avg       0.87      0.87      0.86        78\n",
      "\n",
      "precisão: 0.875\n",
      "recall: 0.6\n",
      "acurácia: 0.8717948717948718\n",
      "AUC - ROC: 0.7827586206896553\n",
      "------------------------------\n",
      "Classificador:  KNeighborsClassifier\n",
      "Resampling:  RandomUnderSampler\n",
      "Métricas -  Teste\n",
      "[[15  5]\n",
      " [ 4 54]]\n",
      "              precision    recall  f1-score   support\n",
      "\n",
      "           0       0.79      0.75      0.77        20\n",
      "           1       0.92      0.93      0.92        58\n",
      "\n",
      "    accuracy                           0.88        78\n",
      "   macro avg       0.85      0.84      0.85        78\n",
      "weighted avg       0.88      0.88      0.88        78\n",
      "\n",
      "precisão: 0.9152542372881356\n",
      "recall: 0.75\n",
      "acurácia: 0.8846153846153846\n",
      "AUC - ROC: 0.8405172413793103\n",
      "------------------------------\n",
      "Classificador:  KNeighborsClassifier\n",
      "Resampling:  RandomOverSampler\n",
      "Métricas -  Teste\n",
      "[[15  5]\n",
      " [ 5 53]]\n",
      "              precision    recall  f1-score   support\n",
      "\n",
      "           0       0.75      0.75      0.75        20\n",
      "           1       0.91      0.91      0.91        58\n",
      "\n",
      "    accuracy                           0.87        78\n",
      "   macro avg       0.83      0.83      0.83        78\n",
      "weighted avg       0.87      0.87      0.87        78\n",
      "\n",
      "precisão: 0.9137931034482759\n",
      "recall: 0.75\n",
      "acurácia: 0.8717948717948718\n",
      "AUC - ROC: 0.8318965517241379\n",
      "------------------------------\n",
      "------------------------------\n",
      "\n",
      "\n",
      "------------------------------ \n",
      "Classificador:  RandomForestClassifier\n",
      "Resampling:  SMOTE\n",
      "Métricas -  Teste\n",
      "[[13  7]\n",
      " [ 1 57]]\n",
      "              precision    recall  f1-score   support\n",
      "\n",
      "           0       0.93      0.65      0.76        20\n",
      "           1       0.89      0.98      0.93        58\n",
      "\n",
      "    accuracy                           0.90        78\n",
      "   macro avg       0.91      0.82      0.85        78\n",
      "weighted avg       0.90      0.90      0.89        78\n",
      "\n",
      "precisão: 0.890625\n",
      "recall: 0.65\n",
      "acurácia: 0.8974358974358975\n",
      "AUC - ROC: 0.8163793103448277\n",
      "------------------------------\n",
      "Classificador:  RandomForestClassifier\n",
      "Resampling:  RandomUnderSampler\n",
      "Métricas -  Teste\n",
      "[[15  5]\n",
      " [ 4 54]]\n",
      "              precision    recall  f1-score   support\n",
      "\n",
      "           0       0.79      0.75      0.77        20\n",
      "           1       0.92      0.93      0.92        58\n",
      "\n",
      "    accuracy                           0.88        78\n",
      "   macro avg       0.85      0.84      0.85        78\n",
      "weighted avg       0.88      0.88      0.88        78\n",
      "\n",
      "precisão: 0.9152542372881356\n",
      "recall: 0.75\n",
      "acurácia: 0.8846153846153846\n",
      "AUC - ROC: 0.8405172413793103\n",
      "------------------------------\n",
      "Classificador:  RandomForestClassifier\n",
      "Resampling:  RandomOverSampler\n",
      "Métricas -  Teste\n",
      "[[12  8]\n",
      " [ 2 56]]\n",
      "              precision    recall  f1-score   support\n",
      "\n",
      "           0       0.86      0.60      0.71        20\n",
      "           1       0.88      0.97      0.92        58\n",
      "\n",
      "    accuracy                           0.87        78\n",
      "   macro avg       0.87      0.78      0.81        78\n",
      "weighted avg       0.87      0.87      0.86        78\n",
      "\n",
      "precisão: 0.875\n",
      "recall: 0.6\n",
      "acurácia: 0.8717948717948718\n",
      "AUC - ROC: 0.7827586206896553\n",
      "------------------------------\n",
      "------------------------------\n",
      "\n",
      "\n",
      "------------------------------ \n",
      "Classificador:  SVC\n",
      "Resampling:  SMOTE\n",
      "Métricas -  Teste\n",
      "[[15  5]\n",
      " [ 2 56]]\n",
      "              precision    recall  f1-score   support\n",
      "\n",
      "           0       0.88      0.75      0.81        20\n",
      "           1       0.92      0.97      0.94        58\n",
      "\n",
      "    accuracy                           0.91        78\n",
      "   macro avg       0.90      0.86      0.88        78\n",
      "weighted avg       0.91      0.91      0.91        78\n",
      "\n",
      "precisão: 0.9180327868852459\n",
      "recall: 0.75\n",
      "acurácia: 0.9102564102564102\n",
      "AUC - ROC: 0.8577586206896552\n",
      "------------------------------\n",
      "Classificador:  SVC\n",
      "Resampling:  RandomUnderSampler\n",
      "Métricas -  Teste\n",
      "[[15  5]\n",
      " [ 3 55]]\n",
      "              precision    recall  f1-score   support\n",
      "\n",
      "           0       0.83      0.75      0.79        20\n",
      "           1       0.92      0.95      0.93        58\n",
      "\n",
      "    accuracy                           0.90        78\n",
      "   macro avg       0.88      0.85      0.86        78\n",
      "weighted avg       0.90      0.90      0.90        78\n",
      "\n",
      "precisão: 0.9166666666666666\n",
      "recall: 0.75\n",
      "acurácia: 0.8974358974358975\n",
      "AUC - ROC: 0.8491379310344828\n",
      "------------------------------\n",
      "Classificador:  SVC\n",
      "Resampling:  RandomOverSampler\n",
      "Métricas -  Teste\n",
      "[[15  5]\n",
      " [ 1 57]]\n",
      "              precision    recall  f1-score   support\n",
      "\n",
      "           0       0.94      0.75      0.83        20\n",
      "           1       0.92      0.98      0.95        58\n",
      "\n",
      "    accuracy                           0.92        78\n",
      "   macro avg       0.93      0.87      0.89        78\n",
      "weighted avg       0.92      0.92      0.92        78\n",
      "\n",
      "precisão: 0.9193548387096774\n",
      "recall: 0.75\n",
      "acurácia: 0.9230769230769231\n",
      "AUC - ROC: 0.8663793103448276\n",
      "------------------------------\n",
      "------------------------------\n",
      "\n",
      "\n",
      "------------------------------ \n",
      "Classificador:  GradientBoostingClassifier\n",
      "Resampling:  SMOTE\n",
      "Métricas -  Teste\n",
      "[[13  7]\n",
      " [ 3 55]]\n",
      "              precision    recall  f1-score   support\n",
      "\n",
      "           0       0.81      0.65      0.72        20\n",
      "           1       0.89      0.95      0.92        58\n",
      "\n",
      "    accuracy                           0.87        78\n",
      "   macro avg       0.85      0.80      0.82        78\n",
      "weighted avg       0.87      0.87      0.87        78\n",
      "\n",
      "precisão: 0.8870967741935484\n",
      "recall: 0.65\n",
      "acurácia: 0.8717948717948718\n",
      "AUC - ROC: 0.7991379310344827\n",
      "------------------------------\n",
      "Classificador:  GradientBoostingClassifier\n",
      "Resampling:  RandomUnderSampler\n",
      "Métricas -  Teste\n",
      "[[15  5]\n",
      " [ 6 52]]\n",
      "              precision    recall  f1-score   support\n",
      "\n",
      "           0       0.71      0.75      0.73        20\n",
      "           1       0.91      0.90      0.90        58\n",
      "\n",
      "    accuracy                           0.86        78\n",
      "   macro avg       0.81      0.82      0.82        78\n",
      "weighted avg       0.86      0.86      0.86        78\n",
      "\n",
      "precisão: 0.9122807017543859\n",
      "recall: 0.75\n",
      "acurácia: 0.8589743589743589\n",
      "AUC - ROC: 0.8232758620689655\n",
      "------------------------------\n",
      "Classificador:  GradientBoostingClassifier\n",
      "Resampling:  RandomOverSampler\n",
      "Métricas -  Teste\n",
      "[[12  8]\n",
      " [ 3 55]]\n",
      "              precision    recall  f1-score   support\n",
      "\n",
      "           0       0.80      0.60      0.69        20\n",
      "           1       0.87      0.95      0.91        58\n",
      "\n",
      "    accuracy                           0.86        78\n",
      "   macro avg       0.84      0.77      0.80        78\n",
      "weighted avg       0.85      0.86      0.85        78\n",
      "\n",
      "precisão: 0.873015873015873\n",
      "recall: 0.6\n",
      "acurácia: 0.8589743589743589\n",
      "AUC - ROC: 0.7741379310344828\n",
      "------------------------------\n",
      "------------------------------\n",
      "\n",
      "\n",
      "------------------------------ \n",
      "Classificador:  XGBClassifier\n",
      "Resampling:  SMOTE\n"
     ]
    },
    {
     "name": "stdout",
     "output_type": "stream",
     "text": [
      "Métricas -  Teste\n",
      "[[14  6]\n",
      " [ 2 56]]\n",
      "              precision    recall  f1-score   support\n",
      "\n",
      "           0       0.88      0.70      0.78        20\n",
      "           1       0.90      0.97      0.93        58\n",
      "\n",
      "    accuracy                           0.90        78\n",
      "   macro avg       0.89      0.83      0.86        78\n",
      "weighted avg       0.90      0.90      0.89        78\n",
      "\n",
      "precisão: 0.9032258064516129\n",
      "recall: 0.7\n",
      "acurácia: 0.8974358974358975\n",
      "AUC - ROC: 0.8327586206896551\n",
      "------------------------------\n",
      "Classificador:  XGBClassifier\n",
      "Resampling:  RandomUnderSampler\n",
      "Métricas -  Teste\n",
      "[[15  5]\n",
      " [ 5 53]]\n",
      "              precision    recall  f1-score   support\n",
      "\n",
      "           0       0.75      0.75      0.75        20\n",
      "           1       0.91      0.91      0.91        58\n",
      "\n",
      "    accuracy                           0.87        78\n",
      "   macro avg       0.83      0.83      0.83        78\n",
      "weighted avg       0.87      0.87      0.87        78\n",
      "\n",
      "precisão: 0.9137931034482759\n",
      "recall: 0.75\n",
      "acurácia: 0.8717948717948718\n",
      "AUC - ROC: 0.8318965517241379\n",
      "------------------------------\n",
      "Classificador:  XGBClassifier\n",
      "Resampling:  RandomOverSampler\n",
      "Métricas -  Teste\n",
      "[[13  7]\n",
      " [ 1 57]]\n",
      "              precision    recall  f1-score   support\n",
      "\n",
      "           0       0.93      0.65      0.76        20\n",
      "           1       0.89      0.98      0.93        58\n",
      "\n",
      "    accuracy                           0.90        78\n",
      "   macro avg       0.91      0.82      0.85        78\n",
      "weighted avg       0.90      0.90      0.89        78\n",
      "\n",
      "precisão: 0.890625\n",
      "recall: 0.65\n",
      "acurácia: 0.8974358974358975\n",
      "AUC - ROC: 0.8163793103448277\n",
      "------------------------------\n",
      "------------------------------\n",
      "\n",
      "\n"
     ]
    }
   ],
   "source": [
    "clf_MNB = MultinomialNB()\n",
    "clf_KNN = KNeighborsClassifier()\n",
    "clf_RF = RandomForestClassifier(random_state=0)\n",
    "clf_SVM = svm.SVC(kernel='linear',random_state=0) # Linear Kernel\n",
    "clf_GBM = GradientBoostingClassifier(random_state=0)\n",
    "clf_XG = XGBClassifier(random_state=0)\n",
    "\n",
    "over = RandomOverSampler(random_state=0)\n",
    "over_smote = SMOTE(random_state=0)\n",
    "under = RandomUnderSampler(random_state=0)\n",
    "\n",
    "for clf in [clf_MNB,clf_KNN,clf_RF, clf_SVM, clf_GBM, clf_XG]:\n",
    "    clf_name = clf.__class__.__name__\n",
    "    print('------------------------------ ')\n",
    "    for resampling in [over_smote, under,over]:\n",
    "        resampling_name = resampling.__class__.__name__\n",
    "        print('Classificador: ',clf_name)\n",
    "        print('Resampling: ',resampling_name)\n",
    "       \n",
    "        treinar_k_fold_resampling(clf,resampling,X_train, y_train)\n",
    "\n",
    "        predictions = clf.predict(X_test)\n",
    "\n",
    "        exibe_metricas(y_test,predictions)\n",
    "        \n",
    "        print('------------------------------')\n",
    "    print('------------------------------')\n",
    "    print('\\n')\n"
   ]
  },
  {
   "cell_type": "markdown",
   "metadata": {},
   "source": [
    "#### Teste com combinação de over + under - Sem sucesso"
   ]
  },
  {
   "cell_type": "markdown",
   "metadata": {},
   "source": [
    "classificador = RandomForestClassifier(random_state=0)\n",
    "\n",
    "#over = RandomOverSampler(random_state=0)\n",
    "\n",
    "#over = SMOTE()\n",
    "under = RandomUnderSampler()\n",
    "steps = [('u', under)]\n",
    "pipeline = Pipeline(steps=steps)\n",
    "\n",
    "treinar_k_fold(classificador,pipeline,X_train, y_train)\n",
    "\n",
    "predictions = classificador.predict(X_test)\n",
    "\n",
    "exibe_metricas(y_test,predictions)"
   ]
  },
  {
   "cell_type": "markdown",
   "metadata": {},
   "source": [
    "classificador = XGBClassifier(random_state=0)\n",
    "\n",
    "over = SMOTE(sampling_strategy=0.3)\n",
    "under = RandomUnderSampler(sampling_strategy=0.7)\n",
    "steps = [('o', over), ('u', under)]\n",
    "pipeline = Pipeline(steps=steps)\n",
    "\n",
    "treinar_k_fold(classificador,pipeline,X_train, y_train)\n",
    "\n",
    "y_pred = classificador.predict(X_test)\n",
    "predictions = [round(value) for value in y_pred]\n",
    "\n",
    "exibe_metricas(y_test,predictions)"
   ]
  },
  {
   "cell_type": "markdown",
   "metadata": {},
   "source": [
    "classificador = svm.SVC(kernel='linear',random_state=0) # Linear Kernel\n",
    "\n",
    "over = SMOTE(sampling_strategy=0.3)\n",
    "under = RandomUnderSampler(sampling_strategy=0.7)\n",
    "steps = [('o', over), ('u', under)]\n",
    "pipeline = Pipeline(steps=steps)\n",
    "\n",
    "treinar_k_fold(classificador,pipeline,X_train, y_train)\n",
    "\n",
    "predictions = classificador.predict(X_test)\n",
    "\n",
    "exibe_metricas(y_test,predictions)"
   ]
  },
  {
   "cell_type": "markdown",
   "metadata": {},
   "source": [
    "classificador = GradientBoostingClassifier(random_state=0)\n",
    "\n",
    "over = SMOTE()\n",
    "under = RandomUnderSampler()\n",
    "steps = [('o', over), ('u', under)]\n",
    "#steps = [('u', under)]\n",
    "pipeline = Pipeline(steps=steps)\n",
    "\n",
    "treinar_k_fold_resampling(classificador,pipeline,X_train, y_train)\n",
    "\n",
    "predictions = classificador.predict(X_test)\n",
    "\n",
    "exibe_metricas(y_test,predictions)"
   ]
  },
  {
   "cell_type": "markdown",
   "metadata": {},
   "source": [
    "### Tunning Hyperparametros - Melhores algoritmos"
   ]
  },
  {
   "cell_type": "markdown",
   "metadata": {},
   "source": [
    "#### SVC"
   ]
  },
  {
   "cell_type": "markdown",
   "metadata": {},
   "source": [
    "over_smote = SMOTE(random_state=0);\n",
    "X_train_res, y_train_res = over_smote.fit_resample(X_train,y_train)\n",
    "\n",
    "svc = svm.SVC(kernel='linear',random_state=0)\n",
    "\n",
    "hyperparameters = { 'C':[0.01,1,10,100],\n",
    "                   'kernel':['linear','poly'],\n",
    "                   'gamma':[0.1,1,10,100]\n",
    "                  }\n",
    "\n",
    "clf = GridSearchCV(svc, hyperparameters, cv=5)\n",
    "\n",
    "clf.fit(X_train_res, y_train_res)\n",
    "\n",
    "print(clf.best_params_)"
   ]
  },
  {
   "cell_type": "code",
   "execution_count": null,
   "metadata": {},
   "outputs": [],
   "source": []
  },
  {
   "cell_type": "markdown",
   "metadata": {},
   "source": [
    "svc_tunned = svm.SVC(kernel='poly',random_state=0)"
   ]
  },
  {
   "cell_type": "markdown",
   "metadata": {},
   "source": [
    "over_smote = SMOTE(random_state=0);\n",
    "X_train_res, y_train_res = over_smote.fit_resample(X_train,y_train)\n",
    "treinar_k_fold(svc_tunned,X_train_res, y_train_res)\n",
    "predictions = svc_tunned.predict(X_test)\n",
    "exibe_metricas(y_test,predictions)"
   ]
  },
  {
   "cell_type": "markdown",
   "metadata": {},
   "source": [
    "#### Gradient"
   ]
  },
  {
   "cell_type": "code",
   "execution_count": 20,
   "metadata": {},
   "outputs": [
    {
     "name": "stdout",
     "output_type": "stream",
     "text": [
      "{'learning_rate': 0.5, 'max_depth': 1, 'n_estimators': 32}\n"
     ]
    }
   ],
   "source": [
    "gbm = GradientBoostingClassifier(random_state=0)\n",
    "\n",
    "hyperparameters = { 'learning_rate':[0.5, 0.1, 0.05, 0.01],\n",
    "                   'n_estimators':[ 8, 16, 32, 64, 100],\n",
    "                   'max_depth':[1,5,10],\n",
    "                  }\n",
    "\n",
    "clf = GridSearchCV(gbm, hyperparameters, cv=5)\n",
    "\n",
    "clf.fit(X_train, y_train)\n",
    "\n",
    "print(clf.best_params_)"
   ]
  },
  {
   "cell_type": "code",
   "execution_count": null,
   "metadata": {},
   "outputs": [],
   "source": []
  },
  {
   "cell_type": "code",
   "execution_count": 21,
   "metadata": {},
   "outputs": [],
   "source": [
    "gbm_tunned =  GradientBoostingClassifier(random_state=0, learning_rate=0.1, max_depth=2,n_estimators=32)"
   ]
  },
  {
   "cell_type": "code",
   "execution_count": 22,
   "metadata": {},
   "outputs": [
    {
     "name": "stdout",
     "output_type": "stream",
     "text": [
      "Métricas -  Teste\n",
      "[[ 8  2]\n",
      " [ 1 30]]\n",
      "              precision    recall  f1-score   support\n",
      "\n",
      "           0       0.89      0.80      0.84        10\n",
      "           1       0.94      0.97      0.95        31\n",
      "\n",
      "    accuracy                           0.93        41\n",
      "   macro avg       0.91      0.88      0.90        41\n",
      "weighted avg       0.93      0.93      0.93        41\n",
      "\n",
      "precisão: 0.9375\n",
      "recall: 0.8\n",
      "AUC - ROC: 0.8838709677419355\n"
     ]
    }
   ],
   "source": [
    "over = RandomOverSampler(random_state=0)\n",
    "X_train_res, y_train_res = over.fit_resample(X_train,y_train)\n",
    "treinar_k_fold(gbm_tunned,X_train_res, y_train_res)\n",
    "predictions = gbm_tunned.predict(X_test)\n",
    "exibe_metricas(y_test,predictions)"
   ]
  },
  {
   "cell_type": "markdown",
   "metadata": {},
   "source": [
    "#### XGradient Boost"
   ]
  },
  {
   "cell_type": "code",
   "execution_count": 23,
   "metadata": {},
   "outputs": [
    {
     "name": "stdout",
     "output_type": "stream",
     "text": [
      "{'learning_rate': 0.1, 'max_depth': 3, 'n_estimators': 64}\n"
     ]
    }
   ],
   "source": [
    "xgbm = XGBClassifier(random_state=0)\n",
    "\n",
    "hyperparameters = { 'learning_rate':[0.5, 0.1, 0.01],\n",
    "                   'n_estimators':[64, 100, 300],\n",
    "                   'max_depth':[3,5,10],\n",
    "                  }\n",
    "\n",
    "clf = GridSearchCV(xgbm, hyperparameters, cv=5)\n",
    "\n",
    "clf.fit(X_train, y_train)\n",
    "\n",
    "print(clf.best_params_)"
   ]
  },
  {
   "cell_type": "markdown",
   "metadata": {},
   "source": [
    "n_estimators=300, learning_rate=0.1,subsample= 0.5\n",
    "dtcXG = XGBClassifier()\n"
   ]
  },
  {
   "cell_type": "code",
   "execution_count": 24,
   "metadata": {},
   "outputs": [],
   "source": [
    "xgbm_tunned =  XGBClassifier(random_state=0,learning_rate=0.5, max_depth=3, n_estimators=64,subsample=0.5)"
   ]
  },
  {
   "cell_type": "code",
   "execution_count": 25,
   "metadata": {},
   "outputs": [
    {
     "name": "stdout",
     "output_type": "stream",
     "text": [
      "Métricas -  Teste\n",
      "[[ 7  3]\n",
      " [ 0 31]]\n",
      "              precision    recall  f1-score   support\n",
      "\n",
      "           0       1.00      0.70      0.82        10\n",
      "           1       0.91      1.00      0.95        31\n",
      "\n",
      "    accuracy                           0.93        41\n",
      "   macro avg       0.96      0.85      0.89        41\n",
      "weighted avg       0.93      0.93      0.92        41\n",
      "\n",
      "precisão: 0.9117647058823529\n",
      "recall: 0.7\n",
      "AUC - ROC: 0.85\n"
     ]
    }
   ],
   "source": [
    "treinar_k_fold(xgbm_tunned,X_train, y_train)\n",
    "predictions_xbgm = xgbm_tunned.predict(X_test)\n",
    "exibe_metricas(y_test,predictions_xbgm)"
   ]
  },
  {
   "cell_type": "markdown",
   "metadata": {},
   "source": [
    "#### MultinomialNB"
   ]
  },
  {
   "cell_type": "code",
   "execution_count": 26,
   "metadata": {},
   "outputs": [
    {
     "name": "stdout",
     "output_type": "stream",
     "text": [
      "{'alpha': 0.01, 'fit_prior': True}\n"
     ]
    }
   ],
   "source": [
    "mnb = MultinomialNB()\n",
    "\n",
    "hyperparameters = { 'alpha':[0.01,0.1,1],\n",
    "                   'fit_prior':[True,False]\n",
    "                  }\n",
    "\n",
    "clf = GridSearchCV(mnb, hyperparameters, cv=5)\n",
    "\n",
    "clf.fit(X_train,y_train)\n",
    "\n",
    "print(clf.best_params_)"
   ]
  },
  {
   "cell_type": "code",
   "execution_count": null,
   "metadata": {},
   "outputs": [],
   "source": []
  },
  {
   "cell_type": "code",
   "execution_count": 27,
   "metadata": {},
   "outputs": [],
   "source": [
    "mnb_tunned = MultinomialNB(alpha=0.01)"
   ]
  },
  {
   "cell_type": "code",
   "execution_count": 28,
   "metadata": {},
   "outputs": [
    {
     "name": "stdout",
     "output_type": "stream",
     "text": [
      "Métricas -  Teste\n",
      "[[ 5  5]\n",
      " [ 0 31]]\n",
      "              precision    recall  f1-score   support\n",
      "\n",
      "           0       1.00      0.50      0.67        10\n",
      "           1       0.86      1.00      0.93        31\n",
      "\n",
      "    accuracy                           0.88        41\n",
      "   macro avg       0.93      0.75      0.80        41\n",
      "weighted avg       0.89      0.88      0.86        41\n",
      "\n",
      "precisão: 0.8611111111111112\n",
      "recall: 0.5\n",
      "AUC - ROC: 0.75\n"
     ]
    }
   ],
   "source": [
    "over_smote = SMOTE(random_state=0);\n",
    "X_train_res, y_train_res = over_smote.fit_resample(X_train,y_train)\n",
    "treinar_k_fold(mnb_tunned,X_train_res, y_train_res)\n",
    "predictions = mnb_tunned.predict(X_test)\n",
    "exibe_metricas(y_test,predictions)"
   ]
  },
  {
   "cell_type": "code",
   "execution_count": null,
   "metadata": {},
   "outputs": [],
   "source": []
  },
  {
   "cell_type": "markdown",
   "metadata": {},
   "source": [
    "## Feature Select"
   ]
  },
  {
   "cell_type": "markdown",
   "metadata": {},
   "source": [
    "### Filter - Univariate Select"
   ]
  },
  {
   "cell_type": "code",
   "execution_count": 20,
   "metadata": {},
   "outputs": [],
   "source": [
    "from sklearn.feature_selection import SelectKBest\n",
    "from sklearn.feature_selection import chi2"
   ]
  },
  {
   "cell_type": "code",
   "execution_count": 21,
   "metadata": {},
   "outputs": [
    {
     "name": "stdout",
     "output_type": "stream",
     "text": [
      "                              Atributo        Score\n",
      "5             S2 - Tempo ultimo acesso  4505.666005\n",
      "3                     Q2 - Tempo envio  3410.322322\n",
      "4             S1 - Tempo ultimo acesso  3360.770395\n",
      "2                     Q1 - Tempo envio  1520.140859\n",
      "1                            Q2 - Nota  1472.422154\n",
      "0                            Q1 - Nota  1384.504128\n",
      "33                    Escola de Origem    65.251217\n",
      "9               curso_integrado_MUSICA    14.190707\n",
      "25  cota_SISTEC_Necessidades Especiais    13.287373\n",
      "24           cota_SISTEC_Nao se aplica    10.890892\n",
      "26              cota_MEC_Nao se aplica     9.026201\n",
      "8                  curso_integrado_MSI     8.191960\n",
      "22                cota_SISTEC_Cor/Raca     7.680206\n",
      "28                cota_MEC_publica_PPI     7.599875\n",
      "18          tipo_escola_origem_Privada     5.981571\n"
     ]
    }
   ],
   "source": [
    "#apply SelectKBest class to extract top 25 best features\n",
    "bestfeatures = SelectKBest(score_func=chi2, k=15)\n",
    "fit = bestfeatures.fit(x,y)\n",
    "dfscores = pd.DataFrame(fit.scores_)\n",
    "dfcolumns = pd.DataFrame(x.columns)\n",
    "#concat two dataframes for better visualization \n",
    "featureScores = pd.concat([dfcolumns,dfscores],axis=1)\n",
    "featureScores.columns = ['Atributo','Score']  #naming the dataframe columns\n",
    "print(featureScores.nlargest(15,'Score'))  #print 15 best features"
   ]
  },
  {
   "cell_type": "markdown",
   "metadata": {},
   "source": [
    "### Feature Importance do melhor modelo"
   ]
  },
  {
   "cell_type": "code",
   "execution_count": 25,
   "metadata": {},
   "outputs": [
    {
     "name": "stdout",
     "output_type": "stream",
     "text": [
      "Métricas -  Teste\n",
      "[[16  4]\n",
      " [ 1 57]]\n",
      "              precision    recall  f1-score   support\n",
      "\n",
      "           0       0.94      0.80      0.86        20\n",
      "           1       0.93      0.98      0.96        58\n",
      "\n",
      "    accuracy                           0.94        78\n",
      "   macro avg       0.94      0.89      0.91        78\n",
      "weighted avg       0.94      0.94      0.93        78\n",
      "\n",
      "precisão: 0.9344262295081968\n",
      "recall: 0.8\n",
      "acurácia: 0.9358974358974359\n",
      "AUC - ROC: 0.8913793103448276\n"
     ]
    },
    {
     "data": {
      "image/png": "[encoded data removed]",
      "text/plain": [
       "<Figure size 432x288 with 1 Axes>"
      ]
     },
     "metadata": {
      "needs_background": "light"
     },
     "output_type": "display_data"
    }
   ],
   "source": [
    "import matplotlib.pyplot as plt\n",
    "\n",
    "clf_GBM = GradientBoostingClassifier(random_state=0)\n",
    "over_smote = SMOTE(random_state=0)\n",
    "# fit and apply the transform\n",
    "\n",
    "treinar_k_fold_resampling(clf_GBM,over_smote,X_train, y_train)\n",
    "\n",
    "\n",
    "dtc_predictionsG = clf_GBM.predict(X_test)\n",
    "\n",
    "exibe_metricas(y_test,dtc_predictionsG)\n",
    "\n",
    "\n",
    "#plot graph of feature importances for better visualization\n",
    "feat_importances = pd.Series(clf_GBM.feature_importances_, index=X_train.columns)\n",
    "feat_importances.nlargest(15).plot(kind='barh')\n",
    "plt.show()"
   ]
  },
  {
   "cell_type": "markdown",
   "metadata": {},
   "source": [
    "#### Matriz de confusão"
   ]
  },
  {
   "cell_type": "code",
   "execution_count": 27,
   "metadata": {},
   "outputs": [
    {
     "data": {
      "image/png": "[encoded data removed]",
      "text/plain": [
       "<Figure size 576x432 with 2 Axes>"
      ]
     },
     "metadata": {
      "needs_background": "light"
     },
     "output_type": "display_data"
    }
   ],
   "source": [
    "plot_confusion_matrix(cm           = confusion_matrix(y_test,dtc_predictionsG), \n",
    "                      normalize    = False,\n",
    "                      target_names = ['0 - Desempenho insuficiente', '1 - Desempenho bom'],\n",
    "                      title        = \"Confusion Matrix\")"
   ]
  },
  {
   "cell_type": "code",
   "execution_count": 25,
   "metadata": {},
   "outputs": [
    {
     "name": "stdout",
     "output_type": "stream",
     "text": [
      "Métricas -  Teste\n",
      "[[16  4]\n",
      " [ 4 54]]\n",
      "              precision    recall  f1-score   support\n",
      "\n",
      "           0       0.80      0.80      0.80        20\n",
      "           1       0.93      0.93      0.93        58\n",
      "\n",
      "    accuracy                           0.90        78\n",
      "   macro avg       0.87      0.87      0.87        78\n",
      "weighted avg       0.90      0.90      0.90        78\n",
      "\n",
      "precisão: 0.9310344827586207\n",
      "recall: 0.8\n",
      "acurácia: 0.8974358974358975\n",
      "AUC - ROC: 0.8655172413793103\n"
     ]
    },
    {
     "data": {
      "image/png": "[encoded data removed]",
      "text/plain": [
       "<Figure size 432x288 with 1 Axes>"
      ]
     },
     "metadata": {
      "needs_background": "light"
     },
     "output_type": "display_data"
    }
   ],
   "source": [
    "import matplotlib.pyplot as plt\n",
    "\n",
    "clf_GBM = XGBClassifier(random_state=0)\n",
    "under = RandomUnderSampler(random_state=0)\n",
    "# fit and apply the transform\n",
    "\n",
    "treinar_k_fold_resampling(clf_GBM,under,X_train, y_train)\n",
    "\n",
    "\n",
    "dtc_predictionsG = clf_GBM.predict(X_test)\n",
    "\n",
    "exibe_metricas(y_test,dtc_predictionsG)\n",
    "\n",
    "\n",
    "#plot graph of feature importances for better visualization\n",
    "feat_importances = pd.Series(clf_GBM.feature_importances_, index=X_train.columns)\n",
    "feat_importances.nlargest(15).plot(kind='barh')\n",
    "plt.show()"
   ]
  },
  {
   "cell_type": "markdown",
   "metadata": {},
   "source": [
    "#### Matriz de confusão"
   ]
  },
  {
   "cell_type": "code",
   "execution_count": 26,
   "metadata": {},
   "outputs": [
    {
     "data": {
      "image/png": "[encoded data removed]",
      "text/plain": [
       "<Figure size 576x432 with 2 Axes>"
      ]
     },
     "metadata": {
      "needs_background": "light"
     },
     "output_type": "display_data"
    }
   ],
   "source": [
    "plot_confusion_matrix(cm           = confusion_matrix(y_test,dtc_predictionsG), \n",
    "                      normalize    = False,\n",
    "                      target_names = ['0 - Desempenho insuficiente', '1 - Desempenho bom'],\n",
    "                      title        = \"Confusion Matrix\")"
   ]
  },
  {
   "cell_type": "code",
   "execution_count": 27,
   "metadata": {},
   "outputs": [
    {
     "name": "stdout",
     "output_type": "stream",
     "text": [
      "Métricas -  Teste\n",
      "[[16  4]\n",
      " [ 4 54]]\n",
      "              precision    recall  f1-score   support\n",
      "\n",
      "           0       0.80      0.80      0.80        20\n",
      "           1       0.93      0.93      0.93        58\n",
      "\n",
      "    accuracy                           0.90        78\n",
      "   macro avg       0.87      0.87      0.87        78\n",
      "weighted avg       0.90      0.90      0.90        78\n",
      "\n",
      "precisão: 0.9310344827586207\n",
      "recall: 0.8\n",
      "acurácia: 0.8974358974358975\n",
      "AUC - ROC: 0.8655172413793103\n"
     ]
    },
    {
     "data": {
      "image/png": "[encoded data removed]",
      "text/plain": [
       "<Figure size 432x288 with 1 Axes>"
      ]
     },
     "metadata": {
      "needs_background": "light"
     },
     "output_type": "display_data"
    }
   ],
   "source": [
    "import matplotlib.pyplot as plt\n",
    "\n",
    "clf_RF = RandomForestClassifier(random_state=0)\n",
    "under = RandomUnderSampler(random_state=0)\n",
    "# fit and apply the transform\n",
    "\n",
    "treinar_k_fold_resampling(clf_RF,under,X_train, y_train)\n",
    "\n",
    "\n",
    "dtc_predictionsR = clf_RF.predict(X_test)\n",
    "\n",
    "exibe_metricas(y_test,dtc_predictionsR)\n",
    "\n",
    "\n",
    "#plot graph of feature importances for better visualization\n",
    "feat_importances = pd.Series(clf_RF.feature_importances_, index=X_train.columns)\n",
    "feat_importances.nlargest(15).plot(kind='barh')\n",
    "plt.show()"
   ]
  },
  {
   "cell_type": "markdown",
   "metadata": {},
   "source": [
    "#### Matriz de confusão"
   ]
  },
  {
   "cell_type": "code",
   "execution_count": 28,
   "metadata": {},
   "outputs": [
    {
     "data": {
      "image/png": "[encoded data removed]",
      "text/plain": [
       "<Figure size 576x432 with 2 Axes>"
      ]
     },
     "metadata": {
      "needs_background": "light"
     },
     "output_type": "display_data"
    }
   ],
   "source": [
    "plot_confusion_matrix(cm           = confusion_matrix(y_test,dtc_predictionsR), \n",
    "                      normalize    = False,\n",
    "                      target_names = ['0 - Desempenho insuficiente', '1 - Desempenho bom'],\n",
    "                      title        = \"Confusion Matrix\")"
   ]
  },
  {
   "cell_type": "markdown",
   "metadata": {},
   "source": [
    "gbcCV = GradientBoostingClassifier(random_state=0)"
   ]
  },
  {
   "cell_type": "markdown",
   "metadata": {},
   "source": [
    "from sklearn.feature_selection import RFECV\n",
    "\n",
    "\n",
    "gbcCV = XGBClassifier()\n",
    "rfecv = RFECV(estimator=gbcCV, step=2, cv=StratifiedKFold(10), scoring='recall')\n",
    "rfecv.fit(x, y)"
   ]
  },
  {
   "cell_type": "markdown",
   "metadata": {},
   "source": [
    "print('Optimal number of features: {}'.format(rfecv.n_features_))"
   ]
  },
  {
   "cell_type": "markdown",
   "metadata": {},
   "source": [
    "X = x.copy()"
   ]
  },
  {
   "cell_type": "markdown",
   "metadata": {},
   "source": [
    "print(np.where(rfecv.support_ == False)[0])\n",
    "\n",
    "X.drop(X.columns[np.where(rfecv.support_ == False)[0]], axis=1, inplace=True)"
   ]
  },
  {
   "cell_type": "markdown",
   "metadata": {},
   "source": [
    "import matplotlib.pyplot as plt\n",
    "\n",
    "dset = pd.DataFrame()\n",
    "dset['attr'] = X.columns\n",
    "dset['importance'] = rfecv.estimator_.feature_importances_\n",
    "\n",
    "dset = dset.sort_values(by='importance', ascending=False)\n",
    "\n",
    "\n",
    "plt.figure(figsize=(16, 14))\n",
    "plt.barh(y=dset['attr'], width=dset['importance'], color='#1976D2')\n",
    "plt.title('RFECV - Feature Importances', fontsize=20, fontweight='bold', pad=20)\n",
    "plt.xlabel('Importance', fontsize=14, labelpad=20)\n",
    "plt.show()"
   ]
  }
 ],
 "metadata": {
  "kernelspec": {
   "display_name": "Python 3",
   "language": "python",
   "name": "python3"
  },
  "language_info": {
   "codemirror_mode": {
    "name": "ipython",
    "version": 3
   },
   "file_extension": ".py",
   "mimetype": "text/x-python",
   "name": "python",
   "nbconvert_exporter": "python",
   "pygments_lexer": "ipython3",
   "version": "3.6.9"
  }
 },
 "nbformat": 4,
 "nbformat_minor": 4
}
