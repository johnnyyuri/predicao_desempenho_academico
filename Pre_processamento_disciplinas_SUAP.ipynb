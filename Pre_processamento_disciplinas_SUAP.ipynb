{
 "cells": [
  {
   "cell_type": "code",
   "execution_count": 42,
   "metadata": {},
   "outputs": [],
   "source": [
    "import sklearn\n",
    "import pandas as pd\n",
    "import numpy as np"
   ]
  },
  {
   "cell_type": "code",
   "execution_count": 43,
   "metadata": {},
   "outputs": [],
   "source": [
    "dfs = pd.read_csv('dataset_suap_tecnico_integrado_monteiro.csv', sep=';'  , engine='python')"
   ]
  },
  {
   "cell_type": "code",
   "execution_count": 44,
   "metadata": {},
   "outputs": [],
   "source": [
    "df_materias = dfs"
   ]
  },
  {
   "cell_type": "markdown",
   "metadata": {},
   "source": [
    "searchfor1 = [\n",
    "'Biologia II','Educação Fisica II','Filosofia II','Fisica II','Geografia II','Historia II','Ingles II',\n",
    "'Lingua Portuguesa e Literatura Brasileira II','Matematica II','Metodologia do Trabalho Cientifico','Quimica II',\n",
    "'Sociologia II','Ingles Instrumental I','Lingua Estrangeira Moderna (Ingles) I'\n",
    "]"
   ]
  },
  {
   "cell_type": "code",
   "execution_count": 45,
   "metadata": {},
   "outputs": [],
   "source": [
    "searchfor = [\n",
    "'Educacao Fisica I',\n",
    "'Filosofia I', \n",
    "'Fisica I', \n",
    "'Geografia I', \n",
    "'Historia I', \n",
    "'Lingua Portuguesa e Literatura Brasileira I',\n",
    "'Quimica I', \n",
    "'Sociologia I', \n",
    "'Pratica de Ensino da Matematica I', \n",
    "'Matematica I',\n",
    "'Biologia I', \n",
    "'Informatica Basica'\n",
    "'Informatica',\n",
    "'Sistemas Digitais',\n",
    "'Fundamentos de Eletricidade',\n",
    "'Teoria Musical I', \n",
    "'Historia da Musica I',\n",
    "'Materiais de Construcao Civil',\n",
    "'Desenho Basico e Tecnico'\n",
    "]"
   ]
  },
  {
   "cell_type": "code",
   "execution_count": 46,
   "metadata": {},
   "outputs": [],
   "source": [
    "df_materias = df_materias[(df_materias['Descricao do Componente'].str.contains('|'.join(searchfor)))]"
   ]
  },
  {
   "cell_type": "code",
   "execution_count": 47,
   "metadata": {},
   "outputs": [
    {
     "name": "stderr",
     "output_type": "stream",
     "text": [
      "/usr/local/lib/python3.6/dist-packages/ipykernel_launcher.py:1: SettingWithCopyWarning: \n",
      "A value is trying to be set on a copy of a slice from a DataFrame\n",
      "\n",
      "See the caveats in the documentation: https://pandas.pydata.org/pandas-docs/stable/user_guide/indexing.html#returning-a-view-versus-a-copy\n",
      "  \"\"\"Entry point for launching an IPython kernel.\n"
     ]
    }
   ],
   "source": [
    "df_materias.drop_duplicates(subset ='Codigo do Componente', keep='last', inplace = True)"
   ]
  },
  {
   "cell_type": "code",
   "execution_count": 48,
   "metadata": {},
   "outputs": [],
   "source": [
    "df_materias.to_csv('Disciplinas_comuns_primeiro_ano.csv', encoding='utf-8',sep=';')"
   ]
  },
  {
   "cell_type": "markdown",
   "metadata": {},
   "source": [
    "df_materias.to_csv('Todas_As_Disciplinas.csv', encoding='utf-8',sep=';')"
   ]
  },
  {
   "cell_type": "code",
   "execution_count": null,
   "metadata": {},
   "outputs": [],
   "source": []
  }
 ],
 "metadata": {
  "kernelspec": {
   "display_name": "Python 3",
   "language": "python",
   "name": "python3"
  },
  "language_info": {
   "codemirror_mode": {
    "name": "ipython",
    "version": 3
   },
   "file_extension": ".py",
   "mimetype": "text/x-python",
   "name": "python",
   "nbconvert_exporter": "python",
   "pygments_lexer": "ipython3",
   "version": "3.6.9"
  }
 },
 "nbformat": 4,
 "nbformat_minor": 4
}
