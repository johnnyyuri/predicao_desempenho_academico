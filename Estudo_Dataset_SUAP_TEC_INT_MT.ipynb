{
 "cells": [
  {
   "cell_type": "code",
   "execution_count": 22,
   "metadata": {},
   "outputs": [],
   "source": [
    "import sklearn\n",
    "import pandas as pd\n",
    "import numpy as np"
   ]
  },
  {
   "cell_type": "markdown",
   "metadata": {},
   "source": [
    "### Importantar o dataset\n",
    "#### O arquivo precisa está na mesma pasta do notebook"
   ]
  },
  {
   "cell_type": "code",
   "execution_count": 23,
   "metadata": {},
   "outputs": [],
   "source": [
    "dfs = pd.read_csv('dataset_suap_tecnico_integrado_monteiro.csv', sep=';'  , engine='python')"
   ]
  },
  {
   "cell_type": "markdown",
   "metadata": {},
   "source": [
    "## Análise do conjunto de dados"
   ]
  },
  {
   "cell_type": "markdown",
   "metadata": {},
   "source": [
    "### Analisando os primeiros valores e o cabeçalho"
   ]
  },
  {
   "cell_type": "code",
   "execution_count": 24,
   "metadata": {},
   "outputs": [
    {
     "data": {
      "text/html": [
       "<div>\n",
       "<style scoped>\n",
       "    .dataframe tbody tr th:only-of-type {\n",
       "        vertical-align: middle;\n",
       "    }\n",
       "\n",
       "    .dataframe tbody tr th {\n",
       "        vertical-align: top;\n",
       "    }\n",
       "\n",
       "    .dataframe thead th {\n",
       "        text-align: right;\n",
       "    }\n",
       "</style>\n",
       "<table border=\"1\" class=\"dataframe\">\n",
       "  <thead>\n",
       "    <tr style=\"text-align: right;\">\n",
       "      <th></th>\n",
       "      <th>ID</th>\n",
       "      <th>Matricula</th>\n",
       "      <th>Ano letivo</th>\n",
       "      <th>Periodo Letivo</th>\n",
       "      <th>Periodo na Matriz</th>\n",
       "      <th>Codigo do Componente</th>\n",
       "      <th>Descricao do Componente</th>\n",
       "      <th>CH do Componente</th>\n",
       "      <th>Nota</th>\n",
       "      <th>% Frequencia</th>\n",
       "      <th>...</th>\n",
       "      <th>Faixa de Renda (SISTEC)</th>\n",
       "      <th>Forma de Ingresso</th>\n",
       "      <th>Naturalidade</th>\n",
       "      <th>Nome da Escola de Origem</th>\n",
       "      <th>Periodo de Ingresso</th>\n",
       "      <th>Sexo</th>\n",
       "      <th>Situacao no Curso</th>\n",
       "      <th>Tipo Escola de Origem</th>\n",
       "      <th>Ultimo Ano/Periodo Letivo</th>\n",
       "      <th>Zona Residencial do Aluno</th>\n",
       "    </tr>\n",
       "  </thead>\n",
       "  <tbody>\n",
       "    <tr>\n",
       "      <th>0</th>\n",
       "      <td>1828</td>\n",
       "      <td>201615500018</td>\n",
       "      <td>2016</td>\n",
       "      <td>1</td>\n",
       "      <td>1</td>\n",
       "      <td>TIN.0003</td>\n",
       "      <td>Artes</td>\n",
       "      <td>67</td>\n",
       "      <td>76</td>\n",
       "      <td>100</td>\n",
       "      <td>...</td>\n",
       "      <td>0&lt;RFP&lt;=0,5</td>\n",
       "      <td>PSCT</td>\n",
       "      <td>Monteiro - PB</td>\n",
       "      <td>E.M.E.F.II Professora Maria do Socorro Aragao ...</td>\n",
       "      <td>1</td>\n",
       "      <td>F</td>\n",
       "      <td>Concluido</td>\n",
       "      <td>Publica</td>\n",
       "      <td>2018/1</td>\n",
       "      <td>Rural</td>\n",
       "    </tr>\n",
       "    <tr>\n",
       "      <th>1</th>\n",
       "      <td>1829</td>\n",
       "      <td>201615500018</td>\n",
       "      <td>2016</td>\n",
       "      <td>1</td>\n",
       "      <td>1</td>\n",
       "      <td>TIN.0022</td>\n",
       "      <td>Biologia I</td>\n",
       "      <td>67</td>\n",
       "      <td>75</td>\n",
       "      <td>99</td>\n",
       "      <td>...</td>\n",
       "      <td>0&lt;RFP&lt;=0,5</td>\n",
       "      <td>PSCT</td>\n",
       "      <td>Monteiro - PB</td>\n",
       "      <td>E.M.E.F.II Professora Maria do Socorro Aragao ...</td>\n",
       "      <td>1</td>\n",
       "      <td>F</td>\n",
       "      <td>Concluido</td>\n",
       "      <td>Publica</td>\n",
       "      <td>2018/1</td>\n",
       "      <td>Rural</td>\n",
       "    </tr>\n",
       "    <tr>\n",
       "      <th>2</th>\n",
       "      <td>1830</td>\n",
       "      <td>201615500018</td>\n",
       "      <td>2016</td>\n",
       "      <td>1</td>\n",
       "      <td>1</td>\n",
       "      <td>TIN.0112</td>\n",
       "      <td>Educacao Fisica I</td>\n",
       "      <td>67</td>\n",
       "      <td>92</td>\n",
       "      <td>100</td>\n",
       "      <td>...</td>\n",
       "      <td>0&lt;RFP&lt;=0,5</td>\n",
       "      <td>PSCT</td>\n",
       "      <td>Monteiro - PB</td>\n",
       "      <td>E.M.E.F.II Professora Maria do Socorro Aragao ...</td>\n",
       "      <td>1</td>\n",
       "      <td>F</td>\n",
       "      <td>Concluido</td>\n",
       "      <td>Publica</td>\n",
       "      <td>2018/1</td>\n",
       "      <td>Rural</td>\n",
       "    </tr>\n",
       "    <tr>\n",
       "      <th>3</th>\n",
       "      <td>1831</td>\n",
       "      <td>201615500018</td>\n",
       "      <td>2016</td>\n",
       "      <td>1</td>\n",
       "      <td>1</td>\n",
       "      <td>TIN.0086</td>\n",
       "      <td>Filosofia I</td>\n",
       "      <td>33</td>\n",
       "      <td>88</td>\n",
       "      <td>98</td>\n",
       "      <td>...</td>\n",
       "      <td>0&lt;RFP&lt;=0,5</td>\n",
       "      <td>PSCT</td>\n",
       "      <td>Monteiro - PB</td>\n",
       "      <td>E.M.E.F.II Professora Maria do Socorro Aragao ...</td>\n",
       "      <td>1</td>\n",
       "      <td>F</td>\n",
       "      <td>Concluido</td>\n",
       "      <td>Publica</td>\n",
       "      <td>2018/1</td>\n",
       "      <td>Rural</td>\n",
       "    </tr>\n",
       "    <tr>\n",
       "      <th>4</th>\n",
       "      <td>1832</td>\n",
       "      <td>201615500018</td>\n",
       "      <td>2016</td>\n",
       "      <td>1</td>\n",
       "      <td>1</td>\n",
       "      <td>TIN.0125</td>\n",
       "      <td>Fisica I</td>\n",
       "      <td>67</td>\n",
       "      <td>89</td>\n",
       "      <td>100</td>\n",
       "      <td>...</td>\n",
       "      <td>0&lt;RFP&lt;=0,5</td>\n",
       "      <td>PSCT</td>\n",
       "      <td>Monteiro - PB</td>\n",
       "      <td>E.M.E.F.II Professora Maria do Socorro Aragao ...</td>\n",
       "      <td>1</td>\n",
       "      <td>F</td>\n",
       "      <td>Concluido</td>\n",
       "      <td>Publica</td>\n",
       "      <td>2018/1</td>\n",
       "      <td>Rural</td>\n",
       "    </tr>\n",
       "  </tbody>\n",
       "</table>\n",
       "<p>5 rows × 28 columns</p>\n",
       "</div>"
      ],
      "text/plain": [
       "     ID     Matricula  Ano letivo  Periodo Letivo Periodo na Matriz  \\\n",
       "0  1828  201615500018        2016               1                 1   \n",
       "1  1829  201615500018        2016               1                 1   \n",
       "2  1830  201615500018        2016               1                 1   \n",
       "3  1831  201615500018        2016               1                 1   \n",
       "4  1832  201615500018        2016               1                 1   \n",
       "\n",
       "  Codigo do Componente Descricao do Componente  CH do Componente Nota  \\\n",
       "0             TIN.0003                   Artes                67   76   \n",
       "1             TIN.0022              Biologia I                67   75   \n",
       "2             TIN.0112       Educacao Fisica I                67   92   \n",
       "3             TIN.0086             Filosofia I                33   88   \n",
       "4             TIN.0125                Fisica I                67   89   \n",
       "\n",
       "   % Frequencia  ... Faixa de Renda (SISTEC)  Forma de Ingresso  \\\n",
       "0           100  ...              0<RFP<=0,5               PSCT   \n",
       "1            99  ...              0<RFP<=0,5               PSCT   \n",
       "2           100  ...              0<RFP<=0,5               PSCT   \n",
       "3            98  ...              0<RFP<=0,5               PSCT   \n",
       "4           100  ...              0<RFP<=0,5               PSCT   \n",
       "\n",
       "    Naturalidade                           Nome da Escola de Origem  \\\n",
       "0  Monteiro - PB  E.M.E.F.II Professora Maria do Socorro Aragao ...   \n",
       "1  Monteiro - PB  E.M.E.F.II Professora Maria do Socorro Aragao ...   \n",
       "2  Monteiro - PB  E.M.E.F.II Professora Maria do Socorro Aragao ...   \n",
       "3  Monteiro - PB  E.M.E.F.II Professora Maria do Socorro Aragao ...   \n",
       "4  Monteiro - PB  E.M.E.F.II Professora Maria do Socorro Aragao ...   \n",
       "\n",
       "  Periodo de Ingresso Sexo Situacao no Curso Tipo Escola de Origem  \\\n",
       "0                   1    F         Concluido               Publica   \n",
       "1                   1    F         Concluido               Publica   \n",
       "2                   1    F         Concluido               Publica   \n",
       "3                   1    F         Concluido               Publica   \n",
       "4                   1    F         Concluido               Publica   \n",
       "\n",
       "  Ultimo Ano/Periodo Letivo Zona Residencial do Aluno  \n",
       "0                    2018/1                     Rural  \n",
       "1                    2018/1                     Rural  \n",
       "2                    2018/1                     Rural  \n",
       "3                    2018/1                     Rural  \n",
       "4                    2018/1                     Rural  \n",
       "\n",
       "[5 rows x 28 columns]"
      ]
     },
     "execution_count": 24,
     "metadata": {},
     "output_type": "execute_result"
    }
   ],
   "source": [
    "dfs.head()"
   ]
  },
  {
   "cell_type": "markdown",
   "metadata": {},
   "source": [
    "### Estatística dos valores dos dados"
   ]
  },
  {
   "cell_type": "code",
   "execution_count": 25,
   "metadata": {},
   "outputs": [
    {
     "data": {
      "text/html": [
       "<div>\n",
       "<style scoped>\n",
       "    .dataframe tbody tr th:only-of-type {\n",
       "        vertical-align: middle;\n",
       "    }\n",
       "\n",
       "    .dataframe tbody tr th {\n",
       "        vertical-align: top;\n",
       "    }\n",
       "\n",
       "    .dataframe thead th {\n",
       "        text-align: right;\n",
       "    }\n",
       "</style>\n",
       "<table border=\"1\" class=\"dataframe\">\n",
       "  <thead>\n",
       "    <tr style=\"text-align: right;\">\n",
       "      <th></th>\n",
       "      <th>ID</th>\n",
       "      <th>Matricula</th>\n",
       "      <th>Ano letivo</th>\n",
       "      <th>Periodo Letivo</th>\n",
       "      <th>CH do Componente</th>\n",
       "      <th>% Frequencia</th>\n",
       "      <th>Ano de Ingresso</th>\n",
       "      <th>Periodo de Ingresso</th>\n",
       "    </tr>\n",
       "  </thead>\n",
       "  <tbody>\n",
       "    <tr>\n",
       "      <th>count</th>\n",
       "      <td>16204.000000</td>\n",
       "      <td>1.620400e+04</td>\n",
       "      <td>16204.000000</td>\n",
       "      <td>16204.0</td>\n",
       "      <td>16204.000000</td>\n",
       "      <td>16204.000000</td>\n",
       "      <td>16204.000000</td>\n",
       "      <td>16204.0</td>\n",
       "    </tr>\n",
       "    <tr>\n",
       "      <th>mean</th>\n",
       "      <td>13101.852197</td>\n",
       "      <td>2.017440e+11</td>\n",
       "      <td>2018.009689</td>\n",
       "      <td>1.0</td>\n",
       "      <td>62.216490</td>\n",
       "      <td>96.695322</td>\n",
       "      <td>2017.284189</td>\n",
       "      <td>1.0</td>\n",
       "    </tr>\n",
       "    <tr>\n",
       "      <th>std</th>\n",
       "      <td>7755.335180</td>\n",
       "      <td>9.943707e+07</td>\n",
       "      <td>0.967582</td>\n",
       "      <td>0.0</td>\n",
       "      <td>21.326628</td>\n",
       "      <td>9.024434</td>\n",
       "      <td>0.992918</td>\n",
       "      <td>0.0</td>\n",
       "    </tr>\n",
       "    <tr>\n",
       "      <th>min</th>\n",
       "      <td>26.000000</td>\n",
       "      <td>2.016155e+11</td>\n",
       "      <td>2016.000000</td>\n",
       "      <td>1.0</td>\n",
       "      <td>33.000000</td>\n",
       "      <td>0.000000</td>\n",
       "      <td>2016.000000</td>\n",
       "      <td>1.0</td>\n",
       "    </tr>\n",
       "    <tr>\n",
       "      <th>25%</th>\n",
       "      <td>6292.750000</td>\n",
       "      <td>2.017155e+11</td>\n",
       "      <td>2017.000000</td>\n",
       "      <td>1.0</td>\n",
       "      <td>33.000000</td>\n",
       "      <td>98.000000</td>\n",
       "      <td>2017.000000</td>\n",
       "      <td>1.0</td>\n",
       "    </tr>\n",
       "    <tr>\n",
       "      <th>50%</th>\n",
       "      <td>12981.500000</td>\n",
       "      <td>2.017155e+11</td>\n",
       "      <td>2018.000000</td>\n",
       "      <td>1.0</td>\n",
       "      <td>67.000000</td>\n",
       "      <td>100.000000</td>\n",
       "      <td>2017.000000</td>\n",
       "      <td>1.0</td>\n",
       "    </tr>\n",
       "    <tr>\n",
       "      <th>75%</th>\n",
       "      <td>19692.250000</td>\n",
       "      <td>2.018155e+11</td>\n",
       "      <td>2019.000000</td>\n",
       "      <td>1.0</td>\n",
       "      <td>67.000000</td>\n",
       "      <td>100.000000</td>\n",
       "      <td>2018.000000</td>\n",
       "      <td>1.0</td>\n",
       "    </tr>\n",
       "    <tr>\n",
       "      <th>max</th>\n",
       "      <td>26896.000000</td>\n",
       "      <td>2.020155e+11</td>\n",
       "      <td>2020.000000</td>\n",
       "      <td>1.0</td>\n",
       "      <td>133.000000</td>\n",
       "      <td>100.000000</td>\n",
       "      <td>2020.000000</td>\n",
       "      <td>1.0</td>\n",
       "    </tr>\n",
       "  </tbody>\n",
       "</table>\n",
       "</div>"
      ],
      "text/plain": [
       "                 ID     Matricula    Ano letivo  Periodo Letivo  \\\n",
       "count  16204.000000  1.620400e+04  16204.000000         16204.0   \n",
       "mean   13101.852197  2.017440e+11   2018.009689             1.0   \n",
       "std     7755.335180  9.943707e+07      0.967582             0.0   \n",
       "min       26.000000  2.016155e+11   2016.000000             1.0   \n",
       "25%     6292.750000  2.017155e+11   2017.000000             1.0   \n",
       "50%    12981.500000  2.017155e+11   2018.000000             1.0   \n",
       "75%    19692.250000  2.018155e+11   2019.000000             1.0   \n",
       "max    26896.000000  2.020155e+11   2020.000000             1.0   \n",
       "\n",
       "       CH do Componente  % Frequencia  Ano de Ingresso  Periodo de Ingresso  \n",
       "count      16204.000000  16204.000000     16204.000000              16204.0  \n",
       "mean          62.216490     96.695322      2017.284189                  1.0  \n",
       "std           21.326628      9.024434         0.992918                  0.0  \n",
       "min           33.000000      0.000000      2016.000000                  1.0  \n",
       "25%           33.000000     98.000000      2017.000000                  1.0  \n",
       "50%           67.000000    100.000000      2017.000000                  1.0  \n",
       "75%           67.000000    100.000000      2018.000000                  1.0  \n",
       "max          133.000000    100.000000      2020.000000                  1.0  "
      ]
     },
     "execution_count": 25,
     "metadata": {},
     "output_type": "execute_result"
    }
   ],
   "source": [
    "dfs.describe()"
   ]
  },
  {
   "cell_type": "markdown",
   "metadata": {},
   "source": [
    "### Tipos dos atributos"
   ]
  },
  {
   "cell_type": "code",
   "execution_count": 27,
   "metadata": {},
   "outputs": [
    {
     "name": "stdout",
     "output_type": "stream",
     "text": [
      "<class 'pandas.core.frame.DataFrame'>\n",
      "RangeIndex: 16204 entries, 0 to 16203\n",
      "Data columns (total 28 columns):\n",
      " #   Column                     Non-Null Count  Dtype \n",
      "---  ------                     --------------  ----- \n",
      " 0   ID                         16204 non-null  int64 \n",
      " 1   Matricula                  16204 non-null  int64 \n",
      " 2   Ano letivo                 16204 non-null  int64 \n",
      " 3   Periodo Letivo             16204 non-null  int64 \n",
      " 4   Periodo na Matriz          16204 non-null  object\n",
      " 5   Codigo do Componente       16204 non-null  object\n",
      " 6   Descricao do Componente    16204 non-null  object\n",
      " 7   CH do Componente           16204 non-null  int64 \n",
      " 8   Nota                       16204 non-null  object\n",
      " 9   % Frequencia               16204 non-null  int64 \n",
      " 10  Situacao no Diario         16204 non-null  object\n",
      " 11  Ano de Ingresso            16204 non-null  int64 \n",
      " 12  Cor/Raca                   16204 non-null  object\n",
      " 13  Cota MEC                   16204 non-null  object\n",
      " 14  Cota SISTEC                16204 non-null  object\n",
      " 15  Curso                      16204 non-null  object\n",
      " 16  Data de Conclusao          16204 non-null  object\n",
      " 17  Data de Nascimento         16204 non-null  object\n",
      " 18  Faixa de Renda (SISTEC)    16204 non-null  object\n",
      " 19  Forma de Ingresso          16204 non-null  object\n",
      " 20  Naturalidade               16204 non-null  object\n",
      " 21  Nome da Escola de Origem   16204 non-null  object\n",
      " 22  Periodo de Ingresso        16204 non-null  int64 \n",
      " 23  Sexo                       16204 non-null  object\n",
      " 24  Situacao no Curso          16204 non-null  object\n",
      " 25  Tipo Escola de Origem      16204 non-null  object\n",
      " 26  Ultimo Ano/Periodo Letivo  16204 non-null  object\n",
      " 27  Zona Residencial do Aluno  16204 non-null  object\n",
      "dtypes: int64(8), object(20)\n",
      "memory usage: 3.5+ MB\n"
     ]
    }
   ],
   "source": [
    "dfs.info()"
   ]
  },
  {
   "cell_type": "markdown",
   "metadata": {},
   "source": [
    "## Análise de cada atributo"
   ]
  },
  {
   "cell_type": "markdown",
   "metadata": {},
   "source": [
    "### Quantidade de instâncias de matrículas"
   ]
  },
  {
   "cell_type": "code",
   "execution_count": 26,
   "metadata": {},
   "outputs": [
    {
     "data": {
      "text/plain": [
       "492"
      ]
     },
     "execution_count": 26,
     "metadata": {},
     "output_type": "execute_result"
    }
   ],
   "source": [
    "dfs['Matricula'].nunique()"
   ]
  },
  {
   "cell_type": "code",
   "execution_count": 28,
   "metadata": {},
   "outputs": [
    {
     "data": {
      "text/plain": [
       "2019    6147\n",
       "2018    5308\n",
       "2017    3324\n",
       "2016    1379\n",
       "2020      46\n",
       "Name: Ano letivo, dtype: int64"
      ]
     },
     "execution_count": 28,
     "metadata": {},
     "output_type": "execute_result"
    }
   ],
   "source": [
    "dfs['Ano letivo'].value_counts()"
   ]
  },
  {
   "cell_type": "code",
   "execution_count": 29,
   "metadata": {},
   "outputs": [
    {
     "data": {
      "text/plain": [
       "1    16204\n",
       "Name: Periodo Letivo, dtype: int64"
      ]
     },
     "execution_count": 29,
     "metadata": {},
     "output_type": "execute_result"
    }
   ],
   "source": [
    "dfs['Periodo Letivo'].value_counts()"
   ]
  },
  {
   "cell_type": "code",
   "execution_count": 30,
   "metadata": {},
   "outputs": [
    {
     "data": {
      "text/plain": [
       "1    8156\n",
       "2    4877\n",
       "3    2356\n",
       "-     815\n",
       "Name: Periodo na Matriz, dtype: int64"
      ]
     },
     "execution_count": 30,
     "metadata": {},
     "output_type": "execute_result"
    }
   ],
   "source": [
    "dfs['Periodo na Matriz'].value_counts()"
   ]
  },
  {
   "cell_type": "code",
   "execution_count": 31,
   "metadata": {},
   "outputs": [
    {
     "data": {
      "text/plain": [
       "TIN.0014    565\n",
       "TIN.0125    562\n",
       "TIN.0001    536\n",
       "TIN.0351    535\n",
       "TIN.0124    532\n",
       "           ... \n",
       "TIN.0265      1\n",
       "TIN.0994      1\n",
       "TIN.0285      1\n",
       "TIN.0980      1\n",
       "TIN.0920      1\n",
       "Name: Codigo do Componente, Length: 169, dtype: int64"
      ]
     },
     "execution_count": 31,
     "metadata": {},
     "output_type": "execute_result"
    }
   ],
   "source": [
    "dfs['Codigo do Componente'].value_counts()"
   ]
  },
  {
   "cell_type": "code",
   "execution_count": 32,
   "metadata": {},
   "outputs": [
    {
     "data": {
      "text/plain": [
       "Matematica I                                   565\n",
       "Fisica I                                       562\n",
       "Lingua Portuguesa e Literatura Brasileira I    536\n",
       "Historia I                                     535\n",
       "Quimica I                                      532\n",
       "                                              ... \n",
       "Instrumento II - Flauta Doce                     1\n",
       "Classe de Instrumento III - Flauta Doce          1\n",
       "Pratica de Conjunto I                            1\n",
       "Instrumento III - Contrabaixo Acustico           1\n",
       "Metodologia da Pesquisa Cientifica               1\n",
       "Name: Descricao do Componente, Length: 165, dtype: int64"
      ]
     },
     "execution_count": 32,
     "metadata": {},
     "output_type": "execute_result"
    }
   ],
   "source": [
    "dfs['Descricao do Componente'].value_counts()"
   ]
  },
  {
   "cell_type": "code",
   "execution_count": 33,
   "metadata": {},
   "outputs": [
    {
     "data": {
      "text/plain": [
       "67     9795\n",
       "33     4384\n",
       "100    1882\n",
       "133     143\n",
       "Name: CH do Componente, dtype: int64"
      ]
     },
     "execution_count": 33,
     "metadata": {},
     "output_type": "execute_result"
    }
   ],
   "source": [
    "dfs['CH do Componente'].value_counts()"
   ]
  },
  {
   "cell_type": "code",
   "execution_count": 34,
   "metadata": {},
   "outputs": [
    {
     "data": {
      "text/plain": [
       "70    614\n",
       "-     613\n",
       "80    581\n",
       "83    556\n",
       "76    556\n",
       "     ... \n",
       "8      13\n",
       "1      11\n",
       "5      11\n",
       "14      9\n",
       "2       7\n",
       "Name: Nota, Length: 102, dtype: int64"
      ]
     },
     "execution_count": 34,
     "metadata": {},
     "output_type": "execute_result"
    }
   ],
   "source": [
    "dfs['Nota'].value_counts()"
   ]
  },
  {
   "cell_type": "code",
   "execution_count": 35,
   "metadata": {},
   "outputs": [
    {
     "data": {
      "text/plain": [
       "100    9751\n",
       "98     2287\n",
       "95      813\n",
       "93      519\n",
       "96      507\n",
       "       ... \n",
       "28        1\n",
       "29        1\n",
       "19        1\n",
       "8         1\n",
       "37        1\n",
       "Name: % Frequencia, Length: 90, dtype: int64"
      ]
     },
     "execution_count": 35,
     "metadata": {},
     "output_type": "execute_result"
    }
   ],
   "source": [
    "dfs['% Frequencia'].value_counts()"
   ]
  },
  {
   "cell_type": "code",
   "execution_count": 36,
   "metadata": {},
   "outputs": [
    {
     "data": {
      "text/plain": [
       "Aprovado                      12846\n",
       "Cancelado                      1358\n",
       "Reprovado                      1141\n",
       "Aprovado - Retido na serie      859\n",
       "Name: Situacao no Diario, dtype: int64"
      ]
     },
     "execution_count": 36,
     "metadata": {},
     "output_type": "execute_result"
    }
   ],
   "source": [
    "dfs['Situacao no Diario'].value_counts()"
   ]
  },
  {
   "cell_type": "code",
   "execution_count": 37,
   "metadata": {},
   "outputs": [
    {
     "data": {
      "text/plain": [
       "2017    5790\n",
       "2018    4167\n",
       "2016    4034\n",
       "2019    2167\n",
       "2020      46\n",
       "Name: Ano de Ingresso, dtype: int64"
      ]
     },
     "execution_count": 37,
     "metadata": {},
     "output_type": "execute_result"
    }
   ],
   "source": [
    "dfs['Ano de Ingresso'].value_counts()"
   ]
  },
  {
   "cell_type": "code",
   "execution_count": 38,
   "metadata": {},
   "outputs": [
    {
     "data": {
      "text/plain": [
       "Parda            7629\n",
       "Branca           7405\n",
       "Nao declarada     819\n",
       "Preta             319\n",
       "Indigena           32\n",
       "Name: Cor/Raca, dtype: int64"
      ]
     },
     "execution_count": 38,
     "metadata": {},
     "output_type": "execute_result"
    }
   ],
   "source": [
    "dfs['Cor/Raca'].value_counts()"
   ]
  },
  {
   "cell_type": "code",
   "execution_count": 39,
   "metadata": {},
   "outputs": [
    {
     "data": {
      "text/plain": [
       "Nao se aplica                                                                             10303\n",
       "Oriundo de escola publica, com renda inferior a 1,5 S.M., declarado PPI                    2194\n",
       "Oriundo de escola publica, declarado PPI                                                   1684\n",
       "Oriundo de escola publica, com renda inferior a 1,5 S.M.                                   1309\n",
       "Oriundo de escola publica                                                                   607\n",
       "Oriundo de escola publica, declarado PCD                                                     61\n",
       "Oriundo de escola publica, com renda inferior a 1,5 S.M., declarado PCD                      31\n",
       "Oriundo de escola publica, com renda inferior a 1,5 S.M., declarado PPI, declarado PCD       15\n",
       "Name: Cota MEC, dtype: int64"
      ]
     },
     "execution_count": 39,
     "metadata": {},
     "output_type": "execute_result"
    }
   ],
   "source": [
    "dfs['Cota MEC'].value_counts()"
   ]
  },
  {
   "cell_type": "code",
   "execution_count": 40,
   "metadata": {},
   "outputs": [
    {
     "data": {
      "text/plain": [
       "Nao se aplica             7262\n",
       "Escola Publica            6561\n",
       "Cor/Raca                  2124\n",
       "Necessidades Especiais     257\n",
       "Name: Cota SISTEC, dtype: int64"
      ]
     },
     "execution_count": 40,
     "metadata": {},
     "output_type": "execute_result"
    }
   ],
   "source": [
    "dfs['Cota SISTEC'].value_counts()"
   ]
  },
  {
   "cell_type": "code",
   "execution_count": 41,
   "metadata": {},
   "outputs": [
    {
     "data": {
      "text/plain": [
       "551 - Tecnico em Instrumento Musical Integrado - Monteiro (CAMPUS MONTEIRO)                    6100\n",
       "550 - Tecnico em Manutencao e Suporte em Informatica Integrado - Monteiro (CAMPUS MONTEIRO)    6024\n",
       "552 - Tecnico em Edificacoes Integrado ao Ensino Medio - Monteiro (CAMPUS MONTEIRO)            4080\n",
       "Name: Curso, dtype: int64"
      ]
     },
     "execution_count": 41,
     "metadata": {},
     "output_type": "execute_result"
    }
   ],
   "source": [
    "dfs['Curso'].value_counts()"
   ]
  },
  {
   "cell_type": "code",
   "execution_count": 42,
   "metadata": {},
   "outputs": [
    {
     "data": {
      "text/plain": [
       "-             9763\n",
       "11/12/2019     956\n",
       "19/12/2019     763\n",
       "12/12/2019     759\n",
       "19/12/2018     704\n",
       "21/12/2018     459\n",
       "17/12/2019     430\n",
       "18/12/2019     428\n",
       "20/12/2018     353\n",
       "16/12/2019     257\n",
       "13/12/2019     206\n",
       "26/12/2018     153\n",
       "06/02/2020      67\n",
       "25/01/2019      52\n",
       "18/12/2018      52\n",
       "10/01/2020      51\n",
       "28/01/2020      51\n",
       "20/12/2019      51\n",
       "18/01/2019      51\n",
       "04/02/2019      51\n",
       "24/12/2018      50\n",
       "08/01/2019      50\n",
       "01/03/2019      50\n",
       "04/02/2020      50\n",
       "30/01/2019      50\n",
       "04/06/2019      50\n",
       "31/01/2019      50\n",
       "23/01/2019      50\n",
       "14/01/2020      49\n",
       "13/02/2019      49\n",
       "29/01/2019      49\n",
       "Name: Data de Conclusao, dtype: int64"
      ]
     },
     "execution_count": 42,
     "metadata": {},
     "output_type": "execute_result"
    }
   ],
   "source": [
    "dfs['Data de Conclusao'].value_counts()"
   ]
  },
  {
   "cell_type": "code",
   "execution_count": 43,
   "metadata": {},
   "outputs": [
    {
     "data": {
      "text/plain": [
       "19/01/2001    164\n",
       "26/03/2002    134\n",
       "10/05/2001    128\n",
       "18/12/2001    120\n",
       "26/09/2001    107\n",
       "             ... \n",
       "23/06/2000     14\n",
       "16/09/2000     14\n",
       "17/03/2003     14\n",
       "01/04/2001     14\n",
       "13/06/1997      7\n",
       "Name: Data de Nascimento, Length: 429, dtype: int64"
      ]
     },
     "execution_count": 43,
     "metadata": {},
     "output_type": "execute_result"
    }
   ],
   "source": [
    "dfs['Data de Nascimento'].value_counts()"
   ]
  },
  {
   "cell_type": "code",
   "execution_count": 44,
   "metadata": {},
   "outputs": [
    {
     "data": {
      "text/plain": [
       "0<RFP<=0,5       12582\n",
       "Nao declarado     1616\n",
       "0,5<RFP<=1        1402\n",
       "1,0<RFP<=1,5       413\n",
       "1,5<RFP<=2,5       158\n",
       "RFP>3,5             33\n",
       "Name: Faixa de Renda (SISTEC), dtype: int64"
      ]
     },
     "execution_count": 44,
     "metadata": {},
     "output_type": "execute_result"
    }
   ],
   "source": [
    "dfs['Faixa de Renda (SISTEC)'].value_counts()"
   ]
  },
  {
   "cell_type": "code",
   "execution_count": 45,
   "metadata": {},
   "outputs": [
    {
     "data": {
      "text/plain": [
       "PSCT                                    13777\n",
       "PSCT EEP (Inativa)                       1341\n",
       "PSCT -  AMPLA CONCORRENCIA (Inativa)     1040\n",
       "Transferencia Externa Ex-Oficio            39\n",
       "Transferencia de Instituicao                7\n",
       "Name: Forma de Ingresso, dtype: int64"
      ]
     },
     "execution_count": 45,
     "metadata": {},
     "output_type": "execute_result"
    }
   ],
   "source": [
    "dfs['Forma de Ingresso'].value_counts()"
   ]
  },
  {
   "cell_type": "code",
   "execution_count": 46,
   "metadata": {},
   "outputs": [
    {
     "data": {
      "text/plain": [
       "Monteiro - PB                      10467\n",
       "Sume - PB                           1818\n",
       "Campina Grande - PB                  702\n",
       "Sao Paulo - SP                       603\n",
       "Joao Pessoa - PB                     225\n",
       "Sertania - PE                        210\n",
       "Arcoverde - PE                       188\n",
       "Pesqueira - PE                       187\n",
       "Guarulhos - SP                       183\n",
       "Sao Jose do Egito - PE               157\n",
       "Brasilia - DF                        156\n",
       "Recife - PE                          120\n",
       "Serra Branca - PB                    110\n",
       "Congo - PB                            85\n",
       "Sao Bernardo do Campo - SP            85\n",
       "Caruaru - PE                          82\n",
       "Rio de Janeiro - RJ                   67\n",
       "Patos - PB                            54\n",
       "Sao Mateus do Sul - PR                54\n",
       "Jatauba - PE                          52\n",
       "Braganca Paulista - SP                50\n",
       "Valinhos - SP                         50\n",
       "Sao Vicente - SP                      36\n",
       "Eunapolis - BA                        35\n",
       "Guarabira - PB                        35\n",
       "Prata - PB                            35\n",
       "Itaquaquecetuba - SP                  34\n",
       "Paulo Afonso - BA                     34\n",
       "Araras - SP                           33\n",
       "Maua - SP                             32\n",
       "Americana - SP                        32\n",
       "Picui - PB                            31\n",
       "Zabele - PB                           17\n",
       "Sao Sebastiao do Umbuzeiro - PB       17\n",
       "Francisco Morato - SP                 17\n",
       "Carapicuiba - SP                      17\n",
       "Suzano - SP                           17\n",
       "Aroeiras - PB                         16\n",
       "Tuparetama - PE                       16\n",
       "Cabo de Santo Agostinho - PE          15\n",
       "Petrolina - PE                        15\n",
       "Itapetim - PE                         15\n",
       "Name: Naturalidade, dtype: int64"
      ]
     },
     "execution_count": 46,
     "metadata": {},
     "output_type": "execute_result"
    }
   ],
   "source": [
    "dfs['Naturalidade'].value_counts()"
   ]
  },
  {
   "cell_type": "code",
   "execution_count": 47,
   "metadata": {},
   "outputs": [
    {
     "data": {
      "text/plain": [
       "-                                                                                1613\n",
       "Colegio Nossa Senhora de Lourdes                                                 1215\n",
       "E.E.E.F. MIGUEL SANTA CRUZ                                                        906\n",
       "Escola Agrotecnica de Ensino Fundamental Deputado Evaldo Goncalves de Queiroz     593\n",
       "Instituto Educacional Jose Pereira do Nascimento                                  574\n",
       "                                                                                 ... \n",
       "E.M.F. II MARIA DO SOCORRO ARAGAO LIBERAL                                          15\n",
       "E. M. E. F. II MARIA DO SOCORRO ARAGAO LIBERAL                                     15\n",
       "E.E.E.F.M. PROFaMARIA CELESTE DO NASCIMENTO                                        14\n",
       "CENTRO EDUCACIONAL AGUA AZUL - ESCOLA DO CAMPO                                     14\n",
       "Escola Municipal Professor Jose Mendes                                              7\n",
       "Name: Nome da Escola de Origem, Length: 179, dtype: int64"
      ]
     },
     "execution_count": 47,
     "metadata": {},
     "output_type": "execute_result"
    }
   ],
   "source": [
    "dfs['Nome da Escola de Origem'].value_counts()"
   ]
  },
  {
   "cell_type": "code",
   "execution_count": 48,
   "metadata": {},
   "outputs": [
    {
     "data": {
      "text/plain": [
       "1    16204\n",
       "Name: Periodo de Ingresso, dtype: int64"
      ]
     },
     "execution_count": 48,
     "metadata": {},
     "output_type": "execute_result"
    }
   ],
   "source": [
    "dfs['Periodo de Ingresso'].value_counts()"
   ]
  },
  {
   "cell_type": "code",
   "execution_count": 49,
   "metadata": {},
   "outputs": [
    {
     "data": {
      "text/plain": [
       "F    10757\n",
       "M     5447\n",
       "Name: Sexo, dtype: int64"
      ]
     },
     "execution_count": 49,
     "metadata": {},
     "output_type": "execute_result"
    }
   ],
   "source": [
    "dfs['Sexo'].value_counts()"
   ]
  },
  {
   "cell_type": "code",
   "execution_count": 50,
   "metadata": {},
   "outputs": [
    {
     "data": {
      "text/plain": [
       "Matriculado                 6905\n",
       "Concluido                   6441\n",
       "Transferido Externo         1907\n",
       "Cancelado                    386\n",
       "Evasao                       292\n",
       "Transferido Interno          140\n",
       "Cancelamento Compulsorio     133\n",
       "Name: Situacao no Curso, dtype: int64"
      ]
     },
     "execution_count": 50,
     "metadata": {},
     "output_type": "execute_result"
    }
   ],
   "source": [
    "dfs['Situacao no Curso'].value_counts()"
   ]
  },
  {
   "cell_type": "code",
   "execution_count": 51,
   "metadata": {},
   "outputs": [
    {
     "data": {
      "text/plain": [
       "Publica    13349\n",
       "Privada     2855\n",
       "Name: Tipo Escola de Origem, dtype: int64"
      ]
     },
     "execution_count": 51,
     "metadata": {},
     "output_type": "execute_result"
    }
   ],
   "source": [
    "dfs['Tipo Escola de Origem'].value_counts()"
   ]
  },
  {
   "cell_type": "code",
   "execution_count": 52,
   "metadata": {},
   "outputs": [
    {
     "data": {
      "text/plain": [
       "2020/1    7022\n",
       "2019/1    5427\n",
       "2018/1    3019\n",
       "2017/1     574\n",
       "2016/1     162\n",
       "Name: Ultimo Ano/Periodo Letivo, dtype: int64"
      ]
     },
     "execution_count": 52,
     "metadata": {},
     "output_type": "execute_result"
    }
   ],
   "source": [
    "dfs['Ultimo Ano/Periodo Letivo'].value_counts()"
   ]
  },
  {
   "cell_type": "code",
   "execution_count": 53,
   "metadata": {},
   "outputs": [
    {
     "data": {
      "text/plain": [
       "Urbana    13685\n",
       "Rural      2519\n",
       "Name: Zona Residencial do Aluno, dtype: int64"
      ]
     },
     "execution_count": 53,
     "metadata": {},
     "output_type": "execute_result"
    }
   ],
   "source": [
    "dfs['Zona Residencial do Aluno'].value_counts()"
   ]
  },
  {
   "cell_type": "code",
   "execution_count": null,
   "metadata": {},
   "outputs": [],
   "source": []
  }
 ],
 "metadata": {
  "kernelspec": {
   "display_name": "Python 3",
   "language": "python",
   "name": "python3"
  },
  "language_info": {
   "codemirror_mode": {
    "name": "ipython",
    "version": 3
   },
   "file_extension": ".py",
   "mimetype": "text/x-python",
   "name": "python",
   "nbconvert_exporter": "python",
   "pygments_lexer": "ipython3",
   "version": "3.6.9"
  }
 },
 "nbformat": 4,
 "nbformat_minor": 4
}
