{
 "cells": [
  {
   "cell_type": "code",
   "execution_count": 116,
   "metadata": {},
   "outputs": [],
   "source": [
    "import sklearn\n",
    "import pandas as pd\n",
    "import numpy as np"
   ]
  },
  {
   "cell_type": "markdown",
   "metadata": {},
   "source": [
    "### Importantar o dataset\n",
    "#### O arquivo precisa está na mesma pasta do notebook"
   ]
  },
  {
   "cell_type": "code",
   "execution_count": 117,
   "metadata": {},
   "outputs": [],
   "source": [
    "dfs = pd.read_csv('dataset_suap_tecnico_integrado_monteiro.csv', sep=';'  , engine='python')"
   ]
  },
  {
   "cell_type": "markdown",
   "metadata": {},
   "source": [
    "## Análise do conjunto de dados"
   ]
  },
  {
   "cell_type": "markdown",
   "metadata": {},
   "source": [
    "### Analisando os primeiros valores e o cabeçalho"
   ]
  },
  {
   "cell_type": "code",
   "execution_count": 118,
   "metadata": {},
   "outputs": [
    {
     "data": {
      "text/html": [
       "<div>\n",
       "<style scoped>\n",
       "    .dataframe tbody tr th:only-of-type {\n",
       "        vertical-align: middle;\n",
       "    }\n",
       "\n",
       "    .dataframe tbody tr th {\n",
       "        vertical-align: top;\n",
       "    }\n",
       "\n",
       "    .dataframe thead th {\n",
       "        text-align: right;\n",
       "    }\n",
       "</style>\n",
       "<table border=\"1\" class=\"dataframe\">\n",
       "  <thead>\n",
       "    <tr style=\"text-align: right;\">\n",
       "      <th></th>\n",
       "      <th>ID</th>\n",
       "      <th>Matricula</th>\n",
       "      <th>Ano letivo</th>\n",
       "      <th>Periodo Letivo</th>\n",
       "      <th>Periodo na Matriz</th>\n",
       "      <th>Codigo do Componente</th>\n",
       "      <th>Descricao do Componente</th>\n",
       "      <th>CH do Componente</th>\n",
       "      <th>Nota</th>\n",
       "      <th>% Frequencia</th>\n",
       "      <th>...</th>\n",
       "      <th>Faixa de Renda (SISTEC)</th>\n",
       "      <th>Forma de Ingresso</th>\n",
       "      <th>Naturalidade</th>\n",
       "      <th>Nome da Escola de Origem</th>\n",
       "      <th>Periodo de Ingresso</th>\n",
       "      <th>Sexo</th>\n",
       "      <th>Situacao no Curso</th>\n",
       "      <th>Tipo Escola de Origem</th>\n",
       "      <th>Ultimo Ano/Periodo Letivo</th>\n",
       "      <th>Zona Residencial do Aluno</th>\n",
       "    </tr>\n",
       "  </thead>\n",
       "  <tbody>\n",
       "    <tr>\n",
       "      <th>0</th>\n",
       "      <td>1828</td>\n",
       "      <td>201615500018</td>\n",
       "      <td>2016</td>\n",
       "      <td>1</td>\n",
       "      <td>1</td>\n",
       "      <td>TIN.0003</td>\n",
       "      <td>Artes</td>\n",
       "      <td>67</td>\n",
       "      <td>76</td>\n",
       "      <td>100</td>\n",
       "      <td>...</td>\n",
       "      <td>0&lt;RFP&lt;=0,5</td>\n",
       "      <td>PSCT</td>\n",
       "      <td>Monteiro - PB</td>\n",
       "      <td>E.M.E.F.II Professora Maria do Socorro Aragao ...</td>\n",
       "      <td>1</td>\n",
       "      <td>F</td>\n",
       "      <td>Concluido</td>\n",
       "      <td>Publica</td>\n",
       "      <td>2018/1</td>\n",
       "      <td>Rural</td>\n",
       "    </tr>\n",
       "    <tr>\n",
       "      <th>1</th>\n",
       "      <td>1829</td>\n",
       "      <td>201615500018</td>\n",
       "      <td>2016</td>\n",
       "      <td>1</td>\n",
       "      <td>1</td>\n",
       "      <td>TIN.0022</td>\n",
       "      <td>Biologia I</td>\n",
       "      <td>67</td>\n",
       "      <td>75</td>\n",
       "      <td>99</td>\n",
       "      <td>...</td>\n",
       "      <td>0&lt;RFP&lt;=0,5</td>\n",
       "      <td>PSCT</td>\n",
       "      <td>Monteiro - PB</td>\n",
       "      <td>E.M.E.F.II Professora Maria do Socorro Aragao ...</td>\n",
       "      <td>1</td>\n",
       "      <td>F</td>\n",
       "      <td>Concluido</td>\n",
       "      <td>Publica</td>\n",
       "      <td>2018/1</td>\n",
       "      <td>Rural</td>\n",
       "    </tr>\n",
       "    <tr>\n",
       "      <th>2</th>\n",
       "      <td>1830</td>\n",
       "      <td>201615500018</td>\n",
       "      <td>2016</td>\n",
       "      <td>1</td>\n",
       "      <td>1</td>\n",
       "      <td>TIN.0112</td>\n",
       "      <td>Educacao Fisica I</td>\n",
       "      <td>67</td>\n",
       "      <td>92</td>\n",
       "      <td>100</td>\n",
       "      <td>...</td>\n",
       "      <td>0&lt;RFP&lt;=0,5</td>\n",
       "      <td>PSCT</td>\n",
       "      <td>Monteiro - PB</td>\n",
       "      <td>E.M.E.F.II Professora Maria do Socorro Aragao ...</td>\n",
       "      <td>1</td>\n",
       "      <td>F</td>\n",
       "      <td>Concluido</td>\n",
       "      <td>Publica</td>\n",
       "      <td>2018/1</td>\n",
       "      <td>Rural</td>\n",
       "    </tr>\n",
       "    <tr>\n",
       "      <th>3</th>\n",
       "      <td>1831</td>\n",
       "      <td>201615500018</td>\n",
       "      <td>2016</td>\n",
       "      <td>1</td>\n",
       "      <td>1</td>\n",
       "      <td>TIN.0086</td>\n",
       "      <td>Filosofia I</td>\n",
       "      <td>33</td>\n",
       "      <td>88</td>\n",
       "      <td>98</td>\n",
       "      <td>...</td>\n",
       "      <td>0&lt;RFP&lt;=0,5</td>\n",
       "      <td>PSCT</td>\n",
       "      <td>Monteiro - PB</td>\n",
       "      <td>E.M.E.F.II Professora Maria do Socorro Aragao ...</td>\n",
       "      <td>1</td>\n",
       "      <td>F</td>\n",
       "      <td>Concluido</td>\n",
       "      <td>Publica</td>\n",
       "      <td>2018/1</td>\n",
       "      <td>Rural</td>\n",
       "    </tr>\n",
       "    <tr>\n",
       "      <th>4</th>\n",
       "      <td>1832</td>\n",
       "      <td>201615500018</td>\n",
       "      <td>2016</td>\n",
       "      <td>1</td>\n",
       "      <td>1</td>\n",
       "      <td>TIN.0125</td>\n",
       "      <td>Fisica I</td>\n",
       "      <td>67</td>\n",
       "      <td>89</td>\n",
       "      <td>100</td>\n",
       "      <td>...</td>\n",
       "      <td>0&lt;RFP&lt;=0,5</td>\n",
       "      <td>PSCT</td>\n",
       "      <td>Monteiro - PB</td>\n",
       "      <td>E.M.E.F.II Professora Maria do Socorro Aragao ...</td>\n",
       "      <td>1</td>\n",
       "      <td>F</td>\n",
       "      <td>Concluido</td>\n",
       "      <td>Publica</td>\n",
       "      <td>2018/1</td>\n",
       "      <td>Rural</td>\n",
       "    </tr>\n",
       "  </tbody>\n",
       "</table>\n",
       "<p>5 rows × 28 columns</p>\n",
       "</div>"
      ],
      "text/plain": [
       "     ID     Matricula  Ano letivo  Periodo Letivo Periodo na Matriz  \\\n",
       "0  1828  201615500018        2016               1                 1   \n",
       "1  1829  201615500018        2016               1                 1   \n",
       "2  1830  201615500018        2016               1                 1   \n",
       "3  1831  201615500018        2016               1                 1   \n",
       "4  1832  201615500018        2016               1                 1   \n",
       "\n",
       "  Codigo do Componente Descricao do Componente  CH do Componente Nota  \\\n",
       "0             TIN.0003                   Artes                67   76   \n",
       "1             TIN.0022              Biologia I                67   75   \n",
       "2             TIN.0112       Educacao Fisica I                67   92   \n",
       "3             TIN.0086             Filosofia I                33   88   \n",
       "4             TIN.0125                Fisica I                67   89   \n",
       "\n",
       "   % Frequencia  ... Faixa de Renda (SISTEC)  Forma de Ingresso  \\\n",
       "0           100  ...              0<RFP<=0,5               PSCT   \n",
       "1            99  ...              0<RFP<=0,5               PSCT   \n",
       "2           100  ...              0<RFP<=0,5               PSCT   \n",
       "3            98  ...              0<RFP<=0,5               PSCT   \n",
       "4           100  ...              0<RFP<=0,5               PSCT   \n",
       "\n",
       "    Naturalidade                           Nome da Escola de Origem  \\\n",
       "0  Monteiro - PB  E.M.E.F.II Professora Maria do Socorro Aragao ...   \n",
       "1  Monteiro - PB  E.M.E.F.II Professora Maria do Socorro Aragao ...   \n",
       "2  Monteiro - PB  E.M.E.F.II Professora Maria do Socorro Aragao ...   \n",
       "3  Monteiro - PB  E.M.E.F.II Professora Maria do Socorro Aragao ...   \n",
       "4  Monteiro - PB  E.M.E.F.II Professora Maria do Socorro Aragao ...   \n",
       "\n",
       "  Periodo de Ingresso Sexo Situacao no Curso Tipo Escola de Origem  \\\n",
       "0                   1    F         Concluido               Publica   \n",
       "1                   1    F         Concluido               Publica   \n",
       "2                   1    F         Concluido               Publica   \n",
       "3                   1    F         Concluido               Publica   \n",
       "4                   1    F         Concluido               Publica   \n",
       "\n",
       "  Ultimo Ano/Periodo Letivo Zona Residencial do Aluno  \n",
       "0                    2018/1                     Rural  \n",
       "1                    2018/1                     Rural  \n",
       "2                    2018/1                     Rural  \n",
       "3                    2018/1                     Rural  \n",
       "4                    2018/1                     Rural  \n",
       "\n",
       "[5 rows x 28 columns]"
      ]
     },
     "execution_count": 118,
     "metadata": {},
     "output_type": "execute_result"
    }
   ],
   "source": [
    "dfs.head()"
   ]
  },
  {
   "cell_type": "code",
   "execution_count": 119,
   "metadata": {},
   "outputs": [
    {
     "data": {
      "text/html": [
       "<div>\n",
       "<style scoped>\n",
       "    .dataframe tbody tr th:only-of-type {\n",
       "        vertical-align: middle;\n",
       "    }\n",
       "\n",
       "    .dataframe tbody tr th {\n",
       "        vertical-align: top;\n",
       "    }\n",
       "\n",
       "    .dataframe thead th {\n",
       "        text-align: right;\n",
       "    }\n",
       "</style>\n",
       "<table border=\"1\" class=\"dataframe\">\n",
       "  <thead>\n",
       "    <tr style=\"text-align: right;\">\n",
       "      <th></th>\n",
       "      <th>ID</th>\n",
       "      <th>Matricula</th>\n",
       "      <th>Ano letivo</th>\n",
       "      <th>Periodo Letivo</th>\n",
       "      <th>Periodo na Matriz</th>\n",
       "      <th>Codigo do Componente</th>\n",
       "      <th>Descricao do Componente</th>\n",
       "      <th>CH do Componente</th>\n",
       "      <th>Nota</th>\n",
       "      <th>% Frequencia</th>\n",
       "      <th>...</th>\n",
       "      <th>Faixa de Renda (SISTEC)</th>\n",
       "      <th>Forma de Ingresso</th>\n",
       "      <th>Naturalidade</th>\n",
       "      <th>Nome da Escola de Origem</th>\n",
       "      <th>Periodo de Ingresso</th>\n",
       "      <th>Sexo</th>\n",
       "      <th>Situacao no Curso</th>\n",
       "      <th>Tipo Escola de Origem</th>\n",
       "      <th>Ultimo Ano/Periodo Letivo</th>\n",
       "      <th>Zona Residencial do Aluno</th>\n",
       "    </tr>\n",
       "  </thead>\n",
       "  <tbody>\n",
       "    <tr>\n",
       "      <th>14683</th>\n",
       "      <td>1956</td>\n",
       "      <td>201915510007</td>\n",
       "      <td>2019</td>\n",
       "      <td>1</td>\n",
       "      <td>1</td>\n",
       "      <td>TIN.0003</td>\n",
       "      <td>Artes</td>\n",
       "      <td>67</td>\n",
       "      <td>90</td>\n",
       "      <td>100</td>\n",
       "      <td>...</td>\n",
       "      <td>1,0&lt;RFP&lt;=1,5</td>\n",
       "      <td>PSCT</td>\n",
       "      <td>Campina Grande - PB</td>\n",
       "      <td>Instituto Educacional Jose Pereira do Nascimento</td>\n",
       "      <td>1</td>\n",
       "      <td>F</td>\n",
       "      <td>Matriculado</td>\n",
       "      <td>Privada</td>\n",
       "      <td>2020/1</td>\n",
       "      <td>Urbana</td>\n",
       "    </tr>\n",
       "    <tr>\n",
       "      <th>14684</th>\n",
       "      <td>1957</td>\n",
       "      <td>201915510007</td>\n",
       "      <td>2019</td>\n",
       "      <td>1</td>\n",
       "      <td>1</td>\n",
       "      <td>TIN.0022</td>\n",
       "      <td>Biologia I</td>\n",
       "      <td>67</td>\n",
       "      <td>99</td>\n",
       "      <td>100</td>\n",
       "      <td>...</td>\n",
       "      <td>1,0&lt;RFP&lt;=1,5</td>\n",
       "      <td>PSCT</td>\n",
       "      <td>Campina Grande - PB</td>\n",
       "      <td>Instituto Educacional Jose Pereira do Nascimento</td>\n",
       "      <td>1</td>\n",
       "      <td>F</td>\n",
       "      <td>Matriculado</td>\n",
       "      <td>Privada</td>\n",
       "      <td>2020/1</td>\n",
       "      <td>Urbana</td>\n",
       "    </tr>\n",
       "    <tr>\n",
       "      <th>14685</th>\n",
       "      <td>1958</td>\n",
       "      <td>201915510007</td>\n",
       "      <td>2019</td>\n",
       "      <td>1</td>\n",
       "      <td>-</td>\n",
       "      <td>TIN.0973</td>\n",
       "      <td>Classe de Instrumento I - Contrabaixo Eletrico</td>\n",
       "      <td>33</td>\n",
       "      <td>78</td>\n",
       "      <td>100</td>\n",
       "      <td>...</td>\n",
       "      <td>1,0&lt;RFP&lt;=1,5</td>\n",
       "      <td>PSCT</td>\n",
       "      <td>Campina Grande - PB</td>\n",
       "      <td>Instituto Educacional Jose Pereira do Nascimento</td>\n",
       "      <td>1</td>\n",
       "      <td>F</td>\n",
       "      <td>Matriculado</td>\n",
       "      <td>Privada</td>\n",
       "      <td>2020/1</td>\n",
       "      <td>Urbana</td>\n",
       "    </tr>\n",
       "    <tr>\n",
       "      <th>14686</th>\n",
       "      <td>1959</td>\n",
       "      <td>201915510007</td>\n",
       "      <td>2019</td>\n",
       "      <td>1</td>\n",
       "      <td>1</td>\n",
       "      <td>TIN.0112</td>\n",
       "      <td>Educacao Fisica I</td>\n",
       "      <td>67</td>\n",
       "      <td>100</td>\n",
       "      <td>100</td>\n",
       "      <td>...</td>\n",
       "      <td>1,0&lt;RFP&lt;=1,5</td>\n",
       "      <td>PSCT</td>\n",
       "      <td>Campina Grande - PB</td>\n",
       "      <td>Instituto Educacional Jose Pereira do Nascimento</td>\n",
       "      <td>1</td>\n",
       "      <td>F</td>\n",
       "      <td>Matriculado</td>\n",
       "      <td>Privada</td>\n",
       "      <td>2020/1</td>\n",
       "      <td>Urbana</td>\n",
       "    </tr>\n",
       "    <tr>\n",
       "      <th>14687</th>\n",
       "      <td>1960</td>\n",
       "      <td>201915510007</td>\n",
       "      <td>2019</td>\n",
       "      <td>1</td>\n",
       "      <td>1</td>\n",
       "      <td>TIN.0086</td>\n",
       "      <td>Filosofia I</td>\n",
       "      <td>33</td>\n",
       "      <td>97</td>\n",
       "      <td>100</td>\n",
       "      <td>...</td>\n",
       "      <td>1,0&lt;RFP&lt;=1,5</td>\n",
       "      <td>PSCT</td>\n",
       "      <td>Campina Grande - PB</td>\n",
       "      <td>Instituto Educacional Jose Pereira do Nascimento</td>\n",
       "      <td>1</td>\n",
       "      <td>F</td>\n",
       "      <td>Matriculado</td>\n",
       "      <td>Privada</td>\n",
       "      <td>2020/1</td>\n",
       "      <td>Urbana</td>\n",
       "    </tr>\n",
       "    <tr>\n",
       "      <th>14688</th>\n",
       "      <td>1961</td>\n",
       "      <td>201915510007</td>\n",
       "      <td>2019</td>\n",
       "      <td>1</td>\n",
       "      <td>1</td>\n",
       "      <td>TIN.0125</td>\n",
       "      <td>Fisica I</td>\n",
       "      <td>67</td>\n",
       "      <td>96</td>\n",
       "      <td>100</td>\n",
       "      <td>...</td>\n",
       "      <td>1,0&lt;RFP&lt;=1,5</td>\n",
       "      <td>PSCT</td>\n",
       "      <td>Campina Grande - PB</td>\n",
       "      <td>Instituto Educacional Jose Pereira do Nascimento</td>\n",
       "      <td>1</td>\n",
       "      <td>F</td>\n",
       "      <td>Matriculado</td>\n",
       "      <td>Privada</td>\n",
       "      <td>2020/1</td>\n",
       "      <td>Urbana</td>\n",
       "    </tr>\n",
       "    <tr>\n",
       "      <th>14689</th>\n",
       "      <td>1962</td>\n",
       "      <td>201915510007</td>\n",
       "      <td>2019</td>\n",
       "      <td>1</td>\n",
       "      <td>1</td>\n",
       "      <td>TIN.0352</td>\n",
       "      <td>Geografia I</td>\n",
       "      <td>33</td>\n",
       "      <td>96</td>\n",
       "      <td>100</td>\n",
       "      <td>...</td>\n",
       "      <td>1,0&lt;RFP&lt;=1,5</td>\n",
       "      <td>PSCT</td>\n",
       "      <td>Campina Grande - PB</td>\n",
       "      <td>Instituto Educacional Jose Pereira do Nascimento</td>\n",
       "      <td>1</td>\n",
       "      <td>F</td>\n",
       "      <td>Matriculado</td>\n",
       "      <td>Privada</td>\n",
       "      <td>2020/1</td>\n",
       "      <td>Urbana</td>\n",
       "    </tr>\n",
       "    <tr>\n",
       "      <th>14690</th>\n",
       "      <td>1963</td>\n",
       "      <td>201915510007</td>\n",
       "      <td>2019</td>\n",
       "      <td>1</td>\n",
       "      <td>1</td>\n",
       "      <td>TIN.0559</td>\n",
       "      <td>Historia da Musica I</td>\n",
       "      <td>67</td>\n",
       "      <td>82</td>\n",
       "      <td>100</td>\n",
       "      <td>...</td>\n",
       "      <td>1,0&lt;RFP&lt;=1,5</td>\n",
       "      <td>PSCT</td>\n",
       "      <td>Campina Grande - PB</td>\n",
       "      <td>Instituto Educacional Jose Pereira do Nascimento</td>\n",
       "      <td>1</td>\n",
       "      <td>F</td>\n",
       "      <td>Matriculado</td>\n",
       "      <td>Privada</td>\n",
       "      <td>2020/1</td>\n",
       "      <td>Urbana</td>\n",
       "    </tr>\n",
       "    <tr>\n",
       "      <th>14691</th>\n",
       "      <td>1964</td>\n",
       "      <td>201915510007</td>\n",
       "      <td>2019</td>\n",
       "      <td>1</td>\n",
       "      <td>1</td>\n",
       "      <td>TIN.0351</td>\n",
       "      <td>Historia I</td>\n",
       "      <td>33</td>\n",
       "      <td>87</td>\n",
       "      <td>100</td>\n",
       "      <td>...</td>\n",
       "      <td>1,0&lt;RFP&lt;=1,5</td>\n",
       "      <td>PSCT</td>\n",
       "      <td>Campina Grande - PB</td>\n",
       "      <td>Instituto Educacional Jose Pereira do Nascimento</td>\n",
       "      <td>1</td>\n",
       "      <td>F</td>\n",
       "      <td>Matriculado</td>\n",
       "      <td>Privada</td>\n",
       "      <td>2020/1</td>\n",
       "      <td>Urbana</td>\n",
       "    </tr>\n",
       "    <tr>\n",
       "      <th>14692</th>\n",
       "      <td>1965</td>\n",
       "      <td>201915510007</td>\n",
       "      <td>2019</td>\n",
       "      <td>1</td>\n",
       "      <td>1</td>\n",
       "      <td>TIN.0322</td>\n",
       "      <td>Informatica</td>\n",
       "      <td>67</td>\n",
       "      <td>95</td>\n",
       "      <td>100</td>\n",
       "      <td>...</td>\n",
       "      <td>1,0&lt;RFP&lt;=1,5</td>\n",
       "      <td>PSCT</td>\n",
       "      <td>Campina Grande - PB</td>\n",
       "      <td>Instituto Educacional Jose Pereira do Nascimento</td>\n",
       "      <td>1</td>\n",
       "      <td>F</td>\n",
       "      <td>Matriculado</td>\n",
       "      <td>Privada</td>\n",
       "      <td>2020/1</td>\n",
       "      <td>Urbana</td>\n",
       "    </tr>\n",
       "    <tr>\n",
       "      <th>14693</th>\n",
       "      <td>1966</td>\n",
       "      <td>201915510007</td>\n",
       "      <td>2019</td>\n",
       "      <td>1</td>\n",
       "      <td>-</td>\n",
       "      <td>TIN.0899</td>\n",
       "      <td>Instrumento I - Contrabaixo Eletrico</td>\n",
       "      <td>33</td>\n",
       "      <td>80</td>\n",
       "      <td>100</td>\n",
       "      <td>...</td>\n",
       "      <td>1,0&lt;RFP&lt;=1,5</td>\n",
       "      <td>PSCT</td>\n",
       "      <td>Campina Grande - PB</td>\n",
       "      <td>Instituto Educacional Jose Pereira do Nascimento</td>\n",
       "      <td>1</td>\n",
       "      <td>F</td>\n",
       "      <td>Matriculado</td>\n",
       "      <td>Privada</td>\n",
       "      <td>2020/1</td>\n",
       "      <td>Urbana</td>\n",
       "    </tr>\n",
       "    <tr>\n",
       "      <th>14694</th>\n",
       "      <td>1967</td>\n",
       "      <td>201915510007</td>\n",
       "      <td>2019</td>\n",
       "      <td>1</td>\n",
       "      <td>1</td>\n",
       "      <td>TIN.0001</td>\n",
       "      <td>Lingua Portuguesa e Literatura Brasileira I</td>\n",
       "      <td>100</td>\n",
       "      <td>92</td>\n",
       "      <td>100</td>\n",
       "      <td>...</td>\n",
       "      <td>1,0&lt;RFP&lt;=1,5</td>\n",
       "      <td>PSCT</td>\n",
       "      <td>Campina Grande - PB</td>\n",
       "      <td>Instituto Educacional Jose Pereira do Nascimento</td>\n",
       "      <td>1</td>\n",
       "      <td>F</td>\n",
       "      <td>Matriculado</td>\n",
       "      <td>Privada</td>\n",
       "      <td>2020/1</td>\n",
       "      <td>Urbana</td>\n",
       "    </tr>\n",
       "    <tr>\n",
       "      <th>14695</th>\n",
       "      <td>1968</td>\n",
       "      <td>201915510007</td>\n",
       "      <td>2019</td>\n",
       "      <td>1</td>\n",
       "      <td>1</td>\n",
       "      <td>TIN.0014</td>\n",
       "      <td>Matematica I</td>\n",
       "      <td>100</td>\n",
       "      <td>93</td>\n",
       "      <td>97</td>\n",
       "      <td>...</td>\n",
       "      <td>1,0&lt;RFP&lt;=1,5</td>\n",
       "      <td>PSCT</td>\n",
       "      <td>Campina Grande - PB</td>\n",
       "      <td>Instituto Educacional Jose Pereira do Nascimento</td>\n",
       "      <td>1</td>\n",
       "      <td>F</td>\n",
       "      <td>Matriculado</td>\n",
       "      <td>Privada</td>\n",
       "      <td>2020/1</td>\n",
       "      <td>Urbana</td>\n",
       "    </tr>\n",
       "    <tr>\n",
       "      <th>14696</th>\n",
       "      <td>1969</td>\n",
       "      <td>201915510007</td>\n",
       "      <td>2019</td>\n",
       "      <td>1</td>\n",
       "      <td>1</td>\n",
       "      <td>TIN.0888</td>\n",
       "      <td>Percepcao Musical I</td>\n",
       "      <td>33</td>\n",
       "      <td>80</td>\n",
       "      <td>100</td>\n",
       "      <td>...</td>\n",
       "      <td>1,0&lt;RFP&lt;=1,5</td>\n",
       "      <td>PSCT</td>\n",
       "      <td>Campina Grande - PB</td>\n",
       "      <td>Instituto Educacional Jose Pereira do Nascimento</td>\n",
       "      <td>1</td>\n",
       "      <td>F</td>\n",
       "      <td>Matriculado</td>\n",
       "      <td>Privada</td>\n",
       "      <td>2020/1</td>\n",
       "      <td>Urbana</td>\n",
       "    </tr>\n",
       "    <tr>\n",
       "      <th>14697</th>\n",
       "      <td>1970</td>\n",
       "      <td>201915510007</td>\n",
       "      <td>2019</td>\n",
       "      <td>1</td>\n",
       "      <td>1</td>\n",
       "      <td>TIN.0124</td>\n",
       "      <td>Quimica I</td>\n",
       "      <td>67</td>\n",
       "      <td>97</td>\n",
       "      <td>100</td>\n",
       "      <td>...</td>\n",
       "      <td>1,0&lt;RFP&lt;=1,5</td>\n",
       "      <td>PSCT</td>\n",
       "      <td>Campina Grande - PB</td>\n",
       "      <td>Instituto Educacional Jose Pereira do Nascimento</td>\n",
       "      <td>1</td>\n",
       "      <td>F</td>\n",
       "      <td>Matriculado</td>\n",
       "      <td>Privada</td>\n",
       "      <td>2020/1</td>\n",
       "      <td>Urbana</td>\n",
       "    </tr>\n",
       "    <tr>\n",
       "      <th>14698</th>\n",
       "      <td>1971</td>\n",
       "      <td>201915510007</td>\n",
       "      <td>2019</td>\n",
       "      <td>1</td>\n",
       "      <td>1</td>\n",
       "      <td>TIN.0090</td>\n",
       "      <td>Sociologia I</td>\n",
       "      <td>33</td>\n",
       "      <td>89</td>\n",
       "      <td>100</td>\n",
       "      <td>...</td>\n",
       "      <td>1,0&lt;RFP&lt;=1,5</td>\n",
       "      <td>PSCT</td>\n",
       "      <td>Campina Grande - PB</td>\n",
       "      <td>Instituto Educacional Jose Pereira do Nascimento</td>\n",
       "      <td>1</td>\n",
       "      <td>F</td>\n",
       "      <td>Matriculado</td>\n",
       "      <td>Privada</td>\n",
       "      <td>2020/1</td>\n",
       "      <td>Urbana</td>\n",
       "    </tr>\n",
       "    <tr>\n",
       "      <th>14699</th>\n",
       "      <td>1972</td>\n",
       "      <td>201915510007</td>\n",
       "      <td>2019</td>\n",
       "      <td>1</td>\n",
       "      <td>1</td>\n",
       "      <td>TIN.0253</td>\n",
       "      <td>Teoria Musical I</td>\n",
       "      <td>33</td>\n",
       "      <td>85</td>\n",
       "      <td>98</td>\n",
       "      <td>...</td>\n",
       "      <td>1,0&lt;RFP&lt;=1,5</td>\n",
       "      <td>PSCT</td>\n",
       "      <td>Campina Grande - PB</td>\n",
       "      <td>Instituto Educacional Jose Pereira do Nascimento</td>\n",
       "      <td>1</td>\n",
       "      <td>F</td>\n",
       "      <td>Matriculado</td>\n",
       "      <td>Privada</td>\n",
       "      <td>2020/1</td>\n",
       "      <td>Urbana</td>\n",
       "    </tr>\n",
       "  </tbody>\n",
       "</table>\n",
       "<p>17 rows × 28 columns</p>\n",
       "</div>"
      ],
      "text/plain": [
       "         ID     Matricula  Ano letivo  Periodo Letivo Periodo na Matriz  \\\n",
       "14683  1956  201915510007        2019               1                 1   \n",
       "14684  1957  201915510007        2019               1                 1   \n",
       "14685  1958  201915510007        2019               1                 -   \n",
       "14686  1959  201915510007        2019               1                 1   \n",
       "14687  1960  201915510007        2019               1                 1   \n",
       "14688  1961  201915510007        2019               1                 1   \n",
       "14689  1962  201915510007        2019               1                 1   \n",
       "14690  1963  201915510007        2019               1                 1   \n",
       "14691  1964  201915510007        2019               1                 1   \n",
       "14692  1965  201915510007        2019               1                 1   \n",
       "14693  1966  201915510007        2019               1                 -   \n",
       "14694  1967  201915510007        2019               1                 1   \n",
       "14695  1968  201915510007        2019               1                 1   \n",
       "14696  1969  201915510007        2019               1                 1   \n",
       "14697  1970  201915510007        2019               1                 1   \n",
       "14698  1971  201915510007        2019               1                 1   \n",
       "14699  1972  201915510007        2019               1                 1   \n",
       "\n",
       "      Codigo do Componente                         Descricao do Componente  \\\n",
       "14683             TIN.0003                                           Artes   \n",
       "14684             TIN.0022                                      Biologia I   \n",
       "14685             TIN.0973  Classe de Instrumento I - Contrabaixo Eletrico   \n",
       "14686             TIN.0112                               Educacao Fisica I   \n",
       "14687             TIN.0086                                     Filosofia I   \n",
       "14688             TIN.0125                                        Fisica I   \n",
       "14689             TIN.0352                                     Geografia I   \n",
       "14690             TIN.0559                            Historia da Musica I   \n",
       "14691             TIN.0351                                      Historia I   \n",
       "14692             TIN.0322                                     Informatica   \n",
       "14693             TIN.0899            Instrumento I - Contrabaixo Eletrico   \n",
       "14694             TIN.0001     Lingua Portuguesa e Literatura Brasileira I   \n",
       "14695             TIN.0014                                    Matematica I   \n",
       "14696             TIN.0888                             Percepcao Musical I   \n",
       "14697             TIN.0124                                       Quimica I   \n",
       "14698             TIN.0090                                    Sociologia I   \n",
       "14699             TIN.0253                                Teoria Musical I   \n",
       "\n",
       "       CH do Componente Nota  % Frequencia  ... Faixa de Renda (SISTEC)  \\\n",
       "14683                67   90           100  ...            1,0<RFP<=1,5   \n",
       "14684                67   99           100  ...            1,0<RFP<=1,5   \n",
       "14685                33   78           100  ...            1,0<RFP<=1,5   \n",
       "14686                67  100           100  ...            1,0<RFP<=1,5   \n",
       "14687                33   97           100  ...            1,0<RFP<=1,5   \n",
       "14688                67   96           100  ...            1,0<RFP<=1,5   \n",
       "14689                33   96           100  ...            1,0<RFP<=1,5   \n",
       "14690                67   82           100  ...            1,0<RFP<=1,5   \n",
       "14691                33   87           100  ...            1,0<RFP<=1,5   \n",
       "14692                67   95           100  ...            1,0<RFP<=1,5   \n",
       "14693                33   80           100  ...            1,0<RFP<=1,5   \n",
       "14694               100   92           100  ...            1,0<RFP<=1,5   \n",
       "14695               100   93            97  ...            1,0<RFP<=1,5   \n",
       "14696                33   80           100  ...            1,0<RFP<=1,5   \n",
       "14697                67   97           100  ...            1,0<RFP<=1,5   \n",
       "14698                33   89           100  ...            1,0<RFP<=1,5   \n",
       "14699                33   85            98  ...            1,0<RFP<=1,5   \n",
       "\n",
       "       Forma de Ingresso         Naturalidade  \\\n",
       "14683               PSCT  Campina Grande - PB   \n",
       "14684               PSCT  Campina Grande - PB   \n",
       "14685               PSCT  Campina Grande - PB   \n",
       "14686               PSCT  Campina Grande - PB   \n",
       "14687               PSCT  Campina Grande - PB   \n",
       "14688               PSCT  Campina Grande - PB   \n",
       "14689               PSCT  Campina Grande - PB   \n",
       "14690               PSCT  Campina Grande - PB   \n",
       "14691               PSCT  Campina Grande - PB   \n",
       "14692               PSCT  Campina Grande - PB   \n",
       "14693               PSCT  Campina Grande - PB   \n",
       "14694               PSCT  Campina Grande - PB   \n",
       "14695               PSCT  Campina Grande - PB   \n",
       "14696               PSCT  Campina Grande - PB   \n",
       "14697               PSCT  Campina Grande - PB   \n",
       "14698               PSCT  Campina Grande - PB   \n",
       "14699               PSCT  Campina Grande - PB   \n",
       "\n",
       "                               Nome da Escola de Origem Periodo de Ingresso  \\\n",
       "14683  Instituto Educacional Jose Pereira do Nascimento                   1   \n",
       "14684  Instituto Educacional Jose Pereira do Nascimento                   1   \n",
       "14685  Instituto Educacional Jose Pereira do Nascimento                   1   \n",
       "14686  Instituto Educacional Jose Pereira do Nascimento                   1   \n",
       "14687  Instituto Educacional Jose Pereira do Nascimento                   1   \n",
       "14688  Instituto Educacional Jose Pereira do Nascimento                   1   \n",
       "14689  Instituto Educacional Jose Pereira do Nascimento                   1   \n",
       "14690  Instituto Educacional Jose Pereira do Nascimento                   1   \n",
       "14691  Instituto Educacional Jose Pereira do Nascimento                   1   \n",
       "14692  Instituto Educacional Jose Pereira do Nascimento                   1   \n",
       "14693  Instituto Educacional Jose Pereira do Nascimento                   1   \n",
       "14694  Instituto Educacional Jose Pereira do Nascimento                   1   \n",
       "14695  Instituto Educacional Jose Pereira do Nascimento                   1   \n",
       "14696  Instituto Educacional Jose Pereira do Nascimento                   1   \n",
       "14697  Instituto Educacional Jose Pereira do Nascimento                   1   \n",
       "14698  Instituto Educacional Jose Pereira do Nascimento                   1   \n",
       "14699  Instituto Educacional Jose Pereira do Nascimento                   1   \n",
       "\n",
       "      Sexo Situacao no Curso Tipo Escola de Origem Ultimo Ano/Periodo Letivo  \\\n",
       "14683    F       Matriculado               Privada                    2020/1   \n",
       "14684    F       Matriculado               Privada                    2020/1   \n",
       "14685    F       Matriculado               Privada                    2020/1   \n",
       "14686    F       Matriculado               Privada                    2020/1   \n",
       "14687    F       Matriculado               Privada                    2020/1   \n",
       "14688    F       Matriculado               Privada                    2020/1   \n",
       "14689    F       Matriculado               Privada                    2020/1   \n",
       "14690    F       Matriculado               Privada                    2020/1   \n",
       "14691    F       Matriculado               Privada                    2020/1   \n",
       "14692    F       Matriculado               Privada                    2020/1   \n",
       "14693    F       Matriculado               Privada                    2020/1   \n",
       "14694    F       Matriculado               Privada                    2020/1   \n",
       "14695    F       Matriculado               Privada                    2020/1   \n",
       "14696    F       Matriculado               Privada                    2020/1   \n",
       "14697    F       Matriculado               Privada                    2020/1   \n",
       "14698    F       Matriculado               Privada                    2020/1   \n",
       "14699    F       Matriculado               Privada                    2020/1   \n",
       "\n",
       "      Zona Residencial do Aluno  \n",
       "14683                    Urbana  \n",
       "14684                    Urbana  \n",
       "14685                    Urbana  \n",
       "14686                    Urbana  \n",
       "14687                    Urbana  \n",
       "14688                    Urbana  \n",
       "14689                    Urbana  \n",
       "14690                    Urbana  \n",
       "14691                    Urbana  \n",
       "14692                    Urbana  \n",
       "14693                    Urbana  \n",
       "14694                    Urbana  \n",
       "14695                    Urbana  \n",
       "14696                    Urbana  \n",
       "14697                    Urbana  \n",
       "14698                    Urbana  \n",
       "14699                    Urbana  \n",
       "\n",
       "[17 rows x 28 columns]"
      ]
     },
     "execution_count": 119,
     "metadata": {},
     "output_type": "execute_result"
    }
   ],
   "source": [
    "dfs[dfs.Matricula == 201915510007]"
   ]
  },
  {
   "cell_type": "markdown",
   "metadata": {},
   "source": [
    "### Estatística dos valores dos dados"
   ]
  },
  {
   "cell_type": "code",
   "execution_count": 120,
   "metadata": {},
   "outputs": [
    {
     "data": {
      "text/html": [
       "<div>\n",
       "<style scoped>\n",
       "    .dataframe tbody tr th:only-of-type {\n",
       "        vertical-align: middle;\n",
       "    }\n",
       "\n",
       "    .dataframe tbody tr th {\n",
       "        vertical-align: top;\n",
       "    }\n",
       "\n",
       "    .dataframe thead th {\n",
       "        text-align: right;\n",
       "    }\n",
       "</style>\n",
       "<table border=\"1\" class=\"dataframe\">\n",
       "  <thead>\n",
       "    <tr style=\"text-align: right;\">\n",
       "      <th></th>\n",
       "      <th>ID</th>\n",
       "      <th>Matricula</th>\n",
       "      <th>Ano letivo</th>\n",
       "      <th>Periodo Letivo</th>\n",
       "      <th>CH do Componente</th>\n",
       "      <th>% Frequencia</th>\n",
       "      <th>Ano de Ingresso</th>\n",
       "      <th>Periodo de Ingresso</th>\n",
       "    </tr>\n",
       "  </thead>\n",
       "  <tbody>\n",
       "    <tr>\n",
       "      <th>count</th>\n",
       "      <td>16204.000000</td>\n",
       "      <td>1.620400e+04</td>\n",
       "      <td>16204.000000</td>\n",
       "      <td>16204.0</td>\n",
       "      <td>16204.000000</td>\n",
       "      <td>16204.000000</td>\n",
       "      <td>16204.000000</td>\n",
       "      <td>16204.0</td>\n",
       "    </tr>\n",
       "    <tr>\n",
       "      <th>mean</th>\n",
       "      <td>13101.852197</td>\n",
       "      <td>2.017440e+11</td>\n",
       "      <td>2018.009689</td>\n",
       "      <td>1.0</td>\n",
       "      <td>62.216490</td>\n",
       "      <td>96.695322</td>\n",
       "      <td>2017.284189</td>\n",
       "      <td>1.0</td>\n",
       "    </tr>\n",
       "    <tr>\n",
       "      <th>std</th>\n",
       "      <td>7755.335180</td>\n",
       "      <td>9.943707e+07</td>\n",
       "      <td>0.967582</td>\n",
       "      <td>0.0</td>\n",
       "      <td>21.326628</td>\n",
       "      <td>9.024434</td>\n",
       "      <td>0.992918</td>\n",
       "      <td>0.0</td>\n",
       "    </tr>\n",
       "    <tr>\n",
       "      <th>min</th>\n",
       "      <td>26.000000</td>\n",
       "      <td>2.016155e+11</td>\n",
       "      <td>2016.000000</td>\n",
       "      <td>1.0</td>\n",
       "      <td>33.000000</td>\n",
       "      <td>0.000000</td>\n",
       "      <td>2016.000000</td>\n",
       "      <td>1.0</td>\n",
       "    </tr>\n",
       "    <tr>\n",
       "      <th>25%</th>\n",
       "      <td>6292.750000</td>\n",
       "      <td>2.017155e+11</td>\n",
       "      <td>2017.000000</td>\n",
       "      <td>1.0</td>\n",
       "      <td>33.000000</td>\n",
       "      <td>98.000000</td>\n",
       "      <td>2017.000000</td>\n",
       "      <td>1.0</td>\n",
       "    </tr>\n",
       "    <tr>\n",
       "      <th>50%</th>\n",
       "      <td>12981.500000</td>\n",
       "      <td>2.017155e+11</td>\n",
       "      <td>2018.000000</td>\n",
       "      <td>1.0</td>\n",
       "      <td>67.000000</td>\n",
       "      <td>100.000000</td>\n",
       "      <td>2017.000000</td>\n",
       "      <td>1.0</td>\n",
       "    </tr>\n",
       "    <tr>\n",
       "      <th>75%</th>\n",
       "      <td>19692.250000</td>\n",
       "      <td>2.018155e+11</td>\n",
       "      <td>2019.000000</td>\n",
       "      <td>1.0</td>\n",
       "      <td>67.000000</td>\n",
       "      <td>100.000000</td>\n",
       "      <td>2018.000000</td>\n",
       "      <td>1.0</td>\n",
       "    </tr>\n",
       "    <tr>\n",
       "      <th>max</th>\n",
       "      <td>26896.000000</td>\n",
       "      <td>2.020155e+11</td>\n",
       "      <td>2020.000000</td>\n",
       "      <td>1.0</td>\n",
       "      <td>133.000000</td>\n",
       "      <td>100.000000</td>\n",
       "      <td>2020.000000</td>\n",
       "      <td>1.0</td>\n",
       "    </tr>\n",
       "  </tbody>\n",
       "</table>\n",
       "</div>"
      ],
      "text/plain": [
       "                 ID     Matricula    Ano letivo  Periodo Letivo  \\\n",
       "count  16204.000000  1.620400e+04  16204.000000         16204.0   \n",
       "mean   13101.852197  2.017440e+11   2018.009689             1.0   \n",
       "std     7755.335180  9.943707e+07      0.967582             0.0   \n",
       "min       26.000000  2.016155e+11   2016.000000             1.0   \n",
       "25%     6292.750000  2.017155e+11   2017.000000             1.0   \n",
       "50%    12981.500000  2.017155e+11   2018.000000             1.0   \n",
       "75%    19692.250000  2.018155e+11   2019.000000             1.0   \n",
       "max    26896.000000  2.020155e+11   2020.000000             1.0   \n",
       "\n",
       "       CH do Componente  % Frequencia  Ano de Ingresso  Periodo de Ingresso  \n",
       "count      16204.000000  16204.000000     16204.000000              16204.0  \n",
       "mean          62.216490     96.695322      2017.284189                  1.0  \n",
       "std           21.326628      9.024434         0.992918                  0.0  \n",
       "min           33.000000      0.000000      2016.000000                  1.0  \n",
       "25%           33.000000     98.000000      2017.000000                  1.0  \n",
       "50%           67.000000    100.000000      2017.000000                  1.0  \n",
       "75%           67.000000    100.000000      2018.000000                  1.0  \n",
       "max          133.000000    100.000000      2020.000000                  1.0  "
      ]
     },
     "execution_count": 120,
     "metadata": {},
     "output_type": "execute_result"
    }
   ],
   "source": [
    "dfs.describe()"
   ]
  },
  {
   "cell_type": "markdown",
   "metadata": {},
   "source": [
    "### Tipos dos atributos"
   ]
  },
  {
   "cell_type": "code",
   "execution_count": 121,
   "metadata": {},
   "outputs": [
    {
     "name": "stdout",
     "output_type": "stream",
     "text": [
      "<class 'pandas.core.frame.DataFrame'>\n",
      "RangeIndex: 16204 entries, 0 to 16203\n",
      "Data columns (total 28 columns):\n",
      " #   Column                     Non-Null Count  Dtype \n",
      "---  ------                     --------------  ----- \n",
      " 0   ID                         16204 non-null  int64 \n",
      " 1   Matricula                  16204 non-null  int64 \n",
      " 2   Ano letivo                 16204 non-null  int64 \n",
      " 3   Periodo Letivo             16204 non-null  int64 \n",
      " 4   Periodo na Matriz          16204 non-null  object\n",
      " 5   Codigo do Componente       16204 non-null  object\n",
      " 6   Descricao do Componente    16204 non-null  object\n",
      " 7   CH do Componente           16204 non-null  int64 \n",
      " 8   Nota                       16204 non-null  object\n",
      " 9   % Frequencia               16204 non-null  int64 \n",
      " 10  Situacao no Diario         16204 non-null  object\n",
      " 11  Ano de Ingresso            16204 non-null  int64 \n",
      " 12  Cor/Raca                   16204 non-null  object\n",
      " 13  Cota MEC                   16204 non-null  object\n",
      " 14  Cota SISTEC                16204 non-null  object\n",
      " 15  Curso                      16204 non-null  object\n",
      " 16  Data de Conclusao          16204 non-null  object\n",
      " 17  Data de Nascimento         16204 non-null  object\n",
      " 18  Faixa de Renda (SISTEC)    16204 non-null  object\n",
      " 19  Forma de Ingresso          16204 non-null  object\n",
      " 20  Naturalidade               16204 non-null  object\n",
      " 21  Nome da Escola de Origem   16204 non-null  object\n",
      " 22  Periodo de Ingresso        16204 non-null  int64 \n",
      " 23  Sexo                       16204 non-null  object\n",
      " 24  Situacao no Curso          16204 non-null  object\n",
      " 25  Tipo Escola de Origem      16204 non-null  object\n",
      " 26  Ultimo Ano/Periodo Letivo  16204 non-null  object\n",
      " 27  Zona Residencial do Aluno  16204 non-null  object\n",
      "dtypes: int64(8), object(20)\n",
      "memory usage: 3.5+ MB\n"
     ]
    }
   ],
   "source": [
    "dfs.info()"
   ]
  },
  {
   "cell_type": "markdown",
   "metadata": {},
   "source": [
    "## Análise de cada atributo"
   ]
  },
  {
   "cell_type": "markdown",
   "metadata": {},
   "source": [
    "### Quantidade de instâncias de matrículas"
   ]
  },
  {
   "cell_type": "code",
   "execution_count": 122,
   "metadata": {},
   "outputs": [
    {
     "data": {
      "text/plain": [
       "492"
      ]
     },
     "execution_count": 122,
     "metadata": {},
     "output_type": "execute_result"
    }
   ],
   "source": [
    "dfs['Matricula'].nunique()"
   ]
  },
  {
   "cell_type": "code",
   "execution_count": 123,
   "metadata": {},
   "outputs": [
    {
     "data": {
      "text/plain": [
       "2019    6147\n",
       "2018    5308\n",
       "2017    3324\n",
       "2016    1379\n",
       "2020      46\n",
       "Name: Ano letivo, dtype: int64"
      ]
     },
     "execution_count": 123,
     "metadata": {},
     "output_type": "execute_result"
    }
   ],
   "source": [
    "dfs['Ano letivo'].value_counts()"
   ]
  },
  {
   "cell_type": "code",
   "execution_count": 124,
   "metadata": {},
   "outputs": [
    {
     "data": {
      "text/plain": [
       "1    16204\n",
       "Name: Periodo Letivo, dtype: int64"
      ]
     },
     "execution_count": 124,
     "metadata": {},
     "output_type": "execute_result"
    }
   ],
   "source": [
    "dfs['Periodo Letivo'].value_counts()"
   ]
  },
  {
   "cell_type": "code",
   "execution_count": 125,
   "metadata": {},
   "outputs": [
    {
     "data": {
      "text/plain": [
       "1    8156\n",
       "2    4877\n",
       "3    2356\n",
       "-     815\n",
       "Name: Periodo na Matriz, dtype: int64"
      ]
     },
     "execution_count": 125,
     "metadata": {},
     "output_type": "execute_result"
    }
   ],
   "source": [
    "dfs['Periodo na Matriz'].value_counts()"
   ]
  },
  {
   "cell_type": "code",
   "execution_count": 126,
   "metadata": {},
   "outputs": [
    {
     "data": {
      "text/plain": [
       "TIN.0014    565\n",
       "TIN.0125    562\n",
       "TIN.0001    536\n",
       "TIN.0351    535\n",
       "TIN.0124    532\n",
       "           ... \n",
       "TIN.0019      1\n",
       "TIN.0285      1\n",
       "TIN.0920      1\n",
       "TIN.0903      1\n",
       "TIN.0273      1\n",
       "Name: Codigo do Componente, Length: 169, dtype: int64"
      ]
     },
     "execution_count": 126,
     "metadata": {},
     "output_type": "execute_result"
    }
   ],
   "source": [
    "dfs['Codigo do Componente'].value_counts()"
   ]
  },
  {
   "cell_type": "code",
   "execution_count": 127,
   "metadata": {},
   "outputs": [
    {
     "data": {
      "text/plain": [
       "Matematica I                                   565\n",
       "Fisica I                                       562\n",
       "Lingua Portuguesa e Literatura Brasileira I    536\n",
       "Historia I                                     535\n",
       "Quimica I                                      532\n",
       "                                              ... \n",
       "Classe de Instrumento III - Flauta Doce          1\n",
       "Metodologia da Pesquisa Cientifica               1\n",
       "Classe de Instrumento I                          1\n",
       "Instrumento II - Flauta Doce                     1\n",
       "Instrumento I                                    1\n",
       "Name: Descricao do Componente, Length: 165, dtype: int64"
      ]
     },
     "execution_count": 127,
     "metadata": {},
     "output_type": "execute_result"
    }
   ],
   "source": [
    "dfs['Descricao do Componente'].value_counts()"
   ]
  },
  {
   "cell_type": "code",
   "execution_count": 128,
   "metadata": {},
   "outputs": [
    {
     "data": {
      "text/plain": [
       "Matematica I                                   211\n",
       "Fisica I                                       205\n",
       "Informatica                                    199\n",
       "Lingua Portuguesa e Literatura Brasileira I    198\n",
       "Historia I                                     198\n",
       "                                              ... \n",
       "Instrumento III - Flauta Doce                    1\n",
       "Trabalho e Educacao                              1\n",
       "Instrumento III - Contrabaixo Acustico           1\n",
       "Pratica de Conjunto I                            1\n",
       "Classe de Instrumento I                          1\n",
       "Name: Descricao do Componente, Length: 128, dtype: int64"
      ]
     },
     "execution_count": 128,
     "metadata": {},
     "output_type": "execute_result"
    }
   ],
   "source": [
    "dfs_musica = dfs[(dfs['Curso'].str.contains(\"551\"))]\n",
    "dfs_musica['Descricao do Componente'].value_counts()"
   ]
  },
  {
   "cell_type": "code",
   "execution_count": 129,
   "metadata": {},
   "outputs": [
    {
     "data": {
      "text/plain": [
       "67     9795\n",
       "33     4384\n",
       "100    1882\n",
       "133     143\n",
       "Name: CH do Componente, dtype: int64"
      ]
     },
     "execution_count": 129,
     "metadata": {},
     "output_type": "execute_result"
    }
   ],
   "source": [
    "dfs['CH do Componente'].value_counts()"
   ]
  },
  {
   "cell_type": "code",
   "execution_count": 130,
   "metadata": {},
   "outputs": [
    {
     "data": {
      "text/plain": [
       "70    614\n",
       "-     613\n",
       "80    581\n",
       "76    556\n",
       "83    556\n",
       "     ... \n",
       "8      13\n",
       "5      11\n",
       "1      11\n",
       "14      9\n",
       "2       7\n",
       "Name: Nota, Length: 102, dtype: int64"
      ]
     },
     "execution_count": 130,
     "metadata": {},
     "output_type": "execute_result"
    }
   ],
   "source": [
    "dfs['Nota'].value_counts()"
   ]
  },
  {
   "cell_type": "code",
   "execution_count": 131,
   "metadata": {},
   "outputs": [
    {
     "data": {
      "text/plain": [
       "100    9751\n",
       "98     2287\n",
       "95      813\n",
       "93      519\n",
       "96      507\n",
       "       ... \n",
       "28        1\n",
       "29        1\n",
       "19        1\n",
       "8         1\n",
       "37        1\n",
       "Name: % Frequencia, Length: 90, dtype: int64"
      ]
     },
     "execution_count": 131,
     "metadata": {},
     "output_type": "execute_result"
    }
   ],
   "source": [
    "dfs['% Frequencia'].value_counts()"
   ]
  },
  {
   "cell_type": "code",
   "execution_count": 132,
   "metadata": {},
   "outputs": [
    {
     "data": {
      "text/plain": [
       "Aprovado                      12846\n",
       "Cancelado                      1358\n",
       "Reprovado                      1141\n",
       "Aprovado - Retido na serie      859\n",
       "Name: Situacao no Diario, dtype: int64"
      ]
     },
     "execution_count": 132,
     "metadata": {},
     "output_type": "execute_result"
    }
   ],
   "source": [
    "dfs['Situacao no Diario'].value_counts()"
   ]
  },
  {
   "cell_type": "code",
   "execution_count": 133,
   "metadata": {},
   "outputs": [
    {
     "data": {
      "text/plain": [
       "2017    5790\n",
       "2018    4167\n",
       "2016    4034\n",
       "2019    2167\n",
       "2020      46\n",
       "Name: Ano de Ingresso, dtype: int64"
      ]
     },
     "execution_count": 133,
     "metadata": {},
     "output_type": "execute_result"
    }
   ],
   "source": [
    "dfs['Ano de Ingresso'].value_counts()"
   ]
  },
  {
   "cell_type": "code",
   "execution_count": 134,
   "metadata": {},
   "outputs": [
    {
     "data": {
      "text/plain": [
       "Parda            7629\n",
       "Branca           7405\n",
       "Nao declarada     819\n",
       "Preta             319\n",
       "Indigena           32\n",
       "Name: Cor/Raca, dtype: int64"
      ]
     },
     "execution_count": 134,
     "metadata": {},
     "output_type": "execute_result"
    }
   ],
   "source": [
    "dfs['Cor/Raca'].value_counts()"
   ]
  },
  {
   "cell_type": "code",
   "execution_count": 135,
   "metadata": {},
   "outputs": [
    {
     "data": {
      "text/plain": [
       "Nao se aplica                                                                             10303\n",
       "Oriundo de escola publica, com renda inferior a 1,5 S.M., declarado PPI                    2194\n",
       "Oriundo de escola publica, declarado PPI                                                   1684\n",
       "Oriundo de escola publica, com renda inferior a 1,5 S.M.                                   1309\n",
       "Oriundo de escola publica                                                                   607\n",
       "Oriundo de escola publica, declarado PCD                                                     61\n",
       "Oriundo de escola publica, com renda inferior a 1,5 S.M., declarado PCD                      31\n",
       "Oriundo de escola publica, com renda inferior a 1,5 S.M., declarado PPI, declarado PCD       15\n",
       "Name: Cota MEC, dtype: int64"
      ]
     },
     "execution_count": 135,
     "metadata": {},
     "output_type": "execute_result"
    }
   ],
   "source": [
    "dfs['Cota MEC'].value_counts()"
   ]
  },
  {
   "cell_type": "code",
   "execution_count": 136,
   "metadata": {},
   "outputs": [
    {
     "data": {
      "text/plain": [
       "Nao se aplica             7262\n",
       "Escola Publica            6561\n",
       "Cor/Raca                  2124\n",
       "Necessidades Especiais     257\n",
       "Name: Cota SISTEC, dtype: int64"
      ]
     },
     "execution_count": 136,
     "metadata": {},
     "output_type": "execute_result"
    }
   ],
   "source": [
    "dfs['Cota SISTEC'].value_counts()"
   ]
  },
  {
   "cell_type": "code",
   "execution_count": 137,
   "metadata": {},
   "outputs": [
    {
     "data": {
      "text/plain": [
       "551 - Tecnico em Instrumento Musical Integrado - Monteiro (CAMPUS MONTEIRO)                    6100\n",
       "550 - Tecnico em Manutencao e Suporte em Informatica Integrado - Monteiro (CAMPUS MONTEIRO)    6024\n",
       "552 - Tecnico em Edificacoes Integrado ao Ensino Medio - Monteiro (CAMPUS MONTEIRO)            4080\n",
       "Name: Curso, dtype: int64"
      ]
     },
     "execution_count": 137,
     "metadata": {},
     "output_type": "execute_result"
    }
   ],
   "source": [
    "dfs['Curso'].value_counts()"
   ]
  },
  {
   "cell_type": "code",
   "execution_count": 138,
   "metadata": {},
   "outputs": [
    {
     "data": {
      "text/plain": [
       "-             9763\n",
       "11/12/2019     956\n",
       "19/12/2019     763\n",
       "12/12/2019     759\n",
       "19/12/2018     704\n",
       "21/12/2018     459\n",
       "17/12/2019     430\n",
       "18/12/2019     428\n",
       "20/12/2018     353\n",
       "16/12/2019     257\n",
       "13/12/2019     206\n",
       "26/12/2018     153\n",
       "06/02/2020      67\n",
       "25/01/2019      52\n",
       "18/12/2018      52\n",
       "10/01/2020      51\n",
       "18/01/2019      51\n",
       "20/12/2019      51\n",
       "04/02/2019      51\n",
       "28/01/2020      51\n",
       "04/06/2019      50\n",
       "30/01/2019      50\n",
       "31/01/2019      50\n",
       "08/01/2019      50\n",
       "04/02/2020      50\n",
       "01/03/2019      50\n",
       "23/01/2019      50\n",
       "24/12/2018      50\n",
       "13/02/2019      49\n",
       "14/01/2020      49\n",
       "29/01/2019      49\n",
       "Name: Data de Conclusao, dtype: int64"
      ]
     },
     "execution_count": 138,
     "metadata": {},
     "output_type": "execute_result"
    }
   ],
   "source": [
    "dfs['Data de Conclusao'].value_counts()"
   ]
  },
  {
   "cell_type": "code",
   "execution_count": 139,
   "metadata": {},
   "outputs": [
    {
     "data": {
      "text/plain": [
       "19/01/2001    164\n",
       "26/03/2002    134\n",
       "10/05/2001    128\n",
       "18/12/2001    120\n",
       "26/09/2001    107\n",
       "             ... \n",
       "16/10/1996     14\n",
       "07/06/2001     14\n",
       "19/07/2001     14\n",
       "16/11/2000     14\n",
       "13/06/1997      7\n",
       "Name: Data de Nascimento, Length: 429, dtype: int64"
      ]
     },
     "execution_count": 139,
     "metadata": {},
     "output_type": "execute_result"
    }
   ],
   "source": [
    "dfs['Data de Nascimento'].value_counts()"
   ]
  },
  {
   "cell_type": "code",
   "execution_count": 140,
   "metadata": {},
   "outputs": [
    {
     "data": {
      "text/plain": [
       "0<RFP<=0,5       12582\n",
       "Nao declarado     1616\n",
       "0,5<RFP<=1        1402\n",
       "1,0<RFP<=1,5       413\n",
       "1,5<RFP<=2,5       158\n",
       "RFP>3,5             33\n",
       "Name: Faixa de Renda (SISTEC), dtype: int64"
      ]
     },
     "execution_count": 140,
     "metadata": {},
     "output_type": "execute_result"
    }
   ],
   "source": [
    "dfs['Faixa de Renda (SISTEC)'].value_counts()"
   ]
  },
  {
   "cell_type": "code",
   "execution_count": 141,
   "metadata": {},
   "outputs": [
    {
     "data": {
      "text/plain": [
       "PSCT                                    13777\n",
       "PSCT EEP (Inativa)                       1341\n",
       "PSCT -  AMPLA CONCORRENCIA (Inativa)     1040\n",
       "Transferencia Externa Ex-Oficio            39\n",
       "Transferencia de Instituicao                7\n",
       "Name: Forma de Ingresso, dtype: int64"
      ]
     },
     "execution_count": 141,
     "metadata": {},
     "output_type": "execute_result"
    }
   ],
   "source": [
    "dfs['Forma de Ingresso'].value_counts()"
   ]
  },
  {
   "cell_type": "code",
   "execution_count": 142,
   "metadata": {},
   "outputs": [
    {
     "data": {
      "text/plain": [
       "Monteiro - PB                      10467\n",
       "Sume - PB                           1818\n",
       "Campina Grande - PB                  702\n",
       "Sao Paulo - SP                       603\n",
       "Joao Pessoa - PB                     225\n",
       "Sertania - PE                        210\n",
       "Arcoverde - PE                       188\n",
       "Pesqueira - PE                       187\n",
       "Guarulhos - SP                       183\n",
       "Sao Jose do Egito - PE               157\n",
       "Brasilia - DF                        156\n",
       "Recife - PE                          120\n",
       "Serra Branca - PB                    110\n",
       "Sao Bernardo do Campo - SP            85\n",
       "Congo - PB                            85\n",
       "Caruaru - PE                          82\n",
       "Rio de Janeiro - RJ                   67\n",
       "Patos - PB                            54\n",
       "Sao Mateus do Sul - PR                54\n",
       "Jatauba - PE                          52\n",
       "Valinhos - SP                         50\n",
       "Braganca Paulista - SP                50\n",
       "Sao Vicente - SP                      36\n",
       "Guarabira - PB                        35\n",
       "Eunapolis - BA                        35\n",
       "Prata - PB                            35\n",
       "Itaquaquecetuba - SP                  34\n",
       "Paulo Afonso - BA                     34\n",
       "Araras - SP                           33\n",
       "Americana - SP                        32\n",
       "Maua - SP                             32\n",
       "Picui - PB                            31\n",
       "Suzano - SP                           17\n",
       "Carapicuiba - SP                      17\n",
       "Zabele - PB                           17\n",
       "Francisco Morato - SP                 17\n",
       "Sao Sebastiao do Umbuzeiro - PB       17\n",
       "Aroeiras - PB                         16\n",
       "Tuparetama - PE                       16\n",
       "Itapetim - PE                         15\n",
       "Petrolina - PE                        15\n",
       "Cabo de Santo Agostinho - PE          15\n",
       "Name: Naturalidade, dtype: int64"
      ]
     },
     "execution_count": 142,
     "metadata": {},
     "output_type": "execute_result"
    }
   ],
   "source": [
    "dfs['Naturalidade'].value_counts()"
   ]
  },
  {
   "cell_type": "code",
   "execution_count": 143,
   "metadata": {},
   "outputs": [
    {
     "data": {
      "text/plain": [
       "-                                                                                1613\n",
       "Colegio Nossa Senhora de Lourdes                                                 1215\n",
       "E.E.E.F. MIGUEL SANTA CRUZ                                                        906\n",
       "Escola Agrotecnica de Ensino Fundamental Deputado Evaldo Goncalves de Queiroz     593\n",
       "Instituto Educacional Jose Pereira do Nascimento                                  574\n",
       "                                                                                 ... \n",
       "ENE Padre Emidio Viana Correia                                                     15\n",
       "E.M.E.F. PROFa MARIA LAURICEIA FREITAS                                             15\n",
       "E.E.E.F.M. PROFaMARIA CELESTE DO NASCIMENTO                                        14\n",
       "CENTRO EDUCACIONAL AGUA AZUL - ESCOLA DO CAMPO                                     14\n",
       "Escola Municipal Professor Jose Mendes                                              7\n",
       "Name: Nome da Escola de Origem, Length: 179, dtype: int64"
      ]
     },
     "execution_count": 143,
     "metadata": {},
     "output_type": "execute_result"
    }
   ],
   "source": [
    "dfs['Nome da Escola de Origem'].value_counts()"
   ]
  },
  {
   "cell_type": "code",
   "execution_count": 144,
   "metadata": {},
   "outputs": [
    {
     "data": {
      "text/plain": [
       "1    16204\n",
       "Name: Periodo de Ingresso, dtype: int64"
      ]
     },
     "execution_count": 144,
     "metadata": {},
     "output_type": "execute_result"
    }
   ],
   "source": [
    "dfs['Periodo de Ingresso'].value_counts()"
   ]
  },
  {
   "cell_type": "code",
   "execution_count": 145,
   "metadata": {},
   "outputs": [
    {
     "data": {
      "text/plain": [
       "F    10757\n",
       "M     5447\n",
       "Name: Sexo, dtype: int64"
      ]
     },
     "execution_count": 145,
     "metadata": {},
     "output_type": "execute_result"
    }
   ],
   "source": [
    "dfs['Sexo'].value_counts()"
   ]
  },
  {
   "cell_type": "code",
   "execution_count": 146,
   "metadata": {},
   "outputs": [
    {
     "data": {
      "text/plain": [
       "Matriculado                 6905\n",
       "Concluido                   6441\n",
       "Transferido Externo         1907\n",
       "Cancelado                    386\n",
       "Evasao                       292\n",
       "Transferido Interno          140\n",
       "Cancelamento Compulsorio     133\n",
       "Name: Situacao no Curso, dtype: int64"
      ]
     },
     "execution_count": 146,
     "metadata": {},
     "output_type": "execute_result"
    }
   ],
   "source": [
    "dfs['Situacao no Curso'].value_counts()"
   ]
  },
  {
   "cell_type": "code",
   "execution_count": 147,
   "metadata": {},
   "outputs": [
    {
     "data": {
      "text/plain": [
       "Publica    13349\n",
       "Privada     2855\n",
       "Name: Tipo Escola de Origem, dtype: int64"
      ]
     },
     "execution_count": 147,
     "metadata": {},
     "output_type": "execute_result"
    }
   ],
   "source": [
    "dfs['Tipo Escola de Origem'].value_counts()"
   ]
  },
  {
   "cell_type": "code",
   "execution_count": 148,
   "metadata": {},
   "outputs": [
    {
     "data": {
      "text/plain": [
       "2020/1    7022\n",
       "2019/1    5427\n",
       "2018/1    3019\n",
       "2017/1     574\n",
       "2016/1     162\n",
       "Name: Ultimo Ano/Periodo Letivo, dtype: int64"
      ]
     },
     "execution_count": 148,
     "metadata": {},
     "output_type": "execute_result"
    }
   ],
   "source": [
    "dfs['Ultimo Ano/Periodo Letivo'].value_counts()"
   ]
  },
  {
   "cell_type": "code",
   "execution_count": 149,
   "metadata": {},
   "outputs": [
    {
     "data": {
      "text/plain": [
       "Urbana    13685\n",
       "Rural      2519\n",
       "Name: Zona Residencial do Aluno, dtype: int64"
      ]
     },
     "execution_count": 149,
     "metadata": {},
     "output_type": "execute_result"
    }
   ],
   "source": [
    "dfs['Zona Residencial do Aluno'].value_counts()"
   ]
  },
  {
   "cell_type": "code",
   "execution_count": 150,
   "metadata": {},
   "outputs": [],
   "source": [
    "dfs_cadastro_geral = dfs[['Matricula','Curso','Ano de Ingresso','Cor/Raca','Cota MEC','Cota SISTEC','Data de Nascimento','Faixa de Renda (SISTEC)','Nome da Escola de Origem','Sexo','Tipo Escola de Origem','Zona Residencial do Aluno','Situacao no Diario','Situacao no Curso','Codigo do Componente']]"
   ]
  },
  {
   "cell_type": "code",
   "execution_count": 151,
   "metadata": {},
   "outputs": [],
   "source": [
    "dfs_cadastro_geral = dfs_cadastro_geral.sort_values(by=\"Matricula\")"
   ]
  },
  {
   "cell_type": "code",
   "execution_count": 152,
   "metadata": {},
   "outputs": [
    {
     "data": {
      "text/html": [
       "<div>\n",
       "<style scoped>\n",
       "    .dataframe tbody tr th:only-of-type {\n",
       "        vertical-align: middle;\n",
       "    }\n",
       "\n",
       "    .dataframe tbody tr th {\n",
       "        vertical-align: top;\n",
       "    }\n",
       "\n",
       "    .dataframe thead th {\n",
       "        text-align: right;\n",
       "    }\n",
       "</style>\n",
       "<table border=\"1\" class=\"dataframe\">\n",
       "  <thead>\n",
       "    <tr style=\"text-align: right;\">\n",
       "      <th></th>\n",
       "      <th>Matricula</th>\n",
       "      <th>Curso</th>\n",
       "      <th>Ano de Ingresso</th>\n",
       "      <th>Cor/Raca</th>\n",
       "      <th>Cota MEC</th>\n",
       "      <th>Cota SISTEC</th>\n",
       "      <th>Data de Nascimento</th>\n",
       "      <th>Faixa de Renda (SISTEC)</th>\n",
       "      <th>Nome da Escola de Origem</th>\n",
       "      <th>Sexo</th>\n",
       "      <th>Tipo Escola de Origem</th>\n",
       "      <th>Zona Residencial do Aluno</th>\n",
       "      <th>Situacao no Diario</th>\n",
       "      <th>Situacao no Curso</th>\n",
       "      <th>Codigo do Componente</th>\n",
       "    </tr>\n",
       "  </thead>\n",
       "  <tbody>\n",
       "  </tbody>\n",
       "</table>\n",
       "</div>"
      ],
      "text/plain": [
       "Empty DataFrame\n",
       "Columns: [Matricula, Curso, Ano de Ingresso, Cor/Raca, Cota MEC, Cota SISTEC, Data de Nascimento, Faixa de Renda (SISTEC), Nome da Escola de Origem, Sexo, Tipo Escola de Origem, Zona Residencial do Aluno, Situacao no Diario, Situacao no Curso, Codigo do Componente]\n",
       "Index: []"
      ]
     },
     "execution_count": 152,
     "metadata": {},
     "output_type": "execute_result"
    }
   ],
   "source": [
    "dfs_cadastro_geral[dfs_cadastro_geral.Matricula == 201825130017]"
   ]
  },
  {
   "cell_type": "code",
   "execution_count": null,
   "metadata": {},
   "outputs": [],
   "source": []
  },
  {
   "cell_type": "code",
   "execution_count": null,
   "metadata": {},
   "outputs": [],
   "source": []
  }
 ],
 "metadata": {
  "kernelspec": {
   "display_name": "Python 3",
   "language": "python",
   "name": "python3"
  },
  "language_info": {
   "codemirror_mode": {
    "name": "ipython",
    "version": 3
   },
   "file_extension": ".py",
   "mimetype": "text/x-python",
   "name": "python",
   "nbconvert_exporter": "python",
   "pygments_lexer": "ipython3",
   "version": "3.6.9"
  }
 },
 "nbformat": 4,
 "nbformat_minor": 4
}
